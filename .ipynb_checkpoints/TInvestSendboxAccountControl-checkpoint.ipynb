{
 "cells": [
  {
   "cell_type": "code",
   "execution_count": 27,
   "id": "3c5d18b4-0586-4c02-bec5-cd987f83efba",
   "metadata": {},
   "outputs": [],
   "source": [
    "from decimal import Decimal\n",
    "\n",
    "from tinkoff.invest.sandbox.client import SandboxClient\n",
    "from tinkoff.invest import InstrumentIdType, InstrumentStatus, MoneyValue\n",
    "from tinkoff.invest.utils import decimal_to_quotation, quotation_to_decimal\n",
    "# InstrumentExchangeType"
   ]
  },
  {
   "cell_type": "code",
   "execution_count": 2,
   "id": "e9cf7a27-58b1-4fae-b01d-2003b99c6d83",
   "metadata": {},
   "outputs": [],
   "source": [
    "f = open('secrets/sandbox-invest-public-api.tinkoff.ru.txt', 'r')\n",
    "t_invest_token = f.read()\n",
    "f.close()"
   ]
  },
  {
   "cell_type": "markdown",
   "id": "b2d5bfca-2f4c-4e06-a64c-567e7baa2e91",
   "metadata": {},
   "source": [
    "To create a jupyter_notebook_config.py file, with all the defaults commented out, you can use the following command line:\n",
    "\n",
    "$ jupyter notebook --generate-config\n",
    "\n",
    "Open the file and search for c.NotebookApp.iopub_data_rate_limit\n",
    "\n",
    "Comment out the line c.NotebookApp.iopub_data_rate_limit = 1000000 and change it to a higher default rate. l used c.NotebookApp.iopub_data_rate_limit = 10000000"
   ]
  },
  {
   "cell_type": "code",
   "execution_count": null,
   "id": "c2647cb9-bd0f-4126-9ab7-1e35480e4340",
   "metadata": {},
   "outputs": [],
   "source": []
  },
  {
   "cell_type": "code",
   "execution_count": null,
   "id": "e1d2c472-2421-45c8-a8d9-b00fb2313b19",
   "metadata": {},
   "outputs": [],
   "source": []
  },
  {
   "cell_type": "code",
   "execution_count": null,
   "id": "a0abfdb3-bdf5-4d20-9901-14e79fa318a3",
   "metadata": {},
   "outputs": [],
   "source": []
  },
  {
   "cell_type": "markdown",
   "id": "3d72d250-49fc-4018-9dc9-6fb49c61b555",
   "metadata": {},
   "source": [
    "# Получение текущего состояния"
   ]
  },
  {
   "cell_type": "code",
   "execution_count": 29,
   "id": "cf86c791-3847-4466-ac60-edd21bffd295",
   "metadata": {},
   "outputs": [
    {
     "name": "stdout",
     "output_type": "stream",
     "text": [
      "GetInfoResponse(prem_status=False, qual_status=False, qualified_for_work_with=['derivative', 'structured_bonds', 'closed_fund', 'bond', 'structured_income_bonds', 'russian_shares', 'leverage', 'foreign_shares', 'foreign_etf', 'foreign_bond', 'option'], tariff='sandbox', user_id='', risk_level_code='')\n",
      "------\n",
      "GetAccountsResponse(accounts=[Account(id='675e84ac-36da-4c28-a737-4c82f8e1f3ee', type=<AccountType.ACCOUNT_TYPE_TINKOFF: 1>, name='SimpleMomentumBot1', status=<AccountStatus.ACCOUNT_STATUS_OPEN: 2>, opened_date=datetime.datetime(2025, 5, 17, 9, 55, 2, 998807, tzinfo=datetime.timezone.utc), closed_date=datetime.datetime(1970, 1, 1, 0, 0, tzinfo=datetime.timezone.utc), access_level=<AccessLevel.ACCOUNT_ACCESS_LEVEL_FULL_ACCESS: 1>)])\n",
      "------\n",
      "GetMarginAttributesResponse(liquid_portfolio=MoneyValue(currency='rub', units=50000, nano=0), starting_margin=MoneyValue(currency='rub', units=0, nano=0), minimal_margin=MoneyValue(currency='rub', units=0, nano=0), funds_sufficiency_level=Quotation(units=2, nano=0), amount_of_missing_funds=MoneyValue(currency='rub', units=0, nano=0), corrected_margin=MoneyValue(currency='rub', units=0, nano=0))\n",
      "------\n"
     ]
    }
   ],
   "source": [
    "with SandboxClient(t_invest_token) as client:\n",
    "        print(client.users.get_info())\n",
    "        print(\"------\")\n",
    "        print(client.users.get_accounts())\n",
    "        print(\"------\")\n",
    "        print(client.users.get_margin_attributes(account_id='675e84ac-36da-4c28-a737-4c82f8e1f3ee') )\n",
    "        print(\"------\")\n",
    "        #print(client.users.get_user_tariff() )"
   ]
  },
  {
   "cell_type": "code",
   "execution_count": 36,
   "id": "c33a4734-a86e-4604-9986-d7b4532881ec",
   "metadata": {},
   "outputs": [
    {
     "name": "stdout",
     "output_type": "stream",
     "text": [
      "[Future(figi='FUTGOLD09250', ticker='GDU5', class_code='SPBFUT', lot=1, currency='rub', klong=Quotation(units=2, nano=0), kshort=Quotation(units=2, nano=0), dlong=Quotation(units=0, nano=106400000), dshort=Quotation(units=0, nano=137800000), dlong_min=Quotation(units=0, nano=54700000), dshort_min=Quotation(units=0, nano=66700000), short_enabled_flag=True, name='GOLD-9.25 Золото', exchange='FORTS_EVENING', first_trade_date=datetime.datetime(2024, 9, 6, 7, 0, tzinfo=datetime.timezone.utc), last_trade_date=datetime.datetime(2025, 9, 19, 11, 5, tzinfo=datetime.timezone.utc), futures_type='DELIVERY_TYPE_CASH_SETTLEMENT', asset_type='TYPE_COMMODITY', basic_asset='Gold', basic_asset_size=Quotation(units=1, nano=0), country_of_risk='RU', country_of_risk_name='Российская Федерация', sector='SECTOR_MATERIALS', expiration_date=datetime.datetime(2025, 9, 19, 0, 0, tzinfo=datetime.timezone.utc), trading_status=<SecurityTradingStatus.SECURITY_TRADING_STATUS_BREAK_IN_TRADING: 4>, otc_flag=False, buy_available_flag=True, sell_available_flag=True, min_price_increment=Quotation(units=0, nano=100000000), api_trade_available_flag=True, uid='4b4d93cc-ab07-4fca-aedb-50fffe685895', real_exchange=<RealExchange.REAL_EXCHANGE_MOEX: 1>, position_uid='1fa66621-559d-4293-9657-ef5b28f53ed6', basic_asset_position_uid='', for_iis_flag=True, for_qual_investor_flag=False, weekend_flag=False, blocked_tca_flag=False, first_1min_candle_date=datetime.datetime(2024, 9, 16, 16, 43, tzinfo=datetime.timezone.utc), first_1day_candle_date=datetime.datetime(2024, 9, 16, 0, 0, tzinfo=datetime.timezone.utc), initial_margin_on_buy=MoneyValue(currency='rub', units=17743, nano=860000000), initial_margin_on_sell=MoneyValue(currency='rub', units=18049, nano=180000000), min_price_increment_amount=Quotation(units=7, nano=973570000), brand=BrandData(logo_name='GoldFut2.png', logo_base_color='#e1c071', text_color='#000000'), dlong_client=Quotation(units=0, nano=145700000), dshort_client=Quotation(units=0, nano=198200000))]\n"
     ]
    }
   ],
   "source": [
    "with SandboxClient(t_invest_token) as client:\n",
    "        #print(client.instruments.future_by(id=\"GDM5\", id_type=InstrumentIdType.INSTRUMENT_ID_TYPE_TICKER, class_code=\"future\"))\n",
    "        print( list(filter(lambda x: x.ticker == \"GDU5\",  client.instruments.futures().instruments)))\n",
    "        #print( client.instruments.futures())"
   ]
  },
  {
   "cell_type": "code",
   "execution_count": 22,
   "id": "255f19cc-b110-40c6-aa10-78c5ab49d0d9",
   "metadata": {},
   "outputs": [
    {
     "ename": "SyntaxError",
     "evalue": "incomplete input (3767948932.py, line 2)",
     "output_type": "error",
     "traceback": [
      "\u001b[1;36m  Cell \u001b[1;32mIn[22], line 2\u001b[1;36m\u001b[0m\n\u001b[1;33m    print(client.instruments.futures(instrument_status=InstrumentStatus.INSTRUMENT_STATUS_ALL, instrument_exchange=0)\u001b[0m\n\u001b[1;37m                                                                                                                     ^\u001b[0m\n\u001b[1;31mSyntaxError\u001b[0m\u001b[1;31m:\u001b[0m incomplete input\n"
     ]
    }
   ],
   "source": [
    "with SandboxClient(t_invest_token) as client:\n",
    "        print(client.instruments.futures(instrument_status=InstrumentStatus.INSTRUMENT_STATUS_ALL, instrument_exchange=0)"
   ]
  },
  {
   "cell_type": "code",
   "execution_count": null,
   "id": "c6916f74-e869-4d8e-b4ff-92faaa3c88d9",
   "metadata": {},
   "outputs": [],
   "source": []
  },
  {
   "cell_type": "code",
   "execution_count": null,
   "id": "d0ce4251-bbb7-4ea5-835c-5c254acd8985",
   "metadata": {},
   "outputs": [],
   "source": []
  },
  {
   "cell_type": "code",
   "execution_count": null,
   "id": "3d2f15a1-30a0-44fb-bfd3-84be3dee68b8",
   "metadata": {},
   "outputs": [],
   "source": []
  },
  {
   "cell_type": "markdown",
   "id": "a9f7a149-a2df-46d0-acb1-6694323f381d",
   "metadata": {},
   "source": [
    "# Добавление аккаунта в песочницу"
   ]
  },
  {
   "cell_type": "code",
   "execution_count": 18,
   "id": "1510d93c-a8a1-41ac-bc64-3a9ea6977d5b",
   "metadata": {},
   "outputs": [],
   "source": [
    "#with SandboxClient(t_invest_token) as client:\n",
    "#        client.sandbox.open_sandbox_account(name=\"SimpleMomentumBot1\")"
   ]
  },
  {
   "cell_type": "code",
   "execution_count": 30,
   "id": "3e64c1f2-1909-4a78-a956-714e2c0ca67e",
   "metadata": {},
   "outputs": [],
   "source": [
    "#with SandboxClient(t_invest_token) as client:\n",
    "#    money = decimal_to_quotation(Decimal(50000))    \n",
    "#    client.sandbox.sandbox_pay_in(account_id='675e84ac-36da-4c28-a737-4c82f8e1f3ee', \n",
    "#                                  amount=MoneyValue(units=money.units, nano=money.nano, currency='rub'))"
   ]
  },
  {
   "cell_type": "code",
   "execution_count": null,
   "id": "7ddefcc2-661c-4852-91ef-0624ab2ced4c",
   "metadata": {},
   "outputs": [],
   "source": []
  },
  {
   "cell_type": "markdown",
   "id": "39b66c5b-ca6b-4bf6-91a2-a0463cf75ac9",
   "metadata": {},
   "source": [
    "# Получение фьючерса"
   ]
  },
  {
   "cell_type": "code",
   "execution_count": null,
   "id": "561a8517-9d88-4020-9ef5-665df943d148",
   "metadata": {},
   "outputs": [],
   "source": []
  },
  {
   "cell_type": "code",
   "execution_count": null,
   "id": "29442290-a5dc-4e85-b73c-56368f11b195",
   "metadata": {},
   "outputs": [],
   "source": []
  },
  {
   "cell_type": "code",
   "execution_count": null,
   "id": "b86d1a1c-19bd-4c53-9dc3-84e87874b3df",
   "metadata": {},
   "outputs": [],
   "source": []
  },
  {
   "cell_type": "code",
   "execution_count": null,
   "id": "a593466a-c028-431b-a53e-eeba52a6392a",
   "metadata": {},
   "outputs": [],
   "source": []
  },
  {
   "cell_type": "code",
   "execution_count": null,
   "id": "0a28506f-2f55-4f08-ad37-c931b266d87b",
   "metadata": {},
   "outputs": [],
   "source": []
  },
  {
   "cell_type": "code",
   "execution_count": null,
   "id": "db1f7bf0-163d-4c18-a7ac-b148c7627e7a",
   "metadata": {},
   "outputs": [],
   "source": []
  }
 ],
 "metadata": {
  "kernelspec": {
   "display_name": "Python 3 (ipykernel)",
   "language": "python",
   "name": "python3"
  },
  "language_info": {
   "codemirror_mode": {
    "name": "ipython",
    "version": 3
   },
   "file_extension": ".py",
   "mimetype": "text/x-python",
   "name": "python",
   "nbconvert_exporter": "python",
   "pygments_lexer": "ipython3",
   "version": "3.12.7"
  }
 },
 "nbformat": 4,
 "nbformat_minor": 5
}
