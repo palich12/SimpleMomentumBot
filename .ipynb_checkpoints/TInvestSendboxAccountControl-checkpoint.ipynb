{
 "cells": [
  {
   "cell_type": "code",
   "execution_count": 99,
   "id": "3c5d18b4-0586-4c02-bec5-cd987f83efba",
   "metadata": {},
   "outputs": [],
   "source": [
    "import os\n",
    "from decimal import Decimal\n",
    "from datetime import datetime, time, timedelta\n",
    "import pytz\n",
    "import uuid\n",
    "from enum import IntEnum\n",
    "import math\n",
    "\n",
    "from dotenv import load_dotenv\n",
    "import pandas as pd\n",
    "import numpy as np\n",
    "\n",
    "from stock_indicators import indicators\n",
    "from stock_indicators.indicators.common.quote import Quote\n",
    "\n",
    "from tinkoff.invest.sandbox.client import SandboxClient\n",
    "from tinkoff.invest import InstrumentIdType, InstrumentStatus, MoneyValue, CandleInterval, OrderDirection, OrderType\n",
    "from tinkoff.invest.utils import decimal_to_quotation, quotation_to_decimal"
   ]
  },
  {
   "cell_type": "code",
   "execution_count": 2,
   "id": "e9cf7a27-58b1-4fae-b01d-2003b99c6d83",
   "metadata": {},
   "outputs": [],
   "source": [
    "load_dotenv()\n",
    "t_invest_token = os.getenv('TINVEST_TOKEN')\n",
    "account_name = 'SimpleMomentumBot1'"
   ]
  },
  {
   "cell_type": "markdown",
   "id": "b2d5bfca-2f4c-4e06-a64c-567e7baa2e91",
   "metadata": {},
   "source": [
    "To create a jupyter_notebook_config.py file, with all the defaults commented out, you can use the following command line:\n",
    "\n",
    "$ jupyter notebook --generate-config\n",
    "\n",
    "Open the file and search for c.NotebookApp.iopub_data_rate_limit\n",
    "\n",
    "Comment out the line c.NotebookApp.iopub_data_rate_limit = 1000000 and change it to a higher default rate. l used c.NotebookApp.iopub_data_rate_limit = 10000000"
   ]
  },
  {
   "cell_type": "code",
   "execution_count": null,
   "id": "c2647cb9-bd0f-4126-9ab7-1e35480e4340",
   "metadata": {},
   "outputs": [],
   "source": []
  },
  {
   "cell_type": "code",
   "execution_count": null,
   "id": "e1d2c472-2421-45c8-a8d9-b00fb2313b19",
   "metadata": {},
   "outputs": [],
   "source": []
  },
  {
   "cell_type": "code",
   "execution_count": null,
   "id": "a0abfdb3-bdf5-4d20-9901-14e79fa318a3",
   "metadata": {},
   "outputs": [],
   "source": []
  },
  {
   "cell_type": "markdown",
   "id": "3d72d250-49fc-4018-9dc9-6fb49c61b555",
   "metadata": {},
   "source": [
    "# Получение текущего состояния"
   ]
  },
  {
   "cell_type": "code",
   "execution_count": 3,
   "id": "1eb5cc31-91fc-4cb2-a92a-9b641b484681",
   "metadata": {},
   "outputs": [],
   "source": [
    "def get_account(client):\n",
    "    accounts = client.users.get_accounts()\n",
    "    for account in accounts.accounts:\n",
    "        if account.name == account_name:\n",
    "            return account\n",
    "    return None"
   ]
  },
  {
   "cell_type": "code",
   "execution_count": 4,
   "id": "cf86c791-3847-4466-ac60-edd21bffd295",
   "metadata": {},
   "outputs": [
    {
     "name": "stdout",
     "output_type": "stream",
     "text": [
      "GetInfoResponse(prem_status=False, qual_status=False, qualified_for_work_with=['derivative', 'structured_bonds', 'closed_fund', 'bond', 'structured_income_bonds', 'russian_shares', 'leverage', 'foreign_shares', 'foreign_etf', 'foreign_bond', 'option'], tariff='sandbox', user_id='', risk_level_code='')\n",
      "------\n",
      "GetAccountsResponse(accounts=[Account(id='675e84ac-36da-4c28-a737-4c82f8e1f3ee', type=<AccountType.ACCOUNT_TYPE_TINKOFF: 1>, name='SimpleMomentumBot1', status=<AccountStatus.ACCOUNT_STATUS_OPEN: 2>, opened_date=datetime.datetime(2025, 5, 17, 9, 55, 2, 998807, tzinfo=datetime.timezone.utc), closed_date=datetime.datetime(1970, 1, 1, 0, 0, tzinfo=datetime.timezone.utc), access_level=<AccessLevel.ACCOUNT_ACCESS_LEVEL_FULL_ACCESS: 1>)])\n",
      "------\n",
      "GetMarginAttributesResponse(liquid_portfolio=MoneyValue(currency='rub', units=50024, nano=237160000), starting_margin=MoneyValue(currency='rub', units=0, nano=0), minimal_margin=MoneyValue(currency='rub', units=0, nano=0), funds_sufficiency_level=Quotation(units=2, nano=0), amount_of_missing_funds=MoneyValue(currency='rub', units=0, nano=0), corrected_margin=MoneyValue(currency='rub', units=0, nano=0))\n",
      "------\n"
     ]
    }
   ],
   "source": [
    "with SandboxClient(t_invest_token) as client:\n",
    "    \n",
    "    print(client.users.get_info())\n",
    "    \n",
    "    print(\"------\")\n",
    "    print(client.users.get_accounts())\n",
    "    \n",
    "    print(\"------\")\n",
    "    print(client.users.get_margin_attributes(account_id=get_account(client).id) )\n",
    "    \n",
    "    print(\"------\")\n",
    "    #print(client.users.get_user_tariff() )"
   ]
  },
  {
   "cell_type": "code",
   "execution_count": null,
   "id": "c6916f74-e869-4d8e-b4ff-92faaa3c88d9",
   "metadata": {},
   "outputs": [],
   "source": []
  },
  {
   "cell_type": "code",
   "execution_count": null,
   "id": "d0ce4251-bbb7-4ea5-835c-5c254acd8985",
   "metadata": {},
   "outputs": [],
   "source": []
  },
  {
   "cell_type": "code",
   "execution_count": null,
   "id": "3d2f15a1-30a0-44fb-bfd3-84be3dee68b8",
   "metadata": {},
   "outputs": [],
   "source": []
  },
  {
   "cell_type": "markdown",
   "id": "a9f7a149-a2df-46d0-acb1-6694323f381d",
   "metadata": {},
   "source": [
    "# Добавление аккаунта в песочницу"
   ]
  },
  {
   "cell_type": "code",
   "execution_count": 5,
   "id": "1510d93c-a8a1-41ac-bc64-3a9ea6977d5b",
   "metadata": {},
   "outputs": [],
   "source": [
    "#with SandboxClient(t_invest_token) as client:\n",
    "#        client.sandbox.open_sandbox_account(name=\"SimpleMomentumBot1\")"
   ]
  },
  {
   "cell_type": "code",
   "execution_count": 92,
   "id": "3e64c1f2-1909-4a78-a956-714e2c0ca67e",
   "metadata": {},
   "outputs": [],
   "source": [
    "#with SandboxClient(t_invest_token) as client:\n",
    "#    money = decimal_to_quotation(Decimal(950000))    \n",
    "#    client.sandbox.sandbox_pay_in(account_id='675e84ac-36da-4c28-a737-4c82f8e1f3ee', \n",
    "#                                  amount=MoneyValue(units=money.units, nano=money.nano, currency='rub'))"
   ]
  },
  {
   "cell_type": "code",
   "execution_count": null,
   "id": "7ddefcc2-661c-4852-91ef-0624ab2ced4c",
   "metadata": {},
   "outputs": [],
   "source": []
  },
  {
   "cell_type": "markdown",
   "id": "39b66c5b-ca6b-4bf6-91a2-a0463cf75ac9",
   "metadata": {},
   "source": [
    "# Получение данных по тикеру"
   ]
  },
  {
   "cell_type": "code",
   "execution_count": 76,
   "id": "7c0b58f0-5725-4449-8d35-76a5722c58b8",
   "metadata": {},
   "outputs": [],
   "source": [
    "#ticker = \"GDM5\"\n",
    "ticker = \"MXM5\"\n",
    "#ticker = \"SBER\""
   ]
  },
  {
   "cell_type": "code",
   "execution_count": 77,
   "id": "f557cb33-3cd4-45d2-b7f4-757819ad0cb3",
   "metadata": {},
   "outputs": [],
   "source": [
    "def get_instrument_by_ticker(client, ticker):\n",
    "    for method in [\"shares\", \"bonds\", \"etfs\", \"currencies\", \"futures\"]:\n",
    "            for instrument in getattr(client.instruments, method)().instruments:\n",
    "                if instrument.ticker == ticker:\n",
    "                    return instrument\n",
    "    raise Exception('ticker not found')"
   ]
  },
  {
   "cell_type": "code",
   "execution_count": 78,
   "id": "bd8eb551-7f66-44b9-a410-cc2c845692a3",
   "metadata": {},
   "outputs": [],
   "source": [
    "with SandboxClient(t_invest_token) as client:\n",
    "    figi = get_instrument_by_ticker(client, ticker).figi"
   ]
  },
  {
   "cell_type": "code",
   "execution_count": 79,
   "id": "db2352f2-2335-4432-9cb3-e7d72c9f1152",
   "metadata": {},
   "outputs": [
    {
     "data": {
      "text/plain": [
       "'FUTMIX062500'"
      ]
     },
     "execution_count": 79,
     "metadata": {},
     "output_type": "execute_result"
    }
   ],
   "source": [
    "figi"
   ]
  },
  {
   "cell_type": "code",
   "execution_count": 80,
   "id": "c33a4734-a86e-4604-9986-d7b4532881ec",
   "metadata": {},
   "outputs": [],
   "source": [
    "data = []\n",
    "with SandboxClient(t_invest_token) as client:\n",
    "    figi = get_instrument_by_ticker(client, ticker).figi     \n",
    "    for candle in client.get_all_candles(\n",
    "        figi=figi,\n",
    "        #from_=pytz.UTC.localize(datetime.combine(datetime.now(), time.min) - timedelta(days=1)),\n",
    "        from_=pytz.UTC.localize(datetime(2025,3,1)),\n",
    "        interval=CandleInterval.CANDLE_INTERVAL_1_MIN,\n",
    "    ):\n",
    "        data += [[\n",
    "            candle.time,\n",
    "                float(quotation_to_decimal(candle.open)), \n",
    "                float(quotation_to_decimal(candle.close)),\n",
    "                float(quotation_to_decimal(candle.high)),\n",
    "                float(quotation_to_decimal(candle.low)),\n",
    "                candle.volume\n",
    "                ]]\n",
    "\n",
    "ticker_data_draft = pd.DataFrame(data, columns=['UTC', 'open', 'close','high','low','volume']) "
   ]
  },
  {
   "cell_type": "code",
   "execution_count": 81,
   "id": "561a8517-9d88-4020-9ef5-665df943d148",
   "metadata": {},
   "outputs": [
    {
     "data": {
      "text/html": [
       "<div>\n",
       "<style scoped>\n",
       "    .dataframe tbody tr th:only-of-type {\n",
       "        vertical-align: middle;\n",
       "    }\n",
       "\n",
       "    .dataframe tbody tr th {\n",
       "        vertical-align: top;\n",
       "    }\n",
       "\n",
       "    .dataframe thead th {\n",
       "        text-align: right;\n",
       "    }\n",
       "</style>\n",
       "<table border=\"1\" class=\"dataframe\">\n",
       "  <thead>\n",
       "    <tr style=\"text-align: right;\">\n",
       "      <th></th>\n",
       "      <th>UTC</th>\n",
       "      <th>open</th>\n",
       "      <th>close</th>\n",
       "      <th>high</th>\n",
       "      <th>low</th>\n",
       "      <th>volume</th>\n",
       "    </tr>\n",
       "  </thead>\n",
       "  <tbody>\n",
       "    <tr>\n",
       "      <th>0</th>\n",
       "      <td>2025-03-03 05:59:00+00:00</td>\n",
       "      <td>337275.0</td>\n",
       "      <td>339350.0</td>\n",
       "      <td>339425.0</td>\n",
       "      <td>337275.0</td>\n",
       "      <td>16</td>\n",
       "    </tr>\n",
       "    <tr>\n",
       "      <th>1</th>\n",
       "      <td>2025-03-03 06:00:00+00:00</td>\n",
       "      <td>339600.0</td>\n",
       "      <td>338675.0</td>\n",
       "      <td>339600.0</td>\n",
       "      <td>338625.0</td>\n",
       "      <td>23</td>\n",
       "    </tr>\n",
       "    <tr>\n",
       "      <th>2</th>\n",
       "      <td>2025-03-03 06:01:00+00:00</td>\n",
       "      <td>338600.0</td>\n",
       "      <td>338225.0</td>\n",
       "      <td>338600.0</td>\n",
       "      <td>338075.0</td>\n",
       "      <td>40</td>\n",
       "    </tr>\n",
       "    <tr>\n",
       "      <th>3</th>\n",
       "      <td>2025-03-03 06:02:00+00:00</td>\n",
       "      <td>338275.0</td>\n",
       "      <td>338250.0</td>\n",
       "      <td>338350.0</td>\n",
       "      <td>338150.0</td>\n",
       "      <td>22</td>\n",
       "    </tr>\n",
       "    <tr>\n",
       "      <th>4</th>\n",
       "      <td>2025-03-03 06:03:00+00:00</td>\n",
       "      <td>338025.0</td>\n",
       "      <td>337525.0</td>\n",
       "      <td>338025.0</td>\n",
       "      <td>337525.0</td>\n",
       "      <td>58</td>\n",
       "    </tr>\n",
       "    <tr>\n",
       "      <th>...</th>\n",
       "      <td>...</td>\n",
       "      <td>...</td>\n",
       "      <td>...</td>\n",
       "      <td>...</td>\n",
       "      <td>...</td>\n",
       "      <td>...</td>\n",
       "    </tr>\n",
       "    <tr>\n",
       "      <th>49541</th>\n",
       "      <td>2025-05-27 13:27:00+00:00</td>\n",
       "      <td>270575.0</td>\n",
       "      <td>270425.0</td>\n",
       "      <td>270600.0</td>\n",
       "      <td>270375.0</td>\n",
       "      <td>203</td>\n",
       "    </tr>\n",
       "    <tr>\n",
       "      <th>49542</th>\n",
       "      <td>2025-05-27 13:28:00+00:00</td>\n",
       "      <td>270450.0</td>\n",
       "      <td>270475.0</td>\n",
       "      <td>270475.0</td>\n",
       "      <td>270450.0</td>\n",
       "      <td>43</td>\n",
       "    </tr>\n",
       "    <tr>\n",
       "      <th>49543</th>\n",
       "      <td>2025-05-27 13:29:00+00:00</td>\n",
       "      <td>270475.0</td>\n",
       "      <td>270525.0</td>\n",
       "      <td>270625.0</td>\n",
       "      <td>270475.0</td>\n",
       "      <td>61</td>\n",
       "    </tr>\n",
       "    <tr>\n",
       "      <th>49544</th>\n",
       "      <td>2025-05-27 13:30:00+00:00</td>\n",
       "      <td>270525.0</td>\n",
       "      <td>270425.0</td>\n",
       "      <td>270550.0</td>\n",
       "      <td>270325.0</td>\n",
       "      <td>250</td>\n",
       "    </tr>\n",
       "    <tr>\n",
       "      <th>49545</th>\n",
       "      <td>2025-05-27 13:31:00+00:00</td>\n",
       "      <td>270400.0</td>\n",
       "      <td>270525.0</td>\n",
       "      <td>270675.0</td>\n",
       "      <td>270400.0</td>\n",
       "      <td>237</td>\n",
       "    </tr>\n",
       "  </tbody>\n",
       "</table>\n",
       "<p>49546 rows × 6 columns</p>\n",
       "</div>"
      ],
      "text/plain": [
       "                            UTC      open     close      high       low  \\\n",
       "0     2025-03-03 05:59:00+00:00  337275.0  339350.0  339425.0  337275.0   \n",
       "1     2025-03-03 06:00:00+00:00  339600.0  338675.0  339600.0  338625.0   \n",
       "2     2025-03-03 06:01:00+00:00  338600.0  338225.0  338600.0  338075.0   \n",
       "3     2025-03-03 06:02:00+00:00  338275.0  338250.0  338350.0  338150.0   \n",
       "4     2025-03-03 06:03:00+00:00  338025.0  337525.0  338025.0  337525.0   \n",
       "...                         ...       ...       ...       ...       ...   \n",
       "49541 2025-05-27 13:27:00+00:00  270575.0  270425.0  270600.0  270375.0   \n",
       "49542 2025-05-27 13:28:00+00:00  270450.0  270475.0  270475.0  270450.0   \n",
       "49543 2025-05-27 13:29:00+00:00  270475.0  270525.0  270625.0  270475.0   \n",
       "49544 2025-05-27 13:30:00+00:00  270525.0  270425.0  270550.0  270325.0   \n",
       "49545 2025-05-27 13:31:00+00:00  270400.0  270525.0  270675.0  270400.0   \n",
       "\n",
       "       volume  \n",
       "0          16  \n",
       "1          23  \n",
       "2          40  \n",
       "3          22  \n",
       "4          58  \n",
       "...       ...  \n",
       "49541     203  \n",
       "49542      43  \n",
       "49543      61  \n",
       "49544     250  \n",
       "49545     237  \n",
       "\n",
       "[49546 rows x 6 columns]"
      ]
     },
     "execution_count": 81,
     "metadata": {},
     "output_type": "execute_result"
    }
   ],
   "source": [
    "ticker_data_draft"
   ]
  },
  {
   "cell_type": "code",
   "execution_count": 83,
   "id": "f332fe1b-8889-40e8-a7c8-a76044d3f460",
   "metadata": {},
   "outputs": [],
   "source": [
    "ticker_data_draft.to_csv(\"data\\\\2025-\"+ticker+\"\\\\2025-\"+ticker+\".csv\", sep=';', encoding='utf-8', header=False)"
   ]
  },
  {
   "cell_type": "code",
   "execution_count": 84,
   "id": "9ba28acf-6178-4241-9a3a-c9c0fdebac52",
   "metadata": {},
   "outputs": [],
   "source": [
    "ticker_data = ticker_data_draft.copy()\n",
    "ticker_data.index = pd.DatetimeIndex(ticker_data_draft['UTC'])\n",
    "ticker_data.drop(['UTC'], axis=1, inplace=True)"
   ]
  },
  {
   "cell_type": "code",
   "execution_count": 85,
   "id": "29442290-a5dc-4e85-b73c-56368f11b195",
   "metadata": {},
   "outputs": [
    {
     "data": {
      "text/html": [
       "<div>\n",
       "<style scoped>\n",
       "    .dataframe tbody tr th:only-of-type {\n",
       "        vertical-align: middle;\n",
       "    }\n",
       "\n",
       "    .dataframe tbody tr th {\n",
       "        vertical-align: top;\n",
       "    }\n",
       "\n",
       "    .dataframe thead th {\n",
       "        text-align: right;\n",
       "    }\n",
       "</style>\n",
       "<table border=\"1\" class=\"dataframe\">\n",
       "  <thead>\n",
       "    <tr style=\"text-align: right;\">\n",
       "      <th></th>\n",
       "      <th>open</th>\n",
       "      <th>close</th>\n",
       "      <th>high</th>\n",
       "      <th>low</th>\n",
       "      <th>volume</th>\n",
       "    </tr>\n",
       "    <tr>\n",
       "      <th>UTC</th>\n",
       "      <th></th>\n",
       "      <th></th>\n",
       "      <th></th>\n",
       "      <th></th>\n",
       "      <th></th>\n",
       "    </tr>\n",
       "  </thead>\n",
       "  <tbody>\n",
       "    <tr>\n",
       "      <th>2025-03-03 05:59:00+00:00</th>\n",
       "      <td>337275.0</td>\n",
       "      <td>339350.0</td>\n",
       "      <td>339425.0</td>\n",
       "      <td>337275.0</td>\n",
       "      <td>16</td>\n",
       "    </tr>\n",
       "    <tr>\n",
       "      <th>2025-03-03 06:00:00+00:00</th>\n",
       "      <td>339600.0</td>\n",
       "      <td>338675.0</td>\n",
       "      <td>339600.0</td>\n",
       "      <td>338625.0</td>\n",
       "      <td>23</td>\n",
       "    </tr>\n",
       "    <tr>\n",
       "      <th>2025-03-03 06:01:00+00:00</th>\n",
       "      <td>338600.0</td>\n",
       "      <td>338225.0</td>\n",
       "      <td>338600.0</td>\n",
       "      <td>338075.0</td>\n",
       "      <td>40</td>\n",
       "    </tr>\n",
       "    <tr>\n",
       "      <th>2025-03-03 06:02:00+00:00</th>\n",
       "      <td>338275.0</td>\n",
       "      <td>338250.0</td>\n",
       "      <td>338350.0</td>\n",
       "      <td>338150.0</td>\n",
       "      <td>22</td>\n",
       "    </tr>\n",
       "    <tr>\n",
       "      <th>2025-03-03 06:03:00+00:00</th>\n",
       "      <td>338025.0</td>\n",
       "      <td>337525.0</td>\n",
       "      <td>338025.0</td>\n",
       "      <td>337525.0</td>\n",
       "      <td>58</td>\n",
       "    </tr>\n",
       "    <tr>\n",
       "      <th>...</th>\n",
       "      <td>...</td>\n",
       "      <td>...</td>\n",
       "      <td>...</td>\n",
       "      <td>...</td>\n",
       "      <td>...</td>\n",
       "    </tr>\n",
       "    <tr>\n",
       "      <th>2025-05-27 13:27:00+00:00</th>\n",
       "      <td>270575.0</td>\n",
       "      <td>270425.0</td>\n",
       "      <td>270600.0</td>\n",
       "      <td>270375.0</td>\n",
       "      <td>203</td>\n",
       "    </tr>\n",
       "    <tr>\n",
       "      <th>2025-05-27 13:28:00+00:00</th>\n",
       "      <td>270450.0</td>\n",
       "      <td>270475.0</td>\n",
       "      <td>270475.0</td>\n",
       "      <td>270450.0</td>\n",
       "      <td>43</td>\n",
       "    </tr>\n",
       "    <tr>\n",
       "      <th>2025-05-27 13:29:00+00:00</th>\n",
       "      <td>270475.0</td>\n",
       "      <td>270525.0</td>\n",
       "      <td>270625.0</td>\n",
       "      <td>270475.0</td>\n",
       "      <td>61</td>\n",
       "    </tr>\n",
       "    <tr>\n",
       "      <th>2025-05-27 13:30:00+00:00</th>\n",
       "      <td>270525.0</td>\n",
       "      <td>270425.0</td>\n",
       "      <td>270550.0</td>\n",
       "      <td>270325.0</td>\n",
       "      <td>250</td>\n",
       "    </tr>\n",
       "    <tr>\n",
       "      <th>2025-05-27 13:31:00+00:00</th>\n",
       "      <td>270400.0</td>\n",
       "      <td>270525.0</td>\n",
       "      <td>270675.0</td>\n",
       "      <td>270400.0</td>\n",
       "      <td>237</td>\n",
       "    </tr>\n",
       "  </tbody>\n",
       "</table>\n",
       "<p>49546 rows × 5 columns</p>\n",
       "</div>"
      ],
      "text/plain": [
       "                               open     close      high       low  volume\n",
       "UTC                                                                      \n",
       "2025-03-03 05:59:00+00:00  337275.0  339350.0  339425.0  337275.0      16\n",
       "2025-03-03 06:00:00+00:00  339600.0  338675.0  339600.0  338625.0      23\n",
       "2025-03-03 06:01:00+00:00  338600.0  338225.0  338600.0  338075.0      40\n",
       "2025-03-03 06:02:00+00:00  338275.0  338250.0  338350.0  338150.0      22\n",
       "2025-03-03 06:03:00+00:00  338025.0  337525.0  338025.0  337525.0      58\n",
       "...                             ...       ...       ...       ...     ...\n",
       "2025-05-27 13:27:00+00:00  270575.0  270425.0  270600.0  270375.0     203\n",
       "2025-05-27 13:28:00+00:00  270450.0  270475.0  270475.0  270450.0      43\n",
       "2025-05-27 13:29:00+00:00  270475.0  270525.0  270625.0  270475.0      61\n",
       "2025-05-27 13:30:00+00:00  270525.0  270425.0  270550.0  270325.0     250\n",
       "2025-05-27 13:31:00+00:00  270400.0  270525.0  270675.0  270400.0     237\n",
       "\n",
       "[49546 rows x 5 columns]"
      ]
     },
     "execution_count": 85,
     "metadata": {},
     "output_type": "execute_result"
    }
   ],
   "source": [
    "ticker_data"
   ]
  },
  {
   "cell_type": "code",
   "execution_count": null,
   "id": "a593466a-c028-431b-a53e-eeba52a6392a",
   "metadata": {},
   "outputs": [],
   "source": []
  },
  {
   "cell_type": "code",
   "execution_count": null,
   "id": "0a28506f-2f55-4f08-ad37-c931b266d87b",
   "metadata": {},
   "outputs": [],
   "source": []
  },
  {
   "cell_type": "code",
   "execution_count": null,
   "id": "db1f7bf0-163d-4c18-a7ac-b148c7627e7a",
   "metadata": {},
   "outputs": [],
   "source": []
  },
  {
   "cell_type": "markdown",
   "id": "9dede94d-2bbf-4352-ad64-0853134d84c6",
   "metadata": {},
   "source": [
    "# Размещение заявок"
   ]
  },
  {
   "cell_type": "code",
   "execution_count": 71,
   "id": "960f0de8-0fa5-4a01-93f8-265b1592a68f",
   "metadata": {},
   "outputs": [],
   "source": [
    "figi = \"FUTGOLD06250\"  # BBG004730ZJ9 - VTBR / BBG004730N88 - SBER / FUTGOLD06250 - GDM5"
   ]
  },
  {
   "cell_type": "code",
   "execution_count": 72,
   "id": "567aadfa-a5d1-441b-a615-90f9d02e240f",
   "metadata": {},
   "outputs": [],
   "source": [
    "def get_orders(client, account_id, figi):\n",
    "    return [ order for order in client.orders.get_orders(account_id=account_id).orders if order.figi == figi ]"
   ]
  },
  {
   "cell_type": "code",
   "execution_count": 73,
   "id": "fa960c63-ca31-4bb5-ae67-49c589847329",
   "metadata": {},
   "outputs": [],
   "source": [
    "def get_stop_orders(client, account_id, figi):\n",
    "    return [ order for order in client.stop_orders.get_stop_orders(account_id=account_id) if order.figi == figi ]"
   ]
  },
  {
   "cell_type": "code",
   "execution_count": 74,
   "id": "c5846ed0-0daa-4081-960c-8f2130a8134a",
   "metadata": {},
   "outputs": [],
   "source": [
    "def get_position( client, account_id, figi):\n",
    "    position = 0\n",
    "    balance = 0\n",
    "    for p in client.operations.get_portfolio(account_id=account_id).positions:\n",
    "        if p.figi == figi:\n",
    "            position = float(quotation_to_decimal(p.quantity))\n",
    "        elif p.figi == 'RUB000UTSTOM':\n",
    "            balance  = float(quotation_to_decimal(p.quantity))\n",
    "    return position, balance"
   ]
  },
  {
   "cell_type": "code",
   "execution_count": 75,
   "id": "af6570b9-122f-48f6-a28d-7577df40d26f",
   "metadata": {},
   "outputs": [
    {
     "name": "stdout",
     "output_type": "stream",
     "text": [
      "(0, 50016.34163)\n"
     ]
    }
   ],
   "source": [
    "with SandboxClient(t_invest_token) as client:\n",
    "    account = get_account(client)\n",
    "    print( get_position( client, account.id, figi) )"
   ]
  },
  {
   "cell_type": "code",
   "execution_count": 69,
   "id": "ad13fd74-97e3-4ec0-862a-5ad64b0f56de",
   "metadata": {},
   "outputs": [
    {
     "name": "stdout",
     "output_type": "stream",
     "text": [
      "GetTradingStatusesResponse(trading_statuses=[GetTradingStatusResponse(figi='FUTGOLD06250', trading_status=<SecurityTradingStatus.SECURITY_TRADING_STATUS_NORMAL_TRADING: 5>, limit_order_available_flag=True, market_order_available_flag=True, api_trade_available_flag=True, instrument_uid='180a72de-b0eb-43b0-9bec-7f719596323f', bestprice_order_available_flag=True, only_best_price=False)])\n"
     ]
    }
   ],
   "source": [
    "with SandboxClient(t_invest_token) as client:\n",
    "    statuses = client.market_data.get_trading_statuses(instrument_ids=[figi])\n",
    "    client.market_data.get_trading_status(figi=figi)\n",
    "    print(statuses)"
   ]
  },
  {
   "cell_type": "code",
   "execution_count": 35,
   "id": "06aeb76b-c21a-4605-bbed-bb8d3d34958c",
   "metadata": {},
   "outputs": [
    {
     "name": "stderr",
     "output_type": "stream",
     "text": [
      "c86a5bdfe1e44c9ce3788c2168ddfa82 GetStopOrders UNIMPLEMENTED 12001\n"
     ]
    },
    {
     "ename": "RequestError",
     "evalue": "(<StatusCode.UNIMPLEMENTED: (12, 'unimplemented')>, '12001', Metadata(tracking_id='c86a5bdfe1e44c9ce3788c2168ddfa82', ratelimit_limit='200, 200;w=60', ratelimit_remaining=197, ratelimit_reset=33, message='Method is unimplemented'))",
     "output_type": "error",
     "traceback": [
      "\u001b[1;31m---------------------------------------------------------------------------\u001b[0m",
      "\u001b[1;31m_InactiveRpcError\u001b[0m                         Traceback (most recent call last)",
      "File \u001b[1;32m~\\AppData\\Roaming\\Python\\Python312\\site-packages\\tinkoff\\invest\\_errors.py:23\u001b[0m, in \u001b[0;36mhandle_request_error.<locals>.decorator.<locals>.wrapper\u001b[1;34m(*args, **kwargs)\u001b[0m\n\u001b[0;32m     22\u001b[0m \u001b[38;5;28;01mtry\u001b[39;00m:\n\u001b[1;32m---> 23\u001b[0m     \u001b[38;5;28;01mreturn\u001b[39;00m func(\u001b[38;5;241m*\u001b[39margs, \u001b[38;5;241m*\u001b[39m\u001b[38;5;241m*\u001b[39mkwargs)\n\u001b[0;32m     24\u001b[0m \u001b[38;5;28;01mexcept\u001b[39;00m RpcError \u001b[38;5;28;01mas\u001b[39;00m e:\n",
      "File \u001b[1;32m~\\AppData\\Roaming\\Python\\Python312\\site-packages\\tinkoff\\invest\\services.py:2028\u001b[0m, in \u001b[0;36mStopOrdersService.get_stop_orders\u001b[1;34m(self, account_id, status, from_, to)\u001b[0m\n\u001b[0;32m   2027\u001b[0m     request\u001b[38;5;241m.\u001b[39mto \u001b[38;5;241m=\u001b[39m to\n\u001b[1;32m-> 2028\u001b[0m response, call \u001b[38;5;241m=\u001b[39m \u001b[38;5;28mself\u001b[39m\u001b[38;5;241m.\u001b[39mstub\u001b[38;5;241m.\u001b[39mGetStopOrders\u001b[38;5;241m.\u001b[39mwith_call(\n\u001b[0;32m   2029\u001b[0m     request\u001b[38;5;241m=\u001b[39m_grpc_helpers\u001b[38;5;241m.\u001b[39mdataclass_to_protobuff(\n\u001b[0;32m   2030\u001b[0m         request, stoporders_pb2\u001b[38;5;241m.\u001b[39mGetStopOrdersRequest()\n\u001b[0;32m   2031\u001b[0m     ),\n\u001b[0;32m   2032\u001b[0m     metadata\u001b[38;5;241m=\u001b[39m\u001b[38;5;28mself\u001b[39m\u001b[38;5;241m.\u001b[39mmetadata,\n\u001b[0;32m   2033\u001b[0m )\n\u001b[0;32m   2034\u001b[0m log_request(get_tracking_id_from_call(call), \u001b[38;5;124m\"\u001b[39m\u001b[38;5;124mGetStopOrders\u001b[39m\u001b[38;5;124m\"\u001b[39m)\n",
      "File \u001b[1;32m~\\AppData\\Roaming\\Python\\Python312\\site-packages\\grpc\\_channel.py:1198\u001b[0m, in \u001b[0;36m_UnaryUnaryMultiCallable.with_call\u001b[1;34m(self, request, timeout, metadata, credentials, wait_for_ready, compression)\u001b[0m\n\u001b[0;32m   1192\u001b[0m (\n\u001b[0;32m   1193\u001b[0m     state,\n\u001b[0;32m   1194\u001b[0m     call,\n\u001b[0;32m   1195\u001b[0m ) \u001b[38;5;241m=\u001b[39m \u001b[38;5;28mself\u001b[39m\u001b[38;5;241m.\u001b[39m_blocking(\n\u001b[0;32m   1196\u001b[0m     request, timeout, metadata, credentials, wait_for_ready, compression\n\u001b[0;32m   1197\u001b[0m )\n\u001b[1;32m-> 1198\u001b[0m \u001b[38;5;28;01mreturn\u001b[39;00m _end_unary_response_blocking(state, call, \u001b[38;5;28;01mTrue\u001b[39;00m, \u001b[38;5;28;01mNone\u001b[39;00m)\n",
      "File \u001b[1;32m~\\AppData\\Roaming\\Python\\Python312\\site-packages\\grpc\\_channel.py:1006\u001b[0m, in \u001b[0;36m_end_unary_response_blocking\u001b[1;34m(state, call, with_call, deadline)\u001b[0m\n\u001b[0;32m   1005\u001b[0m \u001b[38;5;28;01melse\u001b[39;00m:\n\u001b[1;32m-> 1006\u001b[0m     \u001b[38;5;28;01mraise\u001b[39;00m _InactiveRpcError(state)\n",
      "\u001b[1;31m_InactiveRpcError\u001b[0m: <_InactiveRpcError of RPC that terminated with:\n\tstatus = StatusCode.UNIMPLEMENTED\n\tdetails = \"12001\"\n\tdebug_error_string = \"UNKNOWN:Error received from peer  {grpc_message:\"12001\", grpc_status:12, created_time:\"2025-05-26T20:06:28.6112526+00:00\"}\"\n>",
      "\nThe above exception was the direct cause of the following exception:\n",
      "\u001b[1;31mRequestError\u001b[0m                              Traceback (most recent call last)",
      "Cell \u001b[1;32mIn[35], line 7\u001b[0m\n\u001b[0;32m      4\u001b[0m account \u001b[38;5;241m=\u001b[39m get_account(client)\n\u001b[0;32m      5\u001b[0m \u001b[38;5;66;03m#orders = get_orders(client, account.id, figi)\u001b[39;00m\n\u001b[0;32m      6\u001b[0m \u001b[38;5;66;03m#orders = get_stop_orders(client, account.id, figi)\u001b[39;00m\n\u001b[1;32m----> 7\u001b[0m \u001b[38;5;28mprint\u001b[39m( client\u001b[38;5;241m.\u001b[39mstop_orders\u001b[38;5;241m.\u001b[39mget_stop_orders(account_id\u001b[38;5;241m=\u001b[39maccount\u001b[38;5;241m.\u001b[39mid))\n",
      "File \u001b[1;32m~\\AppData\\Roaming\\Python\\Python312\\site-packages\\tinkoff\\invest\\_errors.py:41\u001b[0m, in \u001b[0;36mhandle_request_error.<locals>.decorator.<locals>.wrapper\u001b[1;34m(*args, **kwargs)\u001b[0m\n\u001b[0;32m     36\u001b[0m     \u001b[38;5;28;01mif\u001b[39;00m status_code \u001b[38;5;241m==\u001b[39m StatusCode\u001b[38;5;241m.\u001b[39mUNAUTHENTICATED:\n\u001b[0;32m     37\u001b[0m         \u001b[38;5;28;01mraise\u001b[39;00m UnauthenticatedError(\n\u001b[0;32m     38\u001b[0m             status_code, details, metadata\n\u001b[0;32m     39\u001b[0m         ) \u001b[38;5;28;01mfrom\u001b[39;00m \u001b[38;5;21;01me\u001b[39;00m\n\u001b[1;32m---> 41\u001b[0m     \u001b[38;5;28;01mraise\u001b[39;00m RequestError(status_code, details, metadata) \u001b[38;5;28;01mfrom\u001b[39;00m \u001b[38;5;21;01me\u001b[39;00m\n\u001b[0;32m     42\u001b[0m \u001b[38;5;28;01mraise\u001b[39;00m\n",
      "\u001b[1;31mRequestError\u001b[0m: (<StatusCode.UNIMPLEMENTED: (12, 'unimplemented')>, '12001', Metadata(tracking_id='c86a5bdfe1e44c9ce3788c2168ddfa82', ratelimit_limit='200, 200;w=60', ratelimit_remaining=197, ratelimit_reset=33, message='Method is unimplemented'))"
     ]
    }
   ],
   "source": [
    "# получаем заявки\n",
    "orders = None\n",
    "with SandboxClient(t_invest_token) as client:\n",
    "    account = get_account(client)\n",
    "    #orders = get_orders(client, account.id, figi)\n",
    "    #orders = get_stop_orders(client, account.id, figi)\n",
    "    print( client.stop_orders.get_stop_orders(account_id=account.id))"
   ]
  },
  {
   "cell_type": "code",
   "execution_count": 26,
   "id": "bb191c93-a0a7-4f11-9e92-ac73792a9386",
   "metadata": {},
   "outputs": [
    {
     "data": {
      "text/plain": [
       "[OrderState(order_id='0ec7ec3e-bb5e-479a-8455-6939690ef313', execution_report_status=<OrderExecutionReportStatus.EXECUTION_REPORT_STATUS_NEW: 4>, lots_requested=1, lots_executed=0, initial_order_price=MoneyValue(currency='rub', units=2000, nano=0), executed_order_price=MoneyValue(currency='rub', units=0, nano=0), total_order_amount=MoneyValue(currency='rub', units=2000, nano=0), average_position_price=MoneyValue(currency='rub', units=200, nano=0), initial_commission=MoneyValue(currency='rub', units=1, nano=0), executed_commission=MoneyValue(currency='rub', units=0, nano=0), figi='BBG004730N88', direction=<OrderDirection.ORDER_DIRECTION_BUY: 1>, initial_security_price=MoneyValue(currency='rub', units=200, nano=0), stages=[], service_commission=MoneyValue(currency='rub', units=0, nano=0), currency='rub', order_type=<OrderType.ORDER_TYPE_LIMIT: 1>, order_date=datetime.datetime(2025, 5, 26, 19, 24, 42, 228433, tzinfo=datetime.timezone.utc), instrument_uid='e6123145-9665-43e0-8413-cd61b8aa9b13', order_request_id='878848a4-0447-41f8-b1b8-05732fa96109')]"
      ]
     },
     "execution_count": 26,
     "metadata": {},
     "output_type": "execute_result"
    }
   ],
   "source": [
    "orders"
   ]
  },
  {
   "cell_type": "code",
   "execution_count": 95,
   "id": "3bc0b4e0-2783-4370-91ae-219e1bb0f5a6",
   "metadata": {},
   "outputs": [],
   "source": [
    "# размещаем заказ\n",
    "\n",
    "with SandboxClient(t_invest_token) as client:\n",
    "    account = get_account(client)\n",
    "    \n",
    "    order_id = str(uuid.uuid4())\n",
    "    post_order_response = client.orders.post_order(\n",
    "            quantity=1,\n",
    "            direction=OrderDirection.ORDER_DIRECTION_SELL,\n",
    "            account_id=account.id,\n",
    "            order_type=OrderType.ORDER_TYPE_MARKET,\n",
    "            \n",
    "            order_id=order_id,\n",
    "            instrument_id='FUTGOLD06250',\n",
    "            price=decimal_to_quotation(200)\n",
    "        )\n",
    "\n",
    "    post_order_response"
   ]
  },
  {
   "cell_type": "code",
   "execution_count": 96,
   "id": "44437290-a338-4292-9ba3-ca55da2b6eb3",
   "metadata": {},
   "outputs": [
    {
     "data": {
      "text/plain": [
       "PostOrderResponse(order_id='a8cd1b7c-d9bf-4829-8262-e6d85adfe9b0', execution_report_status=<OrderExecutionReportStatus.EXECUTION_REPORT_STATUS_FILL: 1>, lots_requested=1, lots_executed=1, initial_order_price=MoneyValue(currency='rub', units=262284, nano=564880000), executed_order_price=MoneyValue(currency='rub', units=262284, nano=564880000), total_order_amount=MoneyValue(currency='rub', units=262284, nano=564880000), initial_commission=MoneyValue(currency='rub', units=131, nano=142282440), executed_commission=MoneyValue(currency='rub', units=131, nano=142282440), aci_value=MoneyValue(currency='', units=0, nano=0), figi='FUTGOLD06250', direction=<OrderDirection.ORDER_DIRECTION_SELL: 2>, initial_security_price=MoneyValue(currency='rub', units=262284, nano=564880000), order_type=<OrderType.ORDER_TYPE_MARKET: 2>, message='', initial_order_price_pt=Quotation(units=3292, nano=600000000), instrument_uid='180a72de-b0eb-43b0-9bec-7f719596323f', order_request_id='d414ad48-cd1c-4e5a-bacf-9619f3a780a7', response_metadata=ResponseMetadata(tracking_id='d988fe5aa6d77a2ce6d795d5b17449e6', server_time=datetime.datetime(2025, 5, 27, 14, 22, 52, 672935, tzinfo=datetime.timezone.utc)))"
      ]
     },
     "execution_count": 96,
     "metadata": {},
     "output_type": "execute_result"
    }
   ],
   "source": [
    "post_order_response"
   ]
  },
  {
   "cell_type": "code",
   "execution_count": 97,
   "id": "305da577-42a5-452d-a250-be3c740c6f17",
   "metadata": {},
   "outputs": [
    {
     "data": {
      "text/plain": [
       "<enum 'OrderDirection'>"
      ]
     },
     "execution_count": 97,
     "metadata": {},
     "output_type": "execute_result"
    }
   ],
   "source": [
    "OrderDirection"
   ]
  },
  {
   "cell_type": "code",
   "execution_count": 98,
   "id": "43c2d564-c99c-4c52-836f-8df8fa8ca468",
   "metadata": {},
   "outputs": [
    {
     "name": "stdout",
     "output_type": "stream",
     "text": [
      "[PortfolioPosition(figi='RUB000UTSTOM', instrument_type='currency', quantity=Quotation(units=999637, nano=797354000), average_position_price=MoneyValue(currency='', units=0, nano=0), expected_yield=Quotation(units=0, nano=0), current_nkd=MoneyValue(currency='', units=0, nano=0), average_position_price_pt=Quotation(units=0, nano=0), current_price=MoneyValue(currency='', units=0, nano=0), average_position_price_fifo=MoneyValue(currency='', units=0, nano=0), quantity_lots=Quotation(units=999637, nano=797354000), blocked=False, blocked_lots=Quotation(units=0, nano=0), position_uid='33e24a92-aab0-409c-88b8-f2d57415b920', instrument_uid='a92e2e25-a698-45cc-a781-167cf465257c', var_margin=MoneyValue(currency='', units=0, nano=0), expected_yield_fifo=Quotation(units=0, nano=0), daily_yield=MoneyValue(currency='', units=0, nano=0), ticker='')]\n"
     ]
    }
   ],
   "source": [
    "with SandboxClient(t_invest_token) as client:\n",
    "        print(client.operations.get_portfolio(account_id=get_account(client).id).positions)"
   ]
  },
  {
   "cell_type": "code",
   "execution_count": null,
   "id": "66925ac6-72fe-4c20-8650-5f207ff54bfb",
   "metadata": {},
   "outputs": [],
   "source": []
  },
  {
   "cell_type": "markdown",
   "id": "d9ec35ed-e46e-443d-bd3b-1a0b2ee1792c",
   "metadata": {},
   "source": [
    "# Торговый бот"
   ]
  },
  {
   "cell_type": "code",
   "execution_count": 100,
   "id": "b6aa6d9b-f88e-4685-8ae6-abb3ea0826c9",
   "metadata": {},
   "outputs": [],
   "source": [
    "class StrategyCommand(IntEnum):\n",
    "    BEAR_GO = -2\n",
    "    BEAR_HOLD = -1\n",
    "    CLOSE = 0\n",
    "    BULL_HOLD = 1\n",
    "    BULL_GO = 2"
   ]
  },
  {
   "cell_type": "code",
   "execution_count": 37,
   "id": "3fc275ef-997c-40ff-8f96-682f25cbd020",
   "metadata": {},
   "outputs": [],
   "source": [
    "class Strategy:\n",
    "    \n",
    "    # конфигурация\n",
    "    frame_size = 22\n",
    "    #frame_size = 120\n",
    "    fractal_in_enabled  = False\n",
    "    fractal_out_enabled = False\n",
    "    fractal_size = 4\n",
    "    \n",
    "    def __init__(self):\n",
    "        \n",
    "        return\n",
    "\n",
    "    # Расчет индикаторов\n",
    "    def calc_indicators(self, data ):\n",
    "        quotes = [Quote(d,o,h,l,c,v) for d,o,h,l,c,v in zip(data.index, data['open'], data['high'], data['low'], data['close'], data['volume'])]\n",
    "        alligator = indicators.get_alligator(quotes)\n",
    "        fractal = indicators.get_fractal(quotes, self.fractal_size)\n",
    "        result = data.copy()\n",
    "        result[\"jaw\"] = [ a.jaw for a in alligator]\n",
    "        result[\"teeth\"] = [ a.teeth for a in alligator]\n",
    "        result[\"lips\"] = [ a.lips for a in alligator]\n",
    "        result[\"fractal_bear\"] = [ f.fractal_bear if f.fractal_bear != None else np.nan for f in fractal]\n",
    "        result[\"fractal_bull\"] = [ f.fractal_bull if f.fractal_bull != None else np.nan for f in fractal]\n",
    "        \n",
    "        return result\n",
    "\n",
    "    # helper\n",
    "    def get_params(self,data):\n",
    "        \n",
    "        index = data.tail(1).index[0]\n",
    "        prev_index = data.tail(2).index[0]\n",
    "        fractal_index = data.tail(self.fractal_size+1).index[0]\n",
    "        return (\n",
    "                index,\n",
    "                data.at[index, 'open'], \n",
    "                data.at[index, 'close'],\n",
    "                data.at[index, 'high'],\n",
    "                data.at[index, 'low'],\n",
    "                data.at[index, 'volume'],\n",
    "\n",
    "                data.at[index, 'jaw'  ] if data.at[index, 'jaw'  ] != None else np.nan,\n",
    "                data.at[index, 'teeth'] if data.at[index, 'teeth'] != None else np.nan,\n",
    "                data.at[index, 'lips' ] if data.at[index, 'lips' ] != None else np.nan,\n",
    "\n",
    "                data.at[prev_index, 'jaw'  ] if data.at[prev_index, 'jaw'  ] != None else np.nan,\n",
    "                data.at[prev_index, 'teeth'] if data.at[prev_index, 'teeth'] != None else np.nan,\n",
    "                data.at[prev_index, 'lips' ] if data.at[prev_index, 'lips' ] != None else np.nan,\n",
    "\n",
    "                data.at[fractal_index, 'fractal_bear'],\n",
    "                data.at[fractal_index, 'fractal_bull']\n",
    "           )\n",
    "    \n",
    "    # обработка шага стратегии\n",
    "    def next(self, data):\n",
    "\n",
    "        \n",
    "        # инициализация локальных переменных\n",
    "        indicators = self.calc_indicators(data)\n",
    "        (\n",
    "            time,   open_,  close,   high,   low,   volume,   \n",
    "            jaw,   teeth,   lips,   \n",
    "            prev_jaw,   prev_teeth,   prev_lips,\n",
    "            fractal_bear,   fractal_bull\n",
    "        )   = self.get_params(indicators)\n",
    "\n",
    "        command = StrategyCommand.CLOSE\n",
    "        stop_loss = lips\n",
    "        last_row = indicators.tail(1).copy()\n",
    "        last_row.loc[ last_row.index[0], 'fractal_bull'] = fractal_bull \n",
    "        last_row.loc[ last_row.index[0], 'fractal_bear'] = fractal_bear\n",
    "        \n",
    "        # прерываем исполнение, если недостаточно данных\n",
    "        if ( math.isnan(jaw) or \n",
    "             math.isnan(teeth) or \n",
    "             math.isnan(lips) or\n",
    "             volume == 0 \n",
    "            #or len(indicators.index) < self.frame_size\n",
    "           ):\n",
    "            return command, stop_loss, last_row\n",
    "        \n",
    "        #Определяем значение команды \n",
    "        # проверки на быка\n",
    "        # проверяем главное условие аллигатора\n",
    "        if   ( close > lips and lips > teeth and lips > jaw):\n",
    "            command = StrategyCommand.BULL_HOLD\n",
    "            \n",
    "                \n",
    "            if(\n",
    "                # проверяем, что условие наступило только на текущем баре, а не сохраняется уже давно\n",
    "                (lips >= low  or not (prev_lips > prev_teeth and prev_lips > prev_jaw) or math.isnan(prev_jaw))\n",
    "                \n",
    "                # проверяем доп. условие входа по пробитию уровня, чтобы отсечь мелкие тренды\n",
    "                and (not self.fractal_in_enabled or indicators['fractal_bear'].sum() > 0 and np.nanmin(indicators['fractal_bear']) < close)\n",
    "            ):    \n",
    "                command = StrategyCommand.BULL_GO\n",
    "\n",
    "        #проверки на медведя\n",
    "        # проверяем главное условие аллигатора\n",
    "        elif ( close < lips and lips < teeth and lips < jaw ):\n",
    "            command = StrategyCommand.BEAR_HOLD\n",
    "            \n",
    "                \n",
    "            if (\n",
    "                # проверяем, что условие наступило только на текущем баре, а не сохраняется уже давно\n",
    "                (lips <= high or not (prev_lips < prev_teeth and prev_lips < prev_jaw) or math.isnan(prev_jaw))\n",
    "                \n",
    "                # проверяем доп. условие входа по пробитию уровня, чтобы отсечь мелкие тренды\n",
    "                and (not self.fractal_in_enabled or indicators['fractal_bull'].sum() > 0 and np.nanmax(indicators['fractal_bull']) > close)\n",
    "            ):\n",
    "                command = StrategyCommand.BEAR_GO\n",
    "            \n",
    "        # проверка на выход из позиции по фракталу\n",
    "        if (\n",
    "            #прерывание быка по медвежему фракталу\n",
    "            (\n",
    "                (command == StrategyCommand.BULL_GO or command == StrategyCommand.BULL_HOLD)\n",
    "                and not math.isnan(fractal_bear) and self.fractal_out_enabled\n",
    "            )\n",
    "            #прерыване медведя по бычьему фракталу\n",
    "            or (\n",
    "                (command == StrategyCommand.BEAR_GO or command == StrategyCommand.BEAR_HOLD)\n",
    "                and not math.isnan(fractal_bull) and self.fractal_out_enabled\n",
    "            )   \n",
    "        ):\n",
    "            command = StrategyCommand.CLOSE\n",
    "\n",
    "        return command, stop_loss, last_row"
   ]
  },
  {
   "cell_type": "code",
   "execution_count": 62,
   "id": "4440e52b-c5e6-4d1f-b21e-41fe0c18c455",
   "metadata": {},
   "outputs": [],
   "source": [
    "def get_day_data( client, figi):\n",
    "    data = []\n",
    "    for candle in client.get_all_candles(\n",
    "        figi=figi,\n",
    "        from_=pytz.UTC.localize(datetime.combine(datetime.now(), time.min) \n",
    "                                # - timedelta(days=1)\n",
    "                               ),\n",
    "        interval=CandleInterval.CANDLE_INTERVAL_1_MIN,\n",
    "    ):\n",
    "        data += [[\n",
    "            candle.time,\n",
    "            float(quotation_to_decimal(candle.open)), \n",
    "            float(quotation_to_decimal(candle.close)),\n",
    "            float(quotation_to_decimal(candle.high)),\n",
    "            float(quotation_to_decimal(candle.low)),\n",
    "            candle.volume\n",
    "        ]]\n",
    "    \n",
    "    result = pd.DataFrame(data, columns=['UTC', 'open', 'close','high','low','volume'])\n",
    "    result.index = pd.DatetimeIndex(result['UTC'])\n",
    "    result.drop(['UTC'], axis=1, inplace=True)\n",
    "    return  result"
   ]
  },
  {
   "cell_type": "code",
   "execution_count": 63,
   "id": "3f10b7d7-591b-4d26-9bc2-784422294f68",
   "metadata": {},
   "outputs": [],
   "source": [
    "with SandboxClient(t_invest_token) as client:\n",
    "    day_data = get_day_data( client, 'FUTGOLD06250')"
   ]
  },
  {
   "cell_type": "code",
   "execution_count": 64,
   "id": "0f691ff7-a444-4d13-adbf-93c04b287b59",
   "metadata": {},
   "outputs": [
    {
     "data": {
      "text/html": [
       "<div>\n",
       "<style scoped>\n",
       "    .dataframe tbody tr th:only-of-type {\n",
       "        vertical-align: middle;\n",
       "    }\n",
       "\n",
       "    .dataframe tbody tr th {\n",
       "        vertical-align: top;\n",
       "    }\n",
       "\n",
       "    .dataframe thead th {\n",
       "        text-align: right;\n",
       "    }\n",
       "</style>\n",
       "<table border=\"1\" class=\"dataframe\">\n",
       "  <thead>\n",
       "    <tr style=\"text-align: right;\">\n",
       "      <th></th>\n",
       "      <th>open</th>\n",
       "      <th>close</th>\n",
       "      <th>high</th>\n",
       "      <th>low</th>\n",
       "      <th>volume</th>\n",
       "    </tr>\n",
       "    <tr>\n",
       "      <th>UTC</th>\n",
       "      <th></th>\n",
       "      <th></th>\n",
       "      <th></th>\n",
       "      <th></th>\n",
       "      <th></th>\n",
       "    </tr>\n",
       "  </thead>\n",
       "  <tbody>\n",
       "    <tr>\n",
       "      <th>2025-05-27 05:59:00+00:00</th>\n",
       "      <td>3322.1</td>\n",
       "      <td>3322.1</td>\n",
       "      <td>3322.1</td>\n",
       "      <td>3322.1</td>\n",
       "      <td>656</td>\n",
       "    </tr>\n",
       "    <tr>\n",
       "      <th>2025-05-27 06:00:00+00:00</th>\n",
       "      <td>3322.0</td>\n",
       "      <td>3321.0</td>\n",
       "      <td>3322.3</td>\n",
       "      <td>3318.2</td>\n",
       "      <td>1637</td>\n",
       "    </tr>\n",
       "    <tr>\n",
       "      <th>2025-05-27 06:01:00+00:00</th>\n",
       "      <td>3321.4</td>\n",
       "      <td>3322.5</td>\n",
       "      <td>3322.8</td>\n",
       "      <td>3321.4</td>\n",
       "      <td>370</td>\n",
       "    </tr>\n",
       "    <tr>\n",
       "      <th>2025-05-27 06:02:00+00:00</th>\n",
       "      <td>3322.5</td>\n",
       "      <td>3318.4</td>\n",
       "      <td>3322.8</td>\n",
       "      <td>3318.3</td>\n",
       "      <td>1462</td>\n",
       "    </tr>\n",
       "    <tr>\n",
       "      <th>2025-05-27 06:03:00+00:00</th>\n",
       "      <td>3318.8</td>\n",
       "      <td>3318.6</td>\n",
       "      <td>3319.0</td>\n",
       "      <td>3316.7</td>\n",
       "      <td>724</td>\n",
       "    </tr>\n",
       "    <tr>\n",
       "      <th>...</th>\n",
       "      <td>...</td>\n",
       "      <td>...</td>\n",
       "      <td>...</td>\n",
       "      <td>...</td>\n",
       "      <td>...</td>\n",
       "    </tr>\n",
       "    <tr>\n",
       "      <th>2025-05-27 09:13:00+00:00</th>\n",
       "      <td>3301.6</td>\n",
       "      <td>3302.1</td>\n",
       "      <td>3302.1</td>\n",
       "      <td>3300.8</td>\n",
       "      <td>48</td>\n",
       "    </tr>\n",
       "    <tr>\n",
       "      <th>2025-05-27 09:14:00+00:00</th>\n",
       "      <td>3302.1</td>\n",
       "      <td>3302.1</td>\n",
       "      <td>3302.5</td>\n",
       "      <td>3301.9</td>\n",
       "      <td>104</td>\n",
       "    </tr>\n",
       "    <tr>\n",
       "      <th>2025-05-27 09:15:00+00:00</th>\n",
       "      <td>3302.0</td>\n",
       "      <td>3300.7</td>\n",
       "      <td>3302.0</td>\n",
       "      <td>3300.6</td>\n",
       "      <td>58</td>\n",
       "    </tr>\n",
       "    <tr>\n",
       "      <th>2025-05-27 09:16:00+00:00</th>\n",
       "      <td>3300.7</td>\n",
       "      <td>3300.6</td>\n",
       "      <td>3300.8</td>\n",
       "      <td>3300.3</td>\n",
       "      <td>58</td>\n",
       "    </tr>\n",
       "    <tr>\n",
       "      <th>2025-05-27 09:17:00+00:00</th>\n",
       "      <td>3300.5</td>\n",
       "      <td>3301.3</td>\n",
       "      <td>3301.3</td>\n",
       "      <td>3300.5</td>\n",
       "      <td>79</td>\n",
       "    </tr>\n",
       "  </tbody>\n",
       "</table>\n",
       "<p>199 rows × 5 columns</p>\n",
       "</div>"
      ],
      "text/plain": [
       "                             open   close    high     low  volume\n",
       "UTC                                                              \n",
       "2025-05-27 05:59:00+00:00  3322.1  3322.1  3322.1  3322.1     656\n",
       "2025-05-27 06:00:00+00:00  3322.0  3321.0  3322.3  3318.2    1637\n",
       "2025-05-27 06:01:00+00:00  3321.4  3322.5  3322.8  3321.4     370\n",
       "2025-05-27 06:02:00+00:00  3322.5  3318.4  3322.8  3318.3    1462\n",
       "2025-05-27 06:03:00+00:00  3318.8  3318.6  3319.0  3316.7     724\n",
       "...                           ...     ...     ...     ...     ...\n",
       "2025-05-27 09:13:00+00:00  3301.6  3302.1  3302.1  3300.8      48\n",
       "2025-05-27 09:14:00+00:00  3302.1  3302.1  3302.5  3301.9     104\n",
       "2025-05-27 09:15:00+00:00  3302.0  3300.7  3302.0  3300.6      58\n",
       "2025-05-27 09:16:00+00:00  3300.7  3300.6  3300.8  3300.3      58\n",
       "2025-05-27 09:17:00+00:00  3300.5  3301.3  3301.3  3300.5      79\n",
       "\n",
       "[199 rows x 5 columns]"
      ]
     },
     "execution_count": 64,
     "metadata": {},
     "output_type": "execute_result"
    }
   ],
   "source": [
    "day_data"
   ]
  },
  {
   "cell_type": "code",
   "execution_count": 61,
   "id": "78973b39-d293-4ca7-b5c6-204eaa672748",
   "metadata": {},
   "outputs": [
    {
     "ename": "TypeError",
     "evalue": "list indices must be integers or slices, not str",
     "output_type": "error",
     "traceback": [
      "\u001b[1;31m---------------------------------------------------------------------------\u001b[0m",
      "\u001b[1;31mTypeError\u001b[0m                                 Traceback (most recent call last)",
      "Cell \u001b[1;32mIn[61], line 2\u001b[0m\n\u001b[0;32m      1\u001b[0m strategy \u001b[38;5;241m=\u001b[39m Strategy()\n\u001b[1;32m----> 2\u001b[0m indicators \u001b[38;5;241m=\u001b[39m strategy\u001b[38;5;241m.\u001b[39mcalc_indicators(data)\n",
      "Cell \u001b[1;32mIn[37], line 16\u001b[0m, in \u001b[0;36mStrategy.calc_indicators\u001b[1;34m(self, data)\u001b[0m\n\u001b[0;32m     15\u001b[0m \u001b[38;5;28;01mdef\u001b[39;00m \u001b[38;5;21mcalc_indicators\u001b[39m(\u001b[38;5;28mself\u001b[39m, data ):\n\u001b[1;32m---> 16\u001b[0m     quotes \u001b[38;5;241m=\u001b[39m [Quote(d,o,h,l,c,v) \u001b[38;5;28;01mfor\u001b[39;00m d,o,h,l,c,v \u001b[38;5;129;01min\u001b[39;00m \u001b[38;5;28mzip\u001b[39m(data\u001b[38;5;241m.\u001b[39mindex, data[\u001b[38;5;124m'\u001b[39m\u001b[38;5;124mopen\u001b[39m\u001b[38;5;124m'\u001b[39m], data[\u001b[38;5;124m'\u001b[39m\u001b[38;5;124mhigh\u001b[39m\u001b[38;5;124m'\u001b[39m], data[\u001b[38;5;124m'\u001b[39m\u001b[38;5;124mlow\u001b[39m\u001b[38;5;124m'\u001b[39m], data[\u001b[38;5;124m'\u001b[39m\u001b[38;5;124mclose\u001b[39m\u001b[38;5;124m'\u001b[39m], data[\u001b[38;5;124m'\u001b[39m\u001b[38;5;124mvolume\u001b[39m\u001b[38;5;124m'\u001b[39m])]\n\u001b[0;32m     17\u001b[0m     alligator \u001b[38;5;241m=\u001b[39m indicators\u001b[38;5;241m.\u001b[39mget_alligator(quotes)\n\u001b[0;32m     18\u001b[0m     fractal \u001b[38;5;241m=\u001b[39m indicators\u001b[38;5;241m.\u001b[39mget_fractal(quotes, \u001b[38;5;28mself\u001b[39m\u001b[38;5;241m.\u001b[39mfractal_size)\n",
      "\u001b[1;31mTypeError\u001b[0m: list indices must be integers or slices, not str"
     ]
    }
   ],
   "source": [
    "strategy = Strategy()\n",
    "indicators = strategy.calc_indicators(data)"
   ]
  },
  {
   "cell_type": "code",
   "execution_count": null,
   "id": "b0ad75f5-6975-4a39-a367-01a64c0cbef7",
   "metadata": {},
   "outputs": [],
   "source": []
  },
  {
   "cell_type": "code",
   "execution_count": null,
   "id": "a9261bba-b1c9-41a3-b627-e167f205041a",
   "metadata": {},
   "outputs": [],
   "source": []
  },
  {
   "cell_type": "code",
   "execution_count": null,
   "id": "e09f0d09-ec76-482e-9296-eaf71b362c3c",
   "metadata": {},
   "outputs": [],
   "source": []
  }
 ],
 "metadata": {
  "kernelspec": {
   "display_name": "Python 3 (ipykernel)",
   "language": "python",
   "name": "python3"
  },
  "language_info": {
   "codemirror_mode": {
    "name": "ipython",
    "version": 3
   },
   "file_extension": ".py",
   "mimetype": "text/x-python",
   "name": "python",
   "nbconvert_exporter": "python",
   "pygments_lexer": "ipython3",
   "version": "3.12.7"
  }
 },
 "nbformat": 4,
 "nbformat_minor": 5
}
