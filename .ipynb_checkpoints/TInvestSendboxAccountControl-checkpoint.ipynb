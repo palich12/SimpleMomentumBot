{
 "cells": [
  {
   "cell_type": "code",
   "execution_count": 9,
   "id": "3c5d18b4-0586-4c02-bec5-cd987f83efba",
   "metadata": {},
   "outputs": [],
   "source": [
    "from tinkoff.invest.sandbox.client import SandboxClient"
   ]
  },
  {
   "cell_type": "code",
   "execution_count": 7,
   "id": "e9cf7a27-58b1-4fae-b01d-2003b99c6d83",
   "metadata": {},
   "outputs": [],
   "source": [
    "f = open('secrets/sandbox-invest-public-api.tinkoff.ru.txt', 'r')\n",
    "t_invest_token = f.read()\n",
    "f.close()"
   ]
  },
  {
   "cell_type": "markdown",
   "id": "b2d5bfca-2f4c-4e06-a64c-567e7baa2e91",
   "metadata": {},
   "source": [
    "To create a jupyter_notebook_config.py file, with all the defaults commented out, you can use the following command line:\n",
    "\n",
    "$ jupyter notebook --generate-config\n",
    "\n",
    "Open the file and search for c.NotebookApp.iopub_data_rate_limit\n",
    "\n",
    "Comment out the line c.NotebookApp.iopub_data_rate_limit = 1000000 and change it to a higher default rate. l used c.NotebookApp.iopub_data_rate_limit = 10000000"
   ]
  },
  {
   "cell_type": "code",
   "execution_count": null,
   "id": "c2647cb9-bd0f-4126-9ab7-1e35480e4340",
   "metadata": {},
   "outputs": [],
   "source": []
  },
  {
   "cell_type": "code",
   "execution_count": null,
   "id": "e1d2c472-2421-45c8-a8d9-b00fb2313b19",
   "metadata": {},
   "outputs": [],
   "source": []
  },
  {
   "cell_type": "code",
   "execution_count": null,
   "id": "a0abfdb3-bdf5-4d20-9901-14e79fa318a3",
   "metadata": {},
   "outputs": [],
   "source": []
  },
  {
   "cell_type": "markdown",
   "id": "3d72d250-49fc-4018-9dc9-6fb49c61b555",
   "metadata": {},
   "source": [
    "# Получение текущего состояния"
   ]
  },
  {
   "cell_type": "code",
   "execution_count": 19,
   "id": "cf86c791-3847-4466-ac60-edd21bffd295",
   "metadata": {},
   "outputs": [
    {
     "name": "stdout",
     "output_type": "stream",
     "text": [
      "GetInfoResponse(prem_status=False, qual_status=False, qualified_for_work_with=['derivative', 'structured_bonds', 'closed_fund', 'bond', 'structured_income_bonds', 'russian_shares', 'leverage', 'foreign_shares', 'foreign_etf', 'foreign_bond', 'option'], tariff='sandbox', user_id='', risk_level_code='')\n",
      "------\n",
      "GetAccountsResponse(accounts=[Account(id='675e84ac-36da-4c28-a737-4c82f8e1f3ee', type=<AccountType.ACCOUNT_TYPE_TINKOFF: 1>, name='SimpleMomentumBot1', status=<AccountStatus.ACCOUNT_STATUS_OPEN: 2>, opened_date=datetime.datetime(2025, 5, 17, 9, 55, 2, 998807, tzinfo=datetime.timezone.utc), closed_date=datetime.datetime(1970, 1, 1, 0, 0, tzinfo=datetime.timezone.utc), access_level=<AccessLevel.ACCOUNT_ACCESS_LEVEL_FULL_ACCESS: 1>)])\n",
      "------\n",
      "------\n",
      "GetUserTariffResponse(unary_limits=[UnaryLimit(limit_per_minute=200, methods=['tinkoff.public.invest.api.contract.v1.InstrumentsService/BondBy', 'tinkoff.public.invest.api.contract.v1.InstrumentsService/Bonds', 'tinkoff.public.invest.api.contract.v1.InstrumentsService/Currencies', 'tinkoff.public.invest.api.contract.v1.InstrumentsService/CurrencyBy', 'tinkoff.public.invest.api.contract.v1.InstrumentsService/EditFavorites', 'tinkoff.public.invest.api.contract.v1.InstrumentsService/EtfBy', 'tinkoff.public.invest.api.contract.v1.InstrumentsService/Etfs', 'tinkoff.public.invest.api.contract.v1.InstrumentsService/FindInstrument', 'tinkoff.public.invest.api.contract.v1.InstrumentsService/FutureBy', 'tinkoff.public.invest.api.contract.v1.InstrumentsService/Futures', 'tinkoff.public.invest.api.contract.v1.InstrumentsService/GetAccruedInterests', 'tinkoff.public.invest.api.contract.v1.InstrumentsService/GetAssetBy', 'tinkoff.public.invest.api.contract.v1.InstrumentsService/GetAssetFundamentals', 'tinkoff.public.invest.api.contract.v1.InstrumentsService/GetAssetReports', 'tinkoff.public.invest.api.contract.v1.InstrumentsService/GetAssets', 'tinkoff.public.invest.api.contract.v1.InstrumentsService/GetBondCoupons', 'tinkoff.public.invest.api.contract.v1.InstrumentsService/GetBondEvents', 'tinkoff.public.invest.api.contract.v1.InstrumentsService/GetBrandBy', 'tinkoff.public.invest.api.contract.v1.InstrumentsService/GetBrands', 'tinkoff.public.invest.api.contract.v1.InstrumentsService/GetConsensusForecasts', 'tinkoff.public.invest.api.contract.v1.InstrumentsService/GetCountries', 'tinkoff.public.invest.api.contract.v1.InstrumentsService/GetDividends', 'tinkoff.public.invest.api.contract.v1.InstrumentsService/GetFavorites', 'tinkoff.public.invest.api.contract.v1.InstrumentsService/GetForecastBy', 'tinkoff.public.invest.api.contract.v1.InstrumentsService/GetFuturesMargin', 'tinkoff.public.invest.api.contract.v1.InstrumentsService/GetInstrumentBy', 'tinkoff.public.invest.api.contract.v1.InstrumentsService/Indicatives', 'tinkoff.public.invest.api.contract.v1.InstrumentsService/OptionBy', 'tinkoff.public.invest.api.contract.v1.InstrumentsService/Options', 'tinkoff.public.invest.api.contract.v1.InstrumentsService/OptionsBy', 'tinkoff.public.invest.api.contract.v1.InstrumentsService/ShareBy', 'tinkoff.public.invest.api.contract.v1.InstrumentsService/Shares', 'tinkoff.public.invest.api.contract.v1.InstrumentsService/TradingSchedules']), UnaryLimit(limit_per_minute=300, methods=['tinkoff.public.invest.api.contract.v1.MarketDataService/GetCandles', 'tinkoff.public.invest.api.contract.v1.MarketDataService/GetClosePrices', 'tinkoff.public.invest.api.contract.v1.MarketDataService/GetLastPrices', 'tinkoff.public.invest.api.contract.v1.MarketDataService/GetLastTrades', 'tinkoff.public.invest.api.contract.v1.MarketDataService/GetOrderBook', 'tinkoff.public.invest.api.contract.v1.MarketDataService/GetTechAnalysis', 'tinkoff.public.invest.api.contract.v1.MarketDataService/GetTradingStatus', 'tinkoff.public.invest.api.contract.v1.MarketDataService/GetTradingStatuses']), UnaryLimit(limit_per_minute=200, methods=['tinkoff.public.invest.api.contract.v1.OperationsService/GetBrokerReport', 'tinkoff.public.invest.api.contract.v1.OperationsService/GetDividendsForeignIssuer', 'tinkoff.public.invest.api.contract.v1.OperationsService/GetOperations', 'tinkoff.public.invest.api.contract.v1.OperationsService/GetOperationsByCursor', 'tinkoff.public.invest.api.contract.v1.OperationsService/GetPortfolio', 'tinkoff.public.invest.api.contract.v1.OperationsService/GetPositions', 'tinkoff.public.invest.api.contract.v1.OperationsService/GetWithdrawLimits', 'tinkoff.public.invest.api.contract.v1.OrdersService/CancelOrder', 'tinkoff.public.invest.api.contract.v1.OrdersService/GetMaxLots', 'tinkoff.public.invest.api.contract.v1.OrdersService/GetOrderPrice', 'tinkoff.public.invest.api.contract.v1.OrdersService/GetOrderState', 'tinkoff.public.invest.api.contract.v1.OrdersService/GetOrders', 'tinkoff.public.invest.api.contract.v1.OrdersService/PostOrder', 'tinkoff.public.invest.api.contract.v1.OrdersService/PostOrderAsync', 'tinkoff.public.invest.api.contract.v1.OrdersService/ReplaceOrder', 'tinkoff.public.invest.api.contract.v1.SandboxService/CancelSandboxOrder', 'tinkoff.public.invest.api.contract.v1.SandboxService/CloseSandboxAccount', 'tinkoff.public.invest.api.contract.v1.SandboxService/GetSandboxAccounts', 'tinkoff.public.invest.api.contract.v1.SandboxService/GetSandboxMaxLots', 'tinkoff.public.invest.api.contract.v1.SandboxService/GetSandboxOperations', 'tinkoff.public.invest.api.contract.v1.SandboxService/GetSandboxOperationsByCursor', 'tinkoff.public.invest.api.contract.v1.SandboxService/GetSandboxOrderState', 'tinkoff.public.invest.api.contract.v1.SandboxService/GetSandboxOrders', 'tinkoff.public.invest.api.contract.v1.SandboxService/GetSandboxPortfolio', 'tinkoff.public.invest.api.contract.v1.SandboxService/GetSandboxPositions', 'tinkoff.public.invest.api.contract.v1.SandboxService/GetSandboxWithdrawLimits', 'tinkoff.public.invest.api.contract.v1.SandboxService/OpenSandboxAccount', 'tinkoff.public.invest.api.contract.v1.SandboxService/PostSandboxOrder', 'tinkoff.public.invest.api.contract.v1.SandboxService/ReplaceSandboxOrder', 'tinkoff.public.invest.api.contract.v1.SandboxService/SandboxPayIn', 'tinkoff.public.invest.api.contract.v1.StopOrdersService/CancelStopOrder', 'tinkoff.public.invest.api.contract.v1.StopOrdersService/GetStopOrders', 'tinkoff.public.invest.api.contract.v1.StopOrdersService/PostStopOrder', 'tinkoff.public.invest.api.contract.v1.UsersService/GetAccounts', 'tinkoff.public.invest.api.contract.v1.UsersService/GetInfo', 'tinkoff.public.invest.api.contract.v1.UsersService/GetMarginAttributes', 'tinkoff.public.invest.api.contract.v1.UsersService/GetUserTariff'])], stream_limits=[StreamLimit(limit=16, streams=['tinkoff.public.invest.api.contract.v1.MarketDataStreamService/MarketDataServerSideStream', 'tinkoff.public.invest.api.contract.v1.MarketDataStreamService/MarketDataStream'], open=0), StreamLimit(limit=10, streams=['tinkoff.public.invest.api.contract.v1.OrdersStreamService/TradesStream'], open=0), StreamLimit(limit=2, streams=['tinkoff.public.invest.api.contract.v1.OperationsStreamService/PortfolioStream'], open=0), StreamLimit(limit=2, streams=['tinkoff.public.invest.api.contract.v1.OperationsStreamService/PositionsStream'], open=0), StreamLimit(limit=10, streams=['tinkoff.public.invest.api.contract.v1.OrdersStreamService/OrderStateStream'], open=0)])\n"
     ]
    }
   ],
   "source": [
    "with SandboxClient(t_invest_token) as client:\n",
    "        print(client.users.get_info())\n",
    "        print(\"------\")\n",
    "        print(client.users.get_accounts())\n",
    "        print(\"------\")\n",
    "        #print(client.users.get_margin_attributes() )\n",
    "        print(\"------\")\n",
    "        print(client.users.get_user_tariff() )"
   ]
  },
  {
   "cell_type": "code",
   "execution_count": null,
   "id": "c33a4734-a86e-4604-9986-d7b4532881ec",
   "metadata": {},
   "outputs": [],
   "source": []
  },
  {
   "cell_type": "code",
   "execution_count": null,
   "id": "255f19cc-b110-40c6-aa10-78c5ab49d0d9",
   "metadata": {},
   "outputs": [],
   "source": []
  },
  {
   "cell_type": "markdown",
   "id": "a9f7a149-a2df-46d0-acb1-6694323f381d",
   "metadata": {},
   "source": [
    "# Добавление аккаунта в песочницу"
   ]
  },
  {
   "cell_type": "code",
   "execution_count": 18,
   "id": "1510d93c-a8a1-41ac-bc64-3a9ea6977d5b",
   "metadata": {},
   "outputs": [],
   "source": [
    "#with SandboxClient(t_invest_token) as client:\n",
    "#        client.sandbox.open_sandbox_account(name=\"SimpleMomentumBot1\")"
   ]
  },
  {
   "cell_type": "code",
   "execution_count": null,
   "id": "3e64c1f2-1909-4a78-a956-714e2c0ca67e",
   "metadata": {},
   "outputs": [],
   "source": []
  },
  {
   "cell_type": "code",
   "execution_count": null,
   "id": "7ddefcc2-661c-4852-91ef-0624ab2ced4c",
   "metadata": {},
   "outputs": [],
   "source": []
  },
  {
   "cell_type": "code",
   "execution_count": null,
   "id": "799018c0-a4d5-4414-b85a-830817c554e5",
   "metadata": {},
   "outputs": [],
   "source": []
  }
 ],
 "metadata": {
  "kernelspec": {
   "display_name": "Python 3 (ipykernel)",
   "language": "python",
   "name": "python3"
  },
  "language_info": {
   "codemirror_mode": {
    "name": "ipython",
    "version": 3
   },
   "file_extension": ".py",
   "mimetype": "text/x-python",
   "name": "python",
   "nbconvert_exporter": "python",
   "pygments_lexer": "ipython3",
   "version": "3.12.7"
  }
 },
 "nbformat": 4,
 "nbformat_minor": 5
}
