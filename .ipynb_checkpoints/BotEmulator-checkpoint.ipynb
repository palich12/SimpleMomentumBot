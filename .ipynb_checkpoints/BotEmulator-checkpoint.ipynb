{
 "cells": [
  {
   "cell_type": "code",
   "execution_count": 34,
   "id": "c12bac85-e48b-48fc-a3ba-e9dd7f38ca7d",
   "metadata": {},
   "outputs": [],
   "source": [
    "import os\n",
    "from decimal import Decimal\n",
    "from datetime import datetime, time, timedelta\n",
    "import time as t\n",
    "import pytz\n",
    "import uuid\n",
    "import enum\n",
    "\n",
    "import schedule\n",
    "from dotenv import load_dotenv\n",
    "import pandas as pd\n",
    "from stock_indicators import indicators\n",
    "from stock_indicators.indicators.common.quote import Quote\n",
    "\n",
    "from tinkoff.invest.sandbox.client import SandboxClient\n",
    "from tinkoff.invest import InstrumentIdType, InstrumentStatus, MoneyValue, CandleInterval, OrderDirection, OrderType\n",
    "from tinkoff.invest.utils import decimal_to_quotation, quotation_to_decimal"
   ]
  },
  {
   "cell_type": "markdown",
   "id": "93d395a6-363a-4baa-ad24-106c8f1f51bb",
   "metadata": {},
   "source": [
    "# Конфигурация"
   ]
  },
  {
   "cell_type": "code",
   "execution_count": 24,
   "id": "c278b0bd-6277-4882-8f8f-68bde5b6b86f",
   "metadata": {},
   "outputs": [],
   "source": [
    "load_dotenv()\n",
    "t_invest_token = os.getenv('TINVEST_TOKEN')\n",
    "account_name = 'SimpleMomentumBot1'\n",
    "\n",
    "#ticker = \"SBER\"\n",
    "ticker = \"GDM5\""
   ]
  },
  {
   "cell_type": "markdown",
   "id": "2cc4a828-58c1-4306-8ea6-1d4125678157",
   "metadata": {},
   "source": [
    "To create a jupyter_notebook_config.py file, with all the defaults commented out, you can use the following command line:\n",
    "\n",
    "$ jupyter notebook --generate-config\n",
    "\n",
    "Open the file and search for c.NotebookApp.iopub_data_rate_limit\n",
    "\n",
    "Comment out the line c.NotebookApp.iopub_data_rate_limit = 1000000 and change it to a higher default rate. l used c.NotebookApp.iopub_data_rate_limit = 10000000"
   ]
  },
  {
   "cell_type": "code",
   "execution_count": null,
   "id": "50915d2d-b087-49a8-aa61-0eb4419baa3d",
   "metadata": {},
   "outputs": [],
   "source": []
  },
  {
   "cell_type": "code",
   "execution_count": null,
   "id": "888a6b4b-454f-4928-9979-34c302f477dd",
   "metadata": {},
   "outputs": [],
   "source": []
  },
  {
   "cell_type": "markdown",
   "id": "b9bfc2aa-6d3a-48bd-9a41-dd36a5a9e4e2",
   "metadata": {},
   "source": [
    "# Стратегия"
   ]
  },
  {
   "cell_type": "code",
   "execution_count": 25,
   "id": "b69d997e-ffb7-4825-9054-7e0e49796b71",
   "metadata": {},
   "outputs": [],
   "source": [
    "class StrategyCommand(enum.Enum):\n",
    "    BEAR_GO = -2\n",
    "    BEAR_HOLD = -1\n",
    "    CLOSE = 0\n",
    "    BULL_HOLD = 1\n",
    "    BULL_GO = 2"
   ]
  },
  {
   "cell_type": "code",
   "execution_count": 4,
   "id": "9c3a3438-3f8b-4672-be2a-f671634a753d",
   "metadata": {},
   "outputs": [],
   "source": [
    "class Strategy:\n",
    "    \n",
    "    # конфигурация\n",
    "    frame_size = 22\n",
    "    #frame_size = 120\n",
    "    fractal_in_enabled  = False\n",
    "    fractal_out_enabled = False\n",
    "    fractal_size = 4\n",
    "    \n",
    "    def __init__(self):\n",
    "        \n",
    "        return\n",
    "\n",
    "    # Расчет индикаторов\n",
    "    def calc_indicators(self, data ):\n",
    "        quotes = [Quote(d,o,h,l,c,v) for d,o,h,l,c,v in zip(data.index, data['open'], data['high'], data['low'], data['close'], data['volume'])]\n",
    "        alligator = indicators.get_alligator(quotes)\n",
    "        fractal = indicators.get_fractal(quotes, self.fractal_size)\n",
    "        result = data.copy()\n",
    "        result[\"jaw\"] = [ a.jaw for a in alligator]\n",
    "        result[\"teeth\"] = [ a.teeth for a in alligator]\n",
    "        result[\"lips\"] = [ a.lips for a in alligator]\n",
    "        result[\"fractal_bear\"] = [ f.fractal_bear if f.fractal_bear != None else np.nan for f in fractal]\n",
    "        result[\"fractal_bull\"] = [ f.fractal_bull if f.fractal_bull != None else np.nan for f in fractal]\n",
    "        \n",
    "        return result\n",
    "\n",
    "    # helper\n",
    "    def get_params(self,data):\n",
    "        \n",
    "        index = data.tail(1).index[0]\n",
    "        prev_index = data.tail(2).index[0]\n",
    "        fractal_index = data.tail(self.fractal_size+1).index[0]\n",
    "        return (\n",
    "                index,\n",
    "                data.at[index, 'open'], \n",
    "                data.at[index, 'close'],\n",
    "                data.at[index, 'high'],\n",
    "                data.at[index, 'low'],\n",
    "                data.at[index, 'volume'],\n",
    "\n",
    "                data.at[index, 'jaw'  ] if data.at[index, 'jaw'  ] != None else np.nan,\n",
    "                data.at[index, 'teeth'] if data.at[index, 'teeth'] != None else np.nan,\n",
    "                data.at[index, 'lips' ] if data.at[index, 'lips' ] != None else np.nan,\n",
    "\n",
    "                data.at[prev_index, 'jaw'  ] if data.at[prev_index, 'jaw'  ] != None else np.nan,\n",
    "                data.at[prev_index, 'teeth'] if data.at[prev_index, 'teeth'] != None else np.nan,\n",
    "                data.at[prev_index, 'lips' ] if data.at[prev_index, 'lips' ] != None else np.nan,\n",
    "\n",
    "                data.at[fractal_index, 'fractal_bear'],\n",
    "                data.at[fractal_index, 'fractal_bull']\n",
    "           )\n",
    "    \n",
    "    # обработка шага стратегии\n",
    "    def next(self, data):\n",
    "\n",
    "        \n",
    "        # инициализация локальных переменных\n",
    "        indicators = self.calc_indicators(data)\n",
    "        (\n",
    "            time,   open_,  close,   high,   low,   volume,   \n",
    "            jaw,   teeth,   lips,   \n",
    "            prev_jaw,   prev_teeth,   prev_lips,\n",
    "            fractal_bear,   fractal_bull\n",
    "        )   = self.get_params(indicators)\n",
    "\n",
    "        command = StrategyCommand.CLOSE\n",
    "        stop_loss = lips\n",
    "        last_row = indicators.tail(1).copy()\n",
    "        last_row.loc[ last_row.index[0], 'fractal_bull'] = fractal_bull \n",
    "        last_row.loc[ last_row.index[0], 'fractal_bear'] = fractal_bear\n",
    "        \n",
    "        # прерываем исполнение, если недостаточно данных\n",
    "        if ( math.isnan(jaw) or \n",
    "             math.isnan(teeth) or \n",
    "             math.isnan(lips) or\n",
    "             volume == 0 \n",
    "            #or len(indicators.index) < self.frame_size\n",
    "           ):\n",
    "            return command, stop_loss, last_row\n",
    "        \n",
    "        #Определяем значение команды \n",
    "        # проверки на быка\n",
    "        # проверяем главное условие аллигатора\n",
    "        if   ( close > lips and lips > teeth and lips > jaw):\n",
    "            command = StrategyCommand.BULL_HOLD\n",
    "            \n",
    "                \n",
    "            if(\n",
    "                # проверяем, что условие наступило только на текущем баре, а не сохраняется уже давно\n",
    "                (lips >= low  or not (prev_lips > prev_teeth and prev_lips > prev_jaw) or math.isnan(prev_jaw))\n",
    "                \n",
    "                # проверяем доп. условие входа по пробитию уровня, чтобы отсечь мелкие тренды\n",
    "                and (not self.fractal_in_enabled or indicators['fractal_bear'].sum() > 0 and np.nanmin(indicators['fractal_bear']) < close)\n",
    "            ):    \n",
    "                command = StrategyCommand.BULL_GO\n",
    "\n",
    "        #проверки на медведя\n",
    "        # проверяем главное условие аллигатора\n",
    "        elif ( close < lips and lips < teeth and lips < jaw ):\n",
    "            command = StrategyCommand.BEAR_HOLD\n",
    "            \n",
    "                \n",
    "            if (\n",
    "                # проверяем, что условие наступило только на текущем баре, а не сохраняется уже давно\n",
    "                (lips <= high or not (prev_lips < prev_teeth and prev_lips < prev_jaw) or math.isnan(prev_jaw))\n",
    "                \n",
    "                # проверяем доп. условие входа по пробитию уровня, чтобы отсечь мелкие тренды\n",
    "                and (not self.fractal_in_enabled or indicators['fractal_bull'].sum() > 0 and np.nanmax(indicators['fractal_bull']) > close)\n",
    "            ):\n",
    "                command = StrategyCommand.BEAR_GO\n",
    "            \n",
    "        # проверка на выход из позиции по фракталу\n",
    "        if (\n",
    "            #прерывание быка по медвежему фракталу\n",
    "            (\n",
    "                (command == StrategyCommand.BULL_GO or command == StrategyCommand.BULL_HOLD)\n",
    "                and not math.isnan(fractal_bear) and self.fractal_out_enabled\n",
    "            )\n",
    "            #прерыване медведя по бычьему фракталу\n",
    "            or (\n",
    "                (command == StrategyCommand.BEAR_GO or command == StrategyCommand.BEAR_HOLD)\n",
    "                and not math.isnan(fractal_bull) and self.fractal_out_enabled\n",
    "            )   \n",
    "        ):\n",
    "            command = StrategyCommand.CLOSE\n",
    "\n",
    "        return command, stop_loss, last_row"
   ]
  },
  {
   "cell_type": "code",
   "execution_count": null,
   "id": "5f5a3943-dd01-4755-b3d6-52aca0e6ab32",
   "metadata": {},
   "outputs": [],
   "source": []
  },
  {
   "cell_type": "code",
   "execution_count": null,
   "id": "0376beb2-acdd-45bd-8f32-4cecfd5f5ca4",
   "metadata": {},
   "outputs": [],
   "source": []
  },
  {
   "cell_type": "markdown",
   "id": "5b6ad509-dbcc-4634-a200-f726317e4625",
   "metadata": {},
   "source": [
    "# Хелперы"
   ]
  },
  {
   "cell_type": "code",
   "execution_count": 5,
   "id": "d9a1d9d5-c3ae-4fee-b4f5-d4f35d7c5c45",
   "metadata": {},
   "outputs": [],
   "source": [
    "def get_account(client, account_name):\n",
    "    accounts = client.users.get_accounts()\n",
    "    for account in accounts.accounts:\n",
    "        if account.name == account_name:\n",
    "            return account\n",
    "    return None"
   ]
  },
  {
   "cell_type": "code",
   "execution_count": 6,
   "id": "3185eadd-7f87-48a5-9dd0-bda1bdd65bb4",
   "metadata": {},
   "outputs": [],
   "source": [
    "def get_instrument_by_ticker(client, ticker):\n",
    "    for method in [\"shares\", \"bonds\", \"etfs\", \"currencies\", \"futures\"]:\n",
    "            for instrument in getattr(client.instruments, method)().instruments:\n",
    "                if instrument.ticker == ticker:\n",
    "                    return instrument\n",
    "    raise Exception('ticker not found')"
   ]
  },
  {
   "cell_type": "code",
   "execution_count": 39,
   "id": "91ea0c75-9fa5-4042-88ba-ed057f213ff4",
   "metadata": {},
   "outputs": [],
   "source": [
    "def get_day_data( client, figi):\n",
    "    data = []\n",
    "    for candle in client.get_all_candles(\n",
    "        figi=figi,\n",
    "        from_=pytz.UTC.localize(datetime.combine(datetime.now(), time.min) \n",
    "                                # - timedelta(days=1)\n",
    "                               ),\n",
    "        interval=CandleInterval.CANDLE_INTERVAL_1_MIN,\n",
    "    ):\n",
    "        data += [[\n",
    "            candle.time,\n",
    "            float(quotation_to_decimal(candle.open)), \n",
    "            float(quotation_to_decimal(candle.close)),\n",
    "            float(quotation_to_decimal(candle.high)),\n",
    "            float(quotation_to_decimal(candle.low)),\n",
    "            candle.volume\n",
    "        ]]\n",
    "    return pd.DataFrame(data, columns=['UTC', 'open', 'close','high','low','volume']) "
   ]
  },
  {
   "cell_type": "code",
   "execution_count": 11,
   "id": "07294a3e-4b3d-48e3-b906-309997ed5642",
   "metadata": {},
   "outputs": [],
   "source": [
    "def get_position( client, account_id, figi):\n",
    "    position = 0\n",
    "    balance = 0\n",
    "    for p in client.operations.get_portfolio(account_id=account_id).positions:\n",
    "        if position.figi == figi:\n",
    "            position = float(quotation_to_decimal(position.quantity))\n",
    "        elif position.figi == 'RUB000UTSTOM':\n",
    "            balance  = float(quotation_to_decimal(position.quantity))\n",
    "    return position, balance"
   ]
  },
  {
   "cell_type": "code",
   "execution_count": 18,
   "id": "5291e7de-cc95-4096-9148-aae71df4be0c",
   "metadata": {},
   "outputs": [],
   "source": [
    "def get_orders(client, account_id, figi):\n",
    "    return [ order for order in client.orders.get_orders(account_id=account_id).orders if order.figi == figi ]"
   ]
  },
  {
   "cell_type": "code",
   "execution_count": 19,
   "id": "8b248f6f-7f42-45ee-9fff-640f1a1eda66",
   "metadata": {},
   "outputs": [],
   "source": [
    "def get_stop_orders(client, account_id, figi):\n",
    "    return [ order for order in client.stop_orders.get_stop_orders(account_id=account_id) if order.figi == figi ]\n",
    "        "
   ]
  },
  {
   "cell_type": "code",
   "execution_count": 28,
   "id": "6c284b9a-7f15-4a01-886f-a0030de99340",
   "metadata": {},
   "outputs": [],
   "source": [
    "def close_all_orders_by_figi(client, account_id, figi):\n",
    "    for order in get_stop_orders(client, account_id, figi):\n",
    "        client.stop_orders.cancel_stop_order(account_id=account_id, stop_order_id=order.stop_order_id)\n",
    "    for order in get_orders(client, account_id, figi):\n",
    "        client.orders.cancel_order(account_id=account_id, order_id=order.order_id)"
   ]
  },
  {
   "cell_type": "code",
   "execution_count": null,
   "id": "e67d14ca-a6f9-4097-a9bc-643b05a428f1",
   "metadata": {},
   "outputs": [],
   "source": []
  },
  {
   "cell_type": "markdown",
   "id": "2395575f-6a0c-418f-b5fd-f7e4db332d50",
   "metadata": {},
   "source": [
    "# Событие таймера"
   ]
  },
  {
   "cell_type": "code",
   "execution_count": 37,
   "id": "78188405-21ff-49a7-959d-816dbecbe044",
   "metadata": {},
   "outputs": [],
   "source": [
    "stop_loss = None\n",
    "strategy = Strategy()\n",
    "def next_bar():\n",
    "    with SandboxClient(t_invest_token) as client:\n",
    "        account = get_account(client, account_name)\n",
    "        instrument = get_instrument_by_ticker(client, ticker)\n",
    "        \n",
    "        # проверяем доступность торгов по инструменту\n",
    "        status = client.market_data.get_trading_status(figi=instrument.figi)\n",
    "        if( not (status.market_order_available_flag and status.api_trade_available_flag ) ):\n",
    "            print(str(datetime.now()), \"market not available\")\n",
    "            return\n",
    "\n",
    "        # загружаем дневные данные\n",
    "        day_data = get_day_data(client, instrument.figi)\n",
    "        current_price = day_data.at[data.tail(1).index[0], 'close']\n",
    "\n",
    "        # получаем команду от стратегии\n",
    "        command, new_stop_loss, row = strategy.next(day_data)\n",
    "\n",
    "        # определяем текущую позицию\n",
    "        position, balance = get_position(client, account.id, instrument.figi)\n",
    "\n",
    "        if ( position != 0):\n",
    "\n",
    "            # определяем новое значение stoploss\n",
    "            if stop_loss == None:\n",
    "                stop_loss = new_stop_loss\n",
    "            else:\n",
    "                stop_loss = max(stop_loss, new_stop_loss) if position > 0 else min(stop_loss, new_stop_loss)\n",
    "            \n",
    "            # проверяем условия закрытия позиции\n",
    "            stop_loss_flag = ( position > 0 and stop_loss >= current_price or position < 0 and stop_loss <= current_price )\n",
    "            if( position > 0 and command <= 0 or position < 0 and command >= 0 or stop_loss_flag ):\n",
    "                order_id = str(uuid.uuid4())\n",
    "                response = client.orders.post_order(\n",
    "                    quantity= abs(position),\n",
    "                    direction=(OrderDirection.ORDER_DIRECTION_BUY if position < 0 else OrderDirection.ORDER_DIRECTION_SELL),\n",
    "                    account_id=account.id,\n",
    "                    order_type=OrderType.ORDER_TYPE_MARKET,\n",
    "                    order_id=order_id,\n",
    "                    instrument_id=figi,\n",
    "                )\n",
    "\n",
    "                t.sleep(5)\n",
    "                position, balance = get_position(client, account.id, instrument.figi)\n",
    "                print(\n",
    "                    str(datetime.now()),\n",
    "                    \"Command:\", command if not stop_loss_flag else \"stop_loss\",\n",
    "                    \"order_id:\", order_id,\n",
    "                    \"balance:\", balance,\n",
    "                    \"position:\", position\n",
    "                )\n",
    "                \n",
    "\n",
    "            \n",
    "        if( position == 0 ):\n",
    "            stop_loss = None\n",
    "            \n",
    "            # входим в позицию\n",
    "            if(command == StrategyCommand.BEAR_GO or command == StrategyCommand.BULL_GO):\n",
    "\n",
    "                stop_loss = new_stop_loss\n",
    "                order_id = str(uuid.uuid4())\n",
    "                response = client.orders.post_order(\n",
    "                    quantity=1,\n",
    "                    direction=(\n",
    "                        OrderDirection.ORDER_DIRECTION_BUY \n",
    "                        if command == StrategyCommand.BULL_GO \n",
    "                        else OrderDirection.ORDER_DIRECTION_SELL \n",
    "                    ),\n",
    "                    account_id=account.id,\n",
    "                    order_type=OrderType.ORDER_TYPE_MARKET,\n",
    "                    order_id=order_id,\n",
    "                    instrument_id=figi,\n",
    "                )\n",
    "\n",
    "                t.sleep(5)\n",
    "                position, balance = get_position(client, account.id, instrument.figi)\n",
    "                print(\n",
    "                    str(datetime.now()),\n",
    "                    \"Command:\", command,\n",
    "                    \"order_id:\", order_id,\n",
    "                    \"balance:\", balance,\n",
    "                    \"position:\", position\n",
    "                )\n",
    "            \n",
    "                "
   ]
  },
  {
   "cell_type": "code",
   "execution_count": null,
   "id": "18b48204-d4af-4bce-aea1-4cfd073ac6c3",
   "metadata": {},
   "outputs": [],
   "source": []
  },
  {
   "cell_type": "code",
   "execution_count": null,
   "id": "43b2f2bc-3704-483b-9bcd-de0fe8afe9cc",
   "metadata": {},
   "outputs": [],
   "source": []
  },
  {
   "cell_type": "code",
   "execution_count": null,
   "id": "d270d838-175a-409c-9e7a-1bb16a018fca",
   "metadata": {},
   "outputs": [],
   "source": []
  },
  {
   "cell_type": "code",
   "execution_count": null,
   "id": "d46f2144-928e-4bab-87fd-d09eae1d396f",
   "metadata": {},
   "outputs": [],
   "source": []
  },
  {
   "cell_type": "code",
   "execution_count": 31,
   "id": "0c8ef740-cf6f-4f94-bd86-267f12cf8d7b",
   "metadata": {},
   "outputs": [
    {
     "name": "stdout",
     "output_type": "stream",
     "text": [
      "2025-05-27 00:45:08.893223 market not available\n"
     ]
    }
   ],
   "source": [
    "next_bar()"
   ]
  },
  {
   "cell_type": "markdown",
   "id": "6cb82411-1885-4e18-9339-298b9c665e00",
   "metadata": {},
   "source": [
    "# Основной цикл"
   ]
  },
  {
   "cell_type": "code",
   "execution_count": 36,
   "id": "6f63e8dc-6180-4f27-803a-597631d5a08b",
   "metadata": {},
   "outputs": [
    {
     "name": "stdout",
     "output_type": "stream",
     "text": [
      "2025-05-27 01:14:48.697473 market not available\n",
      "2025-05-27 01:15:50.537370 market not available\n",
      "2025-05-27 01:16:52.485908 market not available\n",
      "2025-05-27 01:17:54.409607 market not available\n"
     ]
    },
    {
     "ename": "KeyboardInterrupt",
     "evalue": "",
     "output_type": "error",
     "traceback": [
      "\u001b[1;31m---------------------------------------------------------------------------\u001b[0m",
      "\u001b[1;31mKeyboardInterrupt\u001b[0m                         Traceback (most recent call last)",
      "Cell \u001b[1;32mIn[36], line 4\u001b[0m\n\u001b[0;32m      2\u001b[0m schedule\u001b[38;5;241m.\u001b[39mevery(\u001b[38;5;241m1\u001b[39m)\u001b[38;5;241m.\u001b[39mminutes\u001b[38;5;241m.\u001b[39mdo(next_bar)\n\u001b[0;32m      3\u001b[0m \u001b[38;5;28;01mwhile\u001b[39;00m(\u001b[38;5;28;01mTrue\u001b[39;00m):\n\u001b[1;32m----> 4\u001b[0m     t\u001b[38;5;241m.\u001b[39msleep(\u001b[38;5;241m1\u001b[39m)\n\u001b[0;32m      5\u001b[0m     schedule\u001b[38;5;241m.\u001b[39mrun_pending()\n",
      "\u001b[1;31mKeyboardInterrupt\u001b[0m: "
     ]
    }
   ],
   "source": [
    "schedule.clear()\n",
    "schedule.every(1).minutes.do(next_bar)\n",
    "while(True):\n",
    "    t.sleep(1)\n",
    "    schedule.run_pending()\n",
    "        "
   ]
  },
  {
   "cell_type": "code",
   "execution_count": null,
   "id": "0fb5b308-7a10-4d0f-8b9a-3716981da7e8",
   "metadata": {},
   "outputs": [],
   "source": []
  },
  {
   "cell_type": "code",
   "execution_count": null,
   "id": "5af228d9-1cf0-4986-97b0-e66cc93ed01c",
   "metadata": {},
   "outputs": [],
   "source": []
  },
  {
   "cell_type": "code",
   "execution_count": null,
   "id": "71d5f7da-898e-4007-8ce9-2d577a5d3ded",
   "metadata": {},
   "outputs": [],
   "source": []
  },
  {
   "cell_type": "code",
   "execution_count": null,
   "id": "f5e2e6f0-1061-44a8-b8ad-d467044076b3",
   "metadata": {},
   "outputs": [],
   "source": []
  },
  {
   "cell_type": "code",
   "execution_count": null,
   "id": "8eac7e35-b7f2-4a18-b0cd-43680552f4ac",
   "metadata": {},
   "outputs": [],
   "source": []
  },
  {
   "cell_type": "code",
   "execution_count": null,
   "id": "49b01367-a736-49e4-9be7-460996ded3e2",
   "metadata": {},
   "outputs": [],
   "source": []
  },
  {
   "cell_type": "code",
   "execution_count": null,
   "id": "dc0cef3b-dc0e-475a-8c1d-21ee57043730",
   "metadata": {},
   "outputs": [],
   "source": []
  }
 ],
 "metadata": {
  "kernelspec": {
   "display_name": "Python 3 (ipykernel)",
   "language": "python",
   "name": "python3"
  },
  "language_info": {
   "codemirror_mode": {
    "name": "ipython",
    "version": 3
   },
   "file_extension": ".py",
   "mimetype": "text/x-python",
   "name": "python",
   "nbconvert_exporter": "python",
   "pygments_lexer": "ipython3",
   "version": "3.12.7"
  }
 },
 "nbformat": 4,
 "nbformat_minor": 5
}
