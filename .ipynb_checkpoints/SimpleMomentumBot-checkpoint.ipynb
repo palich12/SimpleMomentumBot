{
 "cells": [
  {
   "cell_type": "code",
   "execution_count": 1,
   "id": "4a90bfc5-cc0c-4046-bbaf-8f2b8768d9a4",
   "metadata": {},
   "outputs": [],
   "source": [
    "import datetime\n",
    "import pytz\n",
    "import copy\n",
    "\n",
    "import matplotlib\n",
    "import matplotlib.pyplot as plt\n",
    "import matplotlib.patches as mpatches\n",
    "\n",
    "from tinkoff.invest import Client\n",
    "from tinkoff.invest.schemas import InstrumentExchangeType, AssetsRequest, InstrumentStatus, InstrumentType"
   ]
  },
  {
   "cell_type": "markdown",
   "id": "9256519f-cc8a-47c1-9220-f138ef9a0742",
   "metadata": {},
   "source": [
    "# Загрузка данных"
   ]
  },
  {
   "cell_type": "code",
   "execution_count": 2,
   "id": "36e2f9ce-c9e5-479e-8683-b1f9f07c3631",
   "metadata": {},
   "outputs": [],
   "source": [
    "f = open('secrets/sandbox-invest-public-api.tinkoff.ru.txt', 'r')\n",
    "t_invest_token = f.read()\n",
    "f.close()"
   ]
  },
  {
   "cell_type": "markdown",
   "id": "03f2a355-a588-4162-83fb-a0da633b0dc8",
   "metadata": {},
   "source": [
    "To create a jupyter_notebook_config.py file, with all the defaults commented out, you can use the following command line:\n",
    "\n",
    "$ jupyter notebook --generate-config\n",
    "\n",
    "Open the file and search for c.NotebookApp.iopub_data_rate_limit\n",
    "\n",
    "Comment out the line c.NotebookApp.iopub_data_rate_limit = 1000000 and change it to a higher default rate. l used c.NotebookApp.iopub_data_rate_limit = 10000000"
   ]
  },
  {
   "cell_type": "code",
   "execution_count": null,
   "id": "377e356d-0fc6-4971-b149-e24d3389235b",
   "metadata": {},
   "outputs": [],
   "source": []
  },
  {
   "cell_type": "code",
   "execution_count": null,
   "id": "dbbee237-0580-4403-9f3c-e5f43568f791",
   "metadata": {},
   "outputs": [],
   "source": []
  },
  {
   "cell_type": "code",
   "execution_count": null,
   "id": "86c042fb-85c5-45a2-8a03-1cca5de589c9",
   "metadata": {},
   "outputs": [],
   "source": []
  },
  {
   "cell_type": "code",
   "execution_count": null,
   "id": "b2502f50-5c55-4cfa-be63-d7fe0c45a0b7",
   "metadata": {},
   "outputs": [],
   "source": []
  },
  {
   "cell_type": "code",
   "execution_count": null,
   "id": "4c630a70-9909-40cb-8f8c-862e9e9b3e6d",
   "metadata": {},
   "outputs": [],
   "source": []
  },
  {
   "cell_type": "code",
   "execution_count": null,
   "id": "492400e8-2c87-4f7a-9a77-f979fd5de210",
   "metadata": {},
   "outputs": [],
   "source": []
  },
  {
   "cell_type": "code",
   "execution_count": null,
   "id": "04d4f899-00bd-44b6-80f4-1118fc347132",
   "metadata": {},
   "outputs": [],
   "source": []
  }
 ],
 "metadata": {
  "kernelspec": {
   "display_name": "Python 3 (ipykernel)",
   "language": "python",
   "name": "python3"
  },
  "language_info": {
   "codemirror_mode": {
    "name": "ipython",
    "version": 3
   },
   "file_extension": ".py",
   "mimetype": "text/x-python",
   "name": "python",
   "nbconvert_exporter": "python",
   "pygments_lexer": "ipython3",
   "version": "3.12.7"
  }
 },
 "nbformat": 4,
 "nbformat_minor": 5
}
