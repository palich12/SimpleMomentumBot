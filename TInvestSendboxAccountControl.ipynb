{
 "cells": [
  {
   "cell_type": "code",
   "execution_count": 3,
   "id": "3c5d18b4-0586-4c02-bec5-cd987f83efba",
   "metadata": {},
   "outputs": [],
   "source": [
    "import os\n",
    "from decimal import Decimal\n",
    "from datetime import datetime, time, timedelta\n",
    "import pytz\n",
    "import uuid\n",
    "import enum\n",
    "\n",
    "from dotenv import load_dotenv\n",
    "import pandas as pd\n",
    "from stock_indicators import indicators\n",
    "from stock_indicators.indicators.common.quote import Quote\n",
    "\n",
    "from tinkoff.invest.sandbox.client import SandboxClient\n",
    "from tinkoff.invest import InstrumentIdType, InstrumentStatus, MoneyValue, CandleInterval, OrderDirection, OrderType\n",
    "from tinkoff.invest.utils import decimal_to_quotation, quotation_to_decimal\n",
    "# InstrumentExchangeType"
   ]
  },
  {
   "cell_type": "code",
   "execution_count": 4,
   "id": "e9cf7a27-58b1-4fae-b01d-2003b99c6d83",
   "metadata": {},
   "outputs": [],
   "source": [
    "load_dotenv()\n",
    "t_invest_token = os.getenv('TINVEST_TOKEN')\n",
    "account_name = 'SimpleMomentumBot1'"
   ]
  },
  {
   "cell_type": "markdown",
   "id": "b2d5bfca-2f4c-4e06-a64c-567e7baa2e91",
   "metadata": {},
   "source": [
    "To create a jupyter_notebook_config.py file, with all the defaults commented out, you can use the following command line:\n",
    "\n",
    "$ jupyter notebook --generate-config\n",
    "\n",
    "Open the file and search for c.NotebookApp.iopub_data_rate_limit\n",
    "\n",
    "Comment out the line c.NotebookApp.iopub_data_rate_limit = 1000000 and change it to a higher default rate. l used c.NotebookApp.iopub_data_rate_limit = 10000000"
   ]
  },
  {
   "cell_type": "code",
   "execution_count": null,
   "id": "c2647cb9-bd0f-4126-9ab7-1e35480e4340",
   "metadata": {},
   "outputs": [],
   "source": []
  },
  {
   "cell_type": "code",
   "execution_count": null,
   "id": "e1d2c472-2421-45c8-a8d9-b00fb2313b19",
   "metadata": {},
   "outputs": [],
   "source": []
  },
  {
   "cell_type": "code",
   "execution_count": null,
   "id": "a0abfdb3-bdf5-4d20-9901-14e79fa318a3",
   "metadata": {},
   "outputs": [],
   "source": []
  },
  {
   "cell_type": "markdown",
   "id": "3d72d250-49fc-4018-9dc9-6fb49c61b555",
   "metadata": {},
   "source": [
    "# Получение текущего состояния"
   ]
  },
  {
   "cell_type": "code",
   "execution_count": 5,
   "id": "1eb5cc31-91fc-4cb2-a92a-9b641b484681",
   "metadata": {},
   "outputs": [],
   "source": [
    "def get_account(client):\n",
    "    accounts = client.users.get_accounts()\n",
    "    for account in accounts.accounts:\n",
    "        if account.name == account_name:\n",
    "            return account\n",
    "    return None"
   ]
  },
  {
   "cell_type": "code",
   "execution_count": 6,
   "id": "cf86c791-3847-4466-ac60-edd21bffd295",
   "metadata": {},
   "outputs": [
    {
     "name": "stdout",
     "output_type": "stream",
     "text": [
      "GetInfoResponse(prem_status=False, qual_status=False, qualified_for_work_with=['derivative', 'structured_bonds', 'closed_fund', 'bond', 'structured_income_bonds', 'russian_shares', 'leverage', 'foreign_shares', 'foreign_etf', 'foreign_bond', 'option'], tariff='sandbox', user_id='', risk_level_code='')\n",
      "------\n",
      "GetAccountsResponse(accounts=[Account(id='675e84ac-36da-4c28-a737-4c82f8e1f3ee', type=<AccountType.ACCOUNT_TYPE_TINKOFF: 1>, name='SimpleMomentumBot1', status=<AccountStatus.ACCOUNT_STATUS_OPEN: 2>, opened_date=datetime.datetime(2025, 5, 17, 9, 55, 2, 998807, tzinfo=datetime.timezone.utc), closed_date=datetime.datetime(1970, 1, 1, 0, 0, tzinfo=datetime.timezone.utc), access_level=<AccessLevel.ACCOUNT_ACCESS_LEVEL_FULL_ACCESS: 1>)])\n",
      "------\n",
      "GetMarginAttributesResponse(liquid_portfolio=MoneyValue(currency='rub', units=49999, nano=852260000), starting_margin=MoneyValue(currency='rub', units=0, nano=0), minimal_margin=MoneyValue(currency='rub', units=0, nano=0), funds_sufficiency_level=Quotation(units=2, nano=0), amount_of_missing_funds=MoneyValue(currency='rub', units=0, nano=0), corrected_margin=MoneyValue(currency='rub', units=0, nano=0))\n",
      "------\n"
     ]
    }
   ],
   "source": [
    "with SandboxClient(t_invest_token) as client:\n",
    "    \n",
    "    print(client.users.get_info())\n",
    "    \n",
    "    print(\"------\")\n",
    "    print(client.users.get_accounts())\n",
    "    \n",
    "    print(\"------\")\n",
    "    print(client.users.get_margin_attributes(account_id=get_account(client).id) )\n",
    "    \n",
    "    print(\"------\")\n",
    "    #print(client.users.get_user_tariff() )"
   ]
  },
  {
   "cell_type": "code",
   "execution_count": null,
   "id": "c6916f74-e869-4d8e-b4ff-92faaa3c88d9",
   "metadata": {},
   "outputs": [],
   "source": []
  },
  {
   "cell_type": "code",
   "execution_count": null,
   "id": "d0ce4251-bbb7-4ea5-835c-5c254acd8985",
   "metadata": {},
   "outputs": [],
   "source": []
  },
  {
   "cell_type": "code",
   "execution_count": null,
   "id": "3d2f15a1-30a0-44fb-bfd3-84be3dee68b8",
   "metadata": {},
   "outputs": [],
   "source": []
  },
  {
   "cell_type": "markdown",
   "id": "a9f7a149-a2df-46d0-acb1-6694323f381d",
   "metadata": {},
   "source": [
    "# Добавление аккаунта в песочницу"
   ]
  },
  {
   "cell_type": "code",
   "execution_count": 7,
   "id": "1510d93c-a8a1-41ac-bc64-3a9ea6977d5b",
   "metadata": {},
   "outputs": [],
   "source": [
    "#with SandboxClient(t_invest_token) as client:\n",
    "#        client.sandbox.open_sandbox_account(name=\"SimpleMomentumBot1\")"
   ]
  },
  {
   "cell_type": "code",
   "execution_count": 8,
   "id": "3e64c1f2-1909-4a78-a956-714e2c0ca67e",
   "metadata": {},
   "outputs": [],
   "source": [
    "#with SandboxClient(t_invest_token) as client:\n",
    "#    money = decimal_to_quotation(Decimal(50000))    \n",
    "#    client.sandbox.sandbox_pay_in(account_id='675e84ac-36da-4c28-a737-4c82f8e1f3ee', \n",
    "#                                  amount=MoneyValue(units=money.units, nano=money.nano, currency='rub'))"
   ]
  },
  {
   "cell_type": "code",
   "execution_count": null,
   "id": "7ddefcc2-661c-4852-91ef-0624ab2ced4c",
   "metadata": {},
   "outputs": [],
   "source": []
  },
  {
   "cell_type": "markdown",
   "id": "39b66c5b-ca6b-4bf6-91a2-a0463cf75ac9",
   "metadata": {},
   "source": [
    "# Получение данных по тикеру"
   ]
  },
  {
   "cell_type": "code",
   "execution_count": 9,
   "id": "7c0b58f0-5725-4449-8d35-76a5722c58b8",
   "metadata": {},
   "outputs": [],
   "source": [
    "#ticker = \"GDM5\"\n",
    "ticker = \"SBER\""
   ]
  },
  {
   "cell_type": "code",
   "execution_count": 10,
   "id": "c33a4734-a86e-4604-9986-d7b4532881ec",
   "metadata": {},
   "outputs": [],
   "source": [
    "data = []\n",
    "with SandboxClient(t_invest_token) as client:\n",
    "    #print(client.instruments.future_by(id=\"GDM5\", id_type=InstrumentIdType.INSTRUMENT_ID_TYPE_TICKER, class_code=\"future\"))\n",
    "    fs = list(filter(lambda x: x.ticker == ticker,  client.instruments.shares().instruments))    \n",
    "    if(len(fs) > 0):\n",
    "        figi = fs[0].figi     \n",
    "        for candle in client.get_all_candles(\n",
    "            figi=figi,\n",
    "            #from_=pytz.UTC.localize(datetime.combine(datetime.now(), time.min) - timedelta(days=1)),\n",
    "            from_=pytz.UTC.localize(datetime(2025,3,1)),\n",
    "            interval=CandleInterval.CANDLE_INTERVAL_1_MIN,\n",
    "        ):\n",
    "            data += [\n",
    "                [\n",
    "                 candle.time,\n",
    "                 float(quotation_to_decimal(candle.open)), \n",
    "                 float(quotation_to_decimal(candle.close)),\n",
    "                 float(quotation_to_decimal(candle.high)),\n",
    "                 float(quotation_to_decimal(candle.low)),\n",
    "                 candle.volume\n",
    "                ]]\n",
    "\n",
    "ticker_data_draft = pd.DataFrame(data, columns=['UTC', 'open', 'close','high','low','volume']) "
   ]
  },
  {
   "cell_type": "code",
   "execution_count": 11,
   "id": "561a8517-9d88-4020-9ef5-665df943d148",
   "metadata": {},
   "outputs": [
    {
     "data": {
      "text/html": [
       "<div>\n",
       "<style scoped>\n",
       "    .dataframe tbody tr th:only-of-type {\n",
       "        vertical-align: middle;\n",
       "    }\n",
       "\n",
       "    .dataframe tbody tr th {\n",
       "        vertical-align: top;\n",
       "    }\n",
       "\n",
       "    .dataframe thead th {\n",
       "        text-align: right;\n",
       "    }\n",
       "</style>\n",
       "<table border=\"1\" class=\"dataframe\">\n",
       "  <thead>\n",
       "    <tr style=\"text-align: right;\">\n",
       "      <th></th>\n",
       "      <th>UTC</th>\n",
       "      <th>open</th>\n",
       "      <th>close</th>\n",
       "      <th>high</th>\n",
       "      <th>low</th>\n",
       "      <th>volume</th>\n",
       "    </tr>\n",
       "  </thead>\n",
       "  <tbody>\n",
       "    <tr>\n",
       "      <th>0</th>\n",
       "      <td>2025-03-01 00:00:00+00:00</td>\n",
       "      <td>309.60</td>\n",
       "      <td>309.68</td>\n",
       "      <td>309.68</td>\n",
       "      <td>309.60</td>\n",
       "      <td>18</td>\n",
       "    </tr>\n",
       "    <tr>\n",
       "      <th>1</th>\n",
       "      <td>2025-03-01 00:01:00+00:00</td>\n",
       "      <td>309.60</td>\n",
       "      <td>309.60</td>\n",
       "      <td>309.60</td>\n",
       "      <td>309.60</td>\n",
       "      <td>6</td>\n",
       "    </tr>\n",
       "    <tr>\n",
       "      <th>2</th>\n",
       "      <td>2025-03-01 00:08:00+00:00</td>\n",
       "      <td>309.68</td>\n",
       "      <td>309.68</td>\n",
       "      <td>309.68</td>\n",
       "      <td>309.68</td>\n",
       "      <td>3</td>\n",
       "    </tr>\n",
       "    <tr>\n",
       "      <th>3</th>\n",
       "      <td>2025-03-01 00:09:00+00:00</td>\n",
       "      <td>309.60</td>\n",
       "      <td>309.68</td>\n",
       "      <td>309.68</td>\n",
       "      <td>309.60</td>\n",
       "      <td>4</td>\n",
       "    </tr>\n",
       "    <tr>\n",
       "      <th>4</th>\n",
       "      <td>2025-03-01 00:10:00+00:00</td>\n",
       "      <td>309.68</td>\n",
       "      <td>309.68</td>\n",
       "      <td>309.68</td>\n",
       "      <td>309.68</td>\n",
       "      <td>12</td>\n",
       "    </tr>\n",
       "    <tr>\n",
       "      <th>...</th>\n",
       "      <td>...</td>\n",
       "      <td>...</td>\n",
       "      <td>...</td>\n",
       "      <td>...</td>\n",
       "      <td>...</td>\n",
       "      <td>...</td>\n",
       "    </tr>\n",
       "    <tr>\n",
       "      <th>86918</th>\n",
       "      <td>2025-05-25 18:06:00+00:00</td>\n",
       "      <td>302.00</td>\n",
       "      <td>302.00</td>\n",
       "      <td>302.00</td>\n",
       "      <td>302.00</td>\n",
       "      <td>3</td>\n",
       "    </tr>\n",
       "    <tr>\n",
       "      <th>86919</th>\n",
       "      <td>2025-05-25 18:07:00+00:00</td>\n",
       "      <td>302.17</td>\n",
       "      <td>302.17</td>\n",
       "      <td>302.17</td>\n",
       "      <td>302.17</td>\n",
       "      <td>1</td>\n",
       "    </tr>\n",
       "    <tr>\n",
       "      <th>86920</th>\n",
       "      <td>2025-05-25 18:08:00+00:00</td>\n",
       "      <td>302.00</td>\n",
       "      <td>301.99</td>\n",
       "      <td>302.00</td>\n",
       "      <td>301.99</td>\n",
       "      <td>50</td>\n",
       "    </tr>\n",
       "    <tr>\n",
       "      <th>86921</th>\n",
       "      <td>2025-05-25 18:13:00+00:00</td>\n",
       "      <td>302.17</td>\n",
       "      <td>302.17</td>\n",
       "      <td>302.17</td>\n",
       "      <td>302.17</td>\n",
       "      <td>10</td>\n",
       "    </tr>\n",
       "    <tr>\n",
       "      <th>86922</th>\n",
       "      <td>2025-05-25 18:14:00+00:00</td>\n",
       "      <td>302.17</td>\n",
       "      <td>302.17</td>\n",
       "      <td>302.17</td>\n",
       "      <td>302.17</td>\n",
       "      <td>4</td>\n",
       "    </tr>\n",
       "  </tbody>\n",
       "</table>\n",
       "<p>86923 rows × 6 columns</p>\n",
       "</div>"
      ],
      "text/plain": [
       "                            UTC    open   close    high     low  volume\n",
       "0     2025-03-01 00:00:00+00:00  309.60  309.68  309.68  309.60      18\n",
       "1     2025-03-01 00:01:00+00:00  309.60  309.60  309.60  309.60       6\n",
       "2     2025-03-01 00:08:00+00:00  309.68  309.68  309.68  309.68       3\n",
       "3     2025-03-01 00:09:00+00:00  309.60  309.68  309.68  309.60       4\n",
       "4     2025-03-01 00:10:00+00:00  309.68  309.68  309.68  309.68      12\n",
       "...                         ...     ...     ...     ...     ...     ...\n",
       "86918 2025-05-25 18:06:00+00:00  302.00  302.00  302.00  302.00       3\n",
       "86919 2025-05-25 18:07:00+00:00  302.17  302.17  302.17  302.17       1\n",
       "86920 2025-05-25 18:08:00+00:00  302.00  301.99  302.00  301.99      50\n",
       "86921 2025-05-25 18:13:00+00:00  302.17  302.17  302.17  302.17      10\n",
       "86922 2025-05-25 18:14:00+00:00  302.17  302.17  302.17  302.17       4\n",
       "\n",
       "[86923 rows x 6 columns]"
      ]
     },
     "execution_count": 11,
     "metadata": {},
     "output_type": "execute_result"
    }
   ],
   "source": [
    "ticker_data_draft"
   ]
  },
  {
   "cell_type": "code",
   "execution_count": 12,
   "id": "f332fe1b-8889-40e8-a7c8-a76044d3f460",
   "metadata": {},
   "outputs": [],
   "source": [
    "ticker_data_draft.to_csv(\"data\\\\2025-\"+ticker+\"\\\\2025-\"+ticker+\".csv\", sep=';', encoding='utf-8', header=False)"
   ]
  },
  {
   "cell_type": "code",
   "execution_count": 13,
   "id": "9ba28acf-6178-4241-9a3a-c9c0fdebac52",
   "metadata": {},
   "outputs": [],
   "source": [
    "ticker_data = ticker_data_draft.copy()\n",
    "ticker_data.index = pd.DatetimeIndex(ticker_data_draft['UTC'])\n",
    "ticker_data.drop(['UTC'], axis=1, inplace=True)"
   ]
  },
  {
   "cell_type": "code",
   "execution_count": 14,
   "id": "29442290-a5dc-4e85-b73c-56368f11b195",
   "metadata": {},
   "outputs": [
    {
     "data": {
      "text/html": [
       "<div>\n",
       "<style scoped>\n",
       "    .dataframe tbody tr th:only-of-type {\n",
       "        vertical-align: middle;\n",
       "    }\n",
       "\n",
       "    .dataframe tbody tr th {\n",
       "        vertical-align: top;\n",
       "    }\n",
       "\n",
       "    .dataframe thead th {\n",
       "        text-align: right;\n",
       "    }\n",
       "</style>\n",
       "<table border=\"1\" class=\"dataframe\">\n",
       "  <thead>\n",
       "    <tr style=\"text-align: right;\">\n",
       "      <th></th>\n",
       "      <th>open</th>\n",
       "      <th>close</th>\n",
       "      <th>high</th>\n",
       "      <th>low</th>\n",
       "      <th>volume</th>\n",
       "    </tr>\n",
       "    <tr>\n",
       "      <th>UTC</th>\n",
       "      <th></th>\n",
       "      <th></th>\n",
       "      <th></th>\n",
       "      <th></th>\n",
       "      <th></th>\n",
       "    </tr>\n",
       "  </thead>\n",
       "  <tbody>\n",
       "    <tr>\n",
       "      <th>2025-03-01 00:00:00+00:00</th>\n",
       "      <td>309.60</td>\n",
       "      <td>309.68</td>\n",
       "      <td>309.68</td>\n",
       "      <td>309.60</td>\n",
       "      <td>18</td>\n",
       "    </tr>\n",
       "    <tr>\n",
       "      <th>2025-03-01 00:01:00+00:00</th>\n",
       "      <td>309.60</td>\n",
       "      <td>309.60</td>\n",
       "      <td>309.60</td>\n",
       "      <td>309.60</td>\n",
       "      <td>6</td>\n",
       "    </tr>\n",
       "    <tr>\n",
       "      <th>2025-03-01 00:08:00+00:00</th>\n",
       "      <td>309.68</td>\n",
       "      <td>309.68</td>\n",
       "      <td>309.68</td>\n",
       "      <td>309.68</td>\n",
       "      <td>3</td>\n",
       "    </tr>\n",
       "    <tr>\n",
       "      <th>2025-03-01 00:09:00+00:00</th>\n",
       "      <td>309.60</td>\n",
       "      <td>309.68</td>\n",
       "      <td>309.68</td>\n",
       "      <td>309.60</td>\n",
       "      <td>4</td>\n",
       "    </tr>\n",
       "    <tr>\n",
       "      <th>2025-03-01 00:10:00+00:00</th>\n",
       "      <td>309.68</td>\n",
       "      <td>309.68</td>\n",
       "      <td>309.68</td>\n",
       "      <td>309.68</td>\n",
       "      <td>12</td>\n",
       "    </tr>\n",
       "    <tr>\n",
       "      <th>...</th>\n",
       "      <td>...</td>\n",
       "      <td>...</td>\n",
       "      <td>...</td>\n",
       "      <td>...</td>\n",
       "      <td>...</td>\n",
       "    </tr>\n",
       "    <tr>\n",
       "      <th>2025-05-25 18:06:00+00:00</th>\n",
       "      <td>302.00</td>\n",
       "      <td>302.00</td>\n",
       "      <td>302.00</td>\n",
       "      <td>302.00</td>\n",
       "      <td>3</td>\n",
       "    </tr>\n",
       "    <tr>\n",
       "      <th>2025-05-25 18:07:00+00:00</th>\n",
       "      <td>302.17</td>\n",
       "      <td>302.17</td>\n",
       "      <td>302.17</td>\n",
       "      <td>302.17</td>\n",
       "      <td>1</td>\n",
       "    </tr>\n",
       "    <tr>\n",
       "      <th>2025-05-25 18:08:00+00:00</th>\n",
       "      <td>302.00</td>\n",
       "      <td>301.99</td>\n",
       "      <td>302.00</td>\n",
       "      <td>301.99</td>\n",
       "      <td>50</td>\n",
       "    </tr>\n",
       "    <tr>\n",
       "      <th>2025-05-25 18:13:00+00:00</th>\n",
       "      <td>302.17</td>\n",
       "      <td>302.17</td>\n",
       "      <td>302.17</td>\n",
       "      <td>302.17</td>\n",
       "      <td>10</td>\n",
       "    </tr>\n",
       "    <tr>\n",
       "      <th>2025-05-25 18:14:00+00:00</th>\n",
       "      <td>302.17</td>\n",
       "      <td>302.17</td>\n",
       "      <td>302.17</td>\n",
       "      <td>302.17</td>\n",
       "      <td>4</td>\n",
       "    </tr>\n",
       "  </tbody>\n",
       "</table>\n",
       "<p>86923 rows × 5 columns</p>\n",
       "</div>"
      ],
      "text/plain": [
       "                             open   close    high     low  volume\n",
       "UTC                                                              \n",
       "2025-03-01 00:00:00+00:00  309.60  309.68  309.68  309.60      18\n",
       "2025-03-01 00:01:00+00:00  309.60  309.60  309.60  309.60       6\n",
       "2025-03-01 00:08:00+00:00  309.68  309.68  309.68  309.68       3\n",
       "2025-03-01 00:09:00+00:00  309.60  309.68  309.68  309.60       4\n",
       "2025-03-01 00:10:00+00:00  309.68  309.68  309.68  309.68      12\n",
       "...                           ...     ...     ...     ...     ...\n",
       "2025-05-25 18:06:00+00:00  302.00  302.00  302.00  302.00       3\n",
       "2025-05-25 18:07:00+00:00  302.17  302.17  302.17  302.17       1\n",
       "2025-05-25 18:08:00+00:00  302.00  301.99  302.00  301.99      50\n",
       "2025-05-25 18:13:00+00:00  302.17  302.17  302.17  302.17      10\n",
       "2025-05-25 18:14:00+00:00  302.17  302.17  302.17  302.17       4\n",
       "\n",
       "[86923 rows x 5 columns]"
      ]
     },
     "execution_count": 14,
     "metadata": {},
     "output_type": "execute_result"
    }
   ],
   "source": [
    "ticker_data"
   ]
  },
  {
   "cell_type": "code",
   "execution_count": null,
   "id": "a593466a-c028-431b-a53e-eeba52a6392a",
   "metadata": {},
   "outputs": [],
   "source": []
  },
  {
   "cell_type": "code",
   "execution_count": null,
   "id": "0a28506f-2f55-4f08-ad37-c931b266d87b",
   "metadata": {},
   "outputs": [],
   "source": []
  },
  {
   "cell_type": "code",
   "execution_count": null,
   "id": "db1f7bf0-163d-4c18-a7ac-b148c7627e7a",
   "metadata": {},
   "outputs": [],
   "source": []
  },
  {
   "cell_type": "markdown",
   "id": "9dede94d-2bbf-4352-ad64-0853134d84c6",
   "metadata": {},
   "source": [
    "# Размещение заявок"
   ]
  },
  {
   "cell_type": "code",
   "execution_count": 37,
   "id": "960f0de8-0fa5-4a01-93f8-265b1592a68f",
   "metadata": {},
   "outputs": [],
   "source": [
    "figi = \"BBG004730N88\"  # BBG004730ZJ9 - VTBR / BBG004730N88 - SBER"
   ]
  },
  {
   "cell_type": "code",
   "execution_count": 38,
   "id": "ad13fd74-97e3-4ec0-862a-5ad64b0f56de",
   "metadata": {},
   "outputs": [
    {
     "name": "stdout",
     "output_type": "stream",
     "text": [
      "GetTradingStatusesResponse(trading_statuses=[GetTradingStatusResponse(figi='BBG004730N88', trading_status=<SecurityTradingStatus.SECURITY_TRADING_STATUS_NOT_AVAILABLE_FOR_TRADING: 1>, limit_order_available_flag=False, market_order_available_flag=False, api_trade_available_flag=True, instrument_uid='e6123145-9665-43e0-8413-cd61b8aa9b13', bestprice_order_available_flag=False, only_best_price=False)])\n"
     ]
    }
   ],
   "source": [
    "with SandboxClient(t_invest_token) as client:\n",
    "    statuses = client.market_data.get_trading_statuses(instrument_ids=[figi])\n",
    "    client.market_data.get_trading_status(figi=\n",
    "    print(statuses)"
   ]
  },
  {
   "cell_type": "code",
   "execution_count": 40,
   "id": "3bc0b4e0-2783-4370-91ae-219e1bb0f5a6",
   "metadata": {},
   "outputs": [
    {
     "name": "stderr",
     "output_type": "stream",
     "text": [
      "bf5b237d957aac4552798893215ad5a9 PostOrder INVALID_ARGUMENT 30079\n"
     ]
    },
    {
     "ename": "RequestError",
     "evalue": "(<StatusCode.INVALID_ARGUMENT: (3, 'invalid argument')>, '30079', Metadata(tracking_id='bf5b237d957aac4552798893215ad5a9', ratelimit_limit='200, 200;w=60', ratelimit_remaining=198, ratelimit_reset=58, message='Instrument is not available for trading'))",
     "output_type": "error",
     "traceback": [
      "\u001b[1;31m---------------------------------------------------------------------------\u001b[0m",
      "\u001b[1;31m_InactiveRpcError\u001b[0m                         Traceback (most recent call last)",
      "File \u001b[1;32m~\\AppData\\Roaming\\Python\\Python312\\site-packages\\tinkoff\\invest\\_errors.py:23\u001b[0m, in \u001b[0;36mhandle_request_error.<locals>.decorator.<locals>.wrapper\u001b[1;34m(*args, **kwargs)\u001b[0m\n\u001b[0;32m     22\u001b[0m \u001b[38;5;28;01mtry\u001b[39;00m:\n\u001b[1;32m---> 23\u001b[0m     \u001b[38;5;28;01mreturn\u001b[39;00m func(\u001b[38;5;241m*\u001b[39margs, \u001b[38;5;241m*\u001b[39m\u001b[38;5;241m*\u001b[39mkwargs)\n\u001b[0;32m     24\u001b[0m \u001b[38;5;28;01mexcept\u001b[39;00m RpcError \u001b[38;5;28;01mas\u001b[39;00m e:\n",
      "File \u001b[1;32m~\\AppData\\Roaming\\Python\\Python312\\site-packages\\tinkoff\\invest\\services.py:1467\u001b[0m, in \u001b[0;36mOrdersService.post_order\u001b[1;34m(self, figi, quantity, price, direction, account_id, order_type, order_id, instrument_id, time_in_force, price_type)\u001b[0m\n\u001b[0;32m   1466\u001b[0m request\u001b[38;5;241m.\u001b[39mprice_type \u001b[38;5;241m=\u001b[39m price_type\n\u001b[1;32m-> 1467\u001b[0m response, call \u001b[38;5;241m=\u001b[39m \u001b[38;5;28mself\u001b[39m\u001b[38;5;241m.\u001b[39mstub\u001b[38;5;241m.\u001b[39mPostOrder\u001b[38;5;241m.\u001b[39mwith_call(\n\u001b[0;32m   1468\u001b[0m     request\u001b[38;5;241m=\u001b[39m_grpc_helpers\u001b[38;5;241m.\u001b[39mdataclass_to_protobuff(\n\u001b[0;32m   1469\u001b[0m         request, orders_pb2\u001b[38;5;241m.\u001b[39mPostOrderRequest()\n\u001b[0;32m   1470\u001b[0m     ),\n\u001b[0;32m   1471\u001b[0m     metadata\u001b[38;5;241m=\u001b[39m\u001b[38;5;28mself\u001b[39m\u001b[38;5;241m.\u001b[39mmetadata,\n\u001b[0;32m   1472\u001b[0m )\n\u001b[0;32m   1473\u001b[0m log_request(get_tracking_id_from_call(call), \u001b[38;5;124m\"\u001b[39m\u001b[38;5;124mPostOrder\u001b[39m\u001b[38;5;124m\"\u001b[39m)\n",
      "File \u001b[1;32m~\\AppData\\Roaming\\Python\\Python312\\site-packages\\grpc\\_channel.py:1198\u001b[0m, in \u001b[0;36m_UnaryUnaryMultiCallable.with_call\u001b[1;34m(self, request, timeout, metadata, credentials, wait_for_ready, compression)\u001b[0m\n\u001b[0;32m   1192\u001b[0m (\n\u001b[0;32m   1193\u001b[0m     state,\n\u001b[0;32m   1194\u001b[0m     call,\n\u001b[0;32m   1195\u001b[0m ) \u001b[38;5;241m=\u001b[39m \u001b[38;5;28mself\u001b[39m\u001b[38;5;241m.\u001b[39m_blocking(\n\u001b[0;32m   1196\u001b[0m     request, timeout, metadata, credentials, wait_for_ready, compression\n\u001b[0;32m   1197\u001b[0m )\n\u001b[1;32m-> 1198\u001b[0m \u001b[38;5;28;01mreturn\u001b[39;00m _end_unary_response_blocking(state, call, \u001b[38;5;28;01mTrue\u001b[39;00m, \u001b[38;5;28;01mNone\u001b[39;00m)\n",
      "File \u001b[1;32m~\\AppData\\Roaming\\Python\\Python312\\site-packages\\grpc\\_channel.py:1006\u001b[0m, in \u001b[0;36m_end_unary_response_blocking\u001b[1;34m(state, call, with_call, deadline)\u001b[0m\n\u001b[0;32m   1005\u001b[0m \u001b[38;5;28;01melse\u001b[39;00m:\n\u001b[1;32m-> 1006\u001b[0m     \u001b[38;5;28;01mraise\u001b[39;00m _InactiveRpcError(state)\n",
      "\u001b[1;31m_InactiveRpcError\u001b[0m: <_InactiveRpcError of RPC that terminated with:\n\tstatus = StatusCode.INVALID_ARGUMENT\n\tdetails = \"30079\"\n\tdebug_error_string = \"UNKNOWN:Error received from peer  {created_time:\"2025-05-24T21:23:04.2604886+00:00\", grpc_status:3, grpc_message:\"30079\"}\"\n>",
      "\nThe above exception was the direct cause of the following exception:\n",
      "\u001b[1;31mRequestError\u001b[0m                              Traceback (most recent call last)",
      "Cell \u001b[1;32mIn[40], line 5\u001b[0m\n\u001b[0;32m      2\u001b[0m account \u001b[38;5;241m=\u001b[39m get_account(client)\n\u001b[0;32m      4\u001b[0m order_id \u001b[38;5;241m=\u001b[39m \u001b[38;5;28mstr\u001b[39m(uuid\u001b[38;5;241m.\u001b[39muuid4())\n\u001b[1;32m----> 5\u001b[0m post_order_response \u001b[38;5;241m=\u001b[39m client\u001b[38;5;241m.\u001b[39morders\u001b[38;5;241m.\u001b[39mpost_order(\n\u001b[0;32m      6\u001b[0m         quantity\u001b[38;5;241m=\u001b[39m\u001b[38;5;241m1\u001b[39m,\n\u001b[0;32m      7\u001b[0m         direction\u001b[38;5;241m=\u001b[39mOrderDirection\u001b[38;5;241m.\u001b[39mORDER_DIRECTION_BUY,\n\u001b[0;32m      8\u001b[0m         account_id\u001b[38;5;241m=\u001b[39maccount\u001b[38;5;241m.\u001b[39mid,\n\u001b[0;32m      9\u001b[0m         order_type\u001b[38;5;241m=\u001b[39mOrderType\u001b[38;5;241m.\u001b[39mORDER_TYPE_MARKET,\n\u001b[0;32m     10\u001b[0m         order_id\u001b[38;5;241m=\u001b[39morder_id,\n\u001b[0;32m     11\u001b[0m         instrument_id\u001b[38;5;241m=\u001b[39mfigi,\n\u001b[0;32m     12\u001b[0m     )\n\u001b[0;32m     14\u001b[0m post_order_response\n",
      "File \u001b[1;32m~\\AppData\\Roaming\\Python\\Python312\\site-packages\\tinkoff\\invest\\_errors.py:41\u001b[0m, in \u001b[0;36mhandle_request_error.<locals>.decorator.<locals>.wrapper\u001b[1;34m(*args, **kwargs)\u001b[0m\n\u001b[0;32m     36\u001b[0m     \u001b[38;5;28;01mif\u001b[39;00m status_code \u001b[38;5;241m==\u001b[39m StatusCode\u001b[38;5;241m.\u001b[39mUNAUTHENTICATED:\n\u001b[0;32m     37\u001b[0m         \u001b[38;5;28;01mraise\u001b[39;00m UnauthenticatedError(\n\u001b[0;32m     38\u001b[0m             status_code, details, metadata\n\u001b[0;32m     39\u001b[0m         ) \u001b[38;5;28;01mfrom\u001b[39;00m \u001b[38;5;21;01me\u001b[39;00m\n\u001b[1;32m---> 41\u001b[0m     \u001b[38;5;28;01mraise\u001b[39;00m RequestError(status_code, details, metadata) \u001b[38;5;28;01mfrom\u001b[39;00m \u001b[38;5;21;01me\u001b[39;00m\n\u001b[0;32m     42\u001b[0m \u001b[38;5;28;01mraise\u001b[39;00m\n",
      "\u001b[1;31mRequestError\u001b[0m: (<StatusCode.INVALID_ARGUMENT: (3, 'invalid argument')>, '30079', Metadata(tracking_id='bf5b237d957aac4552798893215ad5a9', ratelimit_limit='200, 200;w=60', ratelimit_remaining=198, ratelimit_reset=58, message='Instrument is not available for trading'))"
     ]
    }
   ],
   "source": [
    "with SandboxClient(t_invest_token) as client:\n",
    "    account = get_account(client)\n",
    "    \n",
    "    order_id = str(uuid.uuid4())\n",
    "    post_order_response = client.orders.post_order(\n",
    "            quantity=1,\n",
    "            direction=OrderDirection.ORDER_DIRECTION_BUY,\n",
    "            account_id=account.id,\n",
    "            order_type=OrderType.ORDER_TYPE_MARKET,\n",
    "            order_id=order_id,\n",
    "            instrument_id=figi,\n",
    "        )\n",
    "\n",
    "    post_order_response"
   ]
  },
  {
   "cell_type": "code",
   "execution_count": 34,
   "id": "44437290-a338-4292-9ba3-ca55da2b6eb3",
   "metadata": {},
   "outputs": [
    {
     "data": {
      "text/plain": [
       "PostOrderResponse(order_id='18eecacf-2e82-4784-bf17-7680f9847b4c', execution_report_status=<OrderExecutionReportStatus.EXECUTION_REPORT_STATUS_FILL: 1>, lots_requested=1, lots_executed=1, initial_order_price=MoneyValue(currency='rub', units=95, nano=480000000), executed_order_price=MoneyValue(currency='rub', units=95, nano=480000000), total_order_amount=MoneyValue(currency='rub', units=95, nano=480000000), initial_commission=MoneyValue(currency='rub', units=0, nano=47740000), executed_commission=MoneyValue(currency='rub', units=0, nano=47740000), aci_value=MoneyValue(currency='', units=0, nano=0), figi='BBG004730ZJ9', direction=<OrderDirection.ORDER_DIRECTION_BUY: 1>, initial_security_price=MoneyValue(currency='rub', units=95, nano=480000000), order_type=<OrderType.ORDER_TYPE_MARKET: 2>, message='', initial_order_price_pt=Quotation(units=0, nano=0), instrument_uid='8e2b0325-0292-4654-8a18-4f63ed3b0e09', order_request_id='53b430d1-2c50-47f6-9023-e7f55b3fa51f', response_metadata=ResponseMetadata(tracking_id='edede3aba15c4c06982bfdb269ee28de', server_time=datetime.datetime(2025, 5, 24, 20, 45, 51, 146880, tzinfo=datetime.timezone.utc)))"
      ]
     },
     "execution_count": 34,
     "metadata": {},
     "output_type": "execute_result"
    }
   ],
   "source": [
    "post_order_response"
   ]
  },
  {
   "cell_type": "code",
   "execution_count": 41,
   "id": "d240858b-27eb-4442-865b-a9cff76af87f",
   "metadata": {},
   "outputs": [
    {
     "name": "stdout",
     "output_type": "stream",
     "text": [
      "PositionsStreamResponse(subscriptions=PositionsSubscriptionResult(accounts=[PositionsSubscriptionStatus(account_id='675e84ac-36da-4c28-a737-4c82f8e1f3ee', subscription_status=<PositionsAccountSubscriptionStatus.POSITIONS_SUBSCRIPTION_STATUS_SUCCESS: 1>)], tracking_id='', stream_id=''), position=None, ping=None, initial_positions=None)\n"
     ]
    },
    {
     "ename": "KeyboardInterrupt",
     "evalue": "",
     "output_type": "error",
     "traceback": [
      "\u001b[1;31m---------------------------------------------------------------------------\u001b[0m",
      "\u001b[1;31mKeyboardInterrupt\u001b[0m                         Traceback (most recent call last)",
      "Cell \u001b[1;32mIn[41], line 4\u001b[0m\n\u001b[0;32m      2\u001b[0m response \u001b[38;5;241m=\u001b[39m client\u001b[38;5;241m.\u001b[39musers\u001b[38;5;241m.\u001b[39mget_accounts()\n\u001b[0;32m      3\u001b[0m accounts \u001b[38;5;241m=\u001b[39m [account\u001b[38;5;241m.\u001b[39mid \u001b[38;5;28;01mfor\u001b[39;00m account \u001b[38;5;129;01min\u001b[39;00m response\u001b[38;5;241m.\u001b[39maccounts]\n\u001b[1;32m----> 4\u001b[0m \u001b[38;5;28;01mfor\u001b[39;00m response \u001b[38;5;129;01min\u001b[39;00m client\u001b[38;5;241m.\u001b[39moperations_stream\u001b[38;5;241m.\u001b[39mpositions_stream(accounts\u001b[38;5;241m=\u001b[39maccounts):\n\u001b[0;32m      5\u001b[0m     \u001b[38;5;28mprint\u001b[39m(response)\n",
      "File \u001b[1;32m~\\AppData\\Roaming\\Python\\Python312\\site-packages\\tinkoff\\invest\\_errors.py:54\u001b[0m, in \u001b[0;36mhandle_request_error_gen.<locals>.decorator.<locals>.wrapper\u001b[1;34m(*args, **kwargs)\u001b[0m\n\u001b[0;32m     51\u001b[0m \u001b[38;5;129m@wraps\u001b[39m(func)\n\u001b[0;32m     52\u001b[0m \u001b[38;5;28;01mdef\u001b[39;00m \u001b[38;5;21mwrapper\u001b[39m(\u001b[38;5;241m*\u001b[39margs: Any, \u001b[38;5;241m*\u001b[39m\u001b[38;5;241m*\u001b[39mkwargs: Any) \u001b[38;5;241m-\u001b[39m\u001b[38;5;241m>\u001b[39m Any:\n\u001b[0;32m     53\u001b[0m     \u001b[38;5;28;01mtry\u001b[39;00m:\n\u001b[1;32m---> 54\u001b[0m         \u001b[38;5;28;01myield from\u001b[39;00m func(\u001b[38;5;241m*\u001b[39margs, \u001b[38;5;241m*\u001b[39m\u001b[38;5;241m*\u001b[39mkwargs)\n\u001b[0;32m     55\u001b[0m     \u001b[38;5;28;01mexcept\u001b[39;00m RpcError \u001b[38;5;28;01mas\u001b[39;00m e:\n\u001b[0;32m     56\u001b[0m         \u001b[38;5;28;01mif\u001b[39;00m \u001b[38;5;28missubclass\u001b[39m(\u001b[38;5;28mtype\u001b[39m(e), Call):\n",
      "File \u001b[1;32m~\\AppData\\Roaming\\Python\\Python312\\site-packages\\tinkoff\\invest\\services.py:1382\u001b[0m, in \u001b[0;36mOperationsStreamService.positions_stream\u001b[1;34m(self, accounts, ping_delay_ms, with_initial_positions)\u001b[0m\n\u001b[0;32m   1380\u001b[0m \u001b[38;5;28;01mif\u001b[39;00m with_initial_positions:\n\u001b[0;32m   1381\u001b[0m     request\u001b[38;5;241m.\u001b[39mwith_initial_positions \u001b[38;5;241m=\u001b[39m with_initial_positions\n\u001b[1;32m-> 1382\u001b[0m \u001b[38;5;28;01mfor\u001b[39;00m response \u001b[38;5;129;01min\u001b[39;00m \u001b[38;5;28mself\u001b[39m\u001b[38;5;241m.\u001b[39mstub\u001b[38;5;241m.\u001b[39mPositionsStream(\n\u001b[0;32m   1383\u001b[0m     request\u001b[38;5;241m=\u001b[39m_grpc_helpers\u001b[38;5;241m.\u001b[39mdataclass_to_protobuff(\n\u001b[0;32m   1384\u001b[0m         request, operations_pb2\u001b[38;5;241m.\u001b[39mPositionsStreamRequest()\n\u001b[0;32m   1385\u001b[0m     ),\n\u001b[0;32m   1386\u001b[0m     metadata\u001b[38;5;241m=\u001b[39m\u001b[38;5;28mself\u001b[39m\u001b[38;5;241m.\u001b[39mmetadata,\n\u001b[0;32m   1387\u001b[0m ):\n\u001b[0;32m   1388\u001b[0m     \u001b[38;5;28;01myield\u001b[39;00m _grpc_helpers\u001b[38;5;241m.\u001b[39mprotobuf_to_dataclass(response, PositionsStreamResponse)\n",
      "File \u001b[1;32m~\\AppData\\Roaming\\Python\\Python312\\site-packages\\grpc\\_channel.py:543\u001b[0m, in \u001b[0;36m_Rendezvous.__next__\u001b[1;34m(self)\u001b[0m\n\u001b[0;32m    542\u001b[0m \u001b[38;5;28;01mdef\u001b[39;00m \u001b[38;5;21m__next__\u001b[39m(\u001b[38;5;28mself\u001b[39m):\n\u001b[1;32m--> 543\u001b[0m     \u001b[38;5;28;01mreturn\u001b[39;00m \u001b[38;5;28mself\u001b[39m\u001b[38;5;241m.\u001b[39m_next()\n",
      "File \u001b[1;32m~\\AppData\\Roaming\\Python\\Python312\\site-packages\\grpc\\_channel.py:960\u001b[0m, in \u001b[0;36m_MultiThreadedRendezvous._next\u001b[1;34m(self)\u001b[0m\n\u001b[0;32m    954\u001b[0m \u001b[38;5;28;01mdef\u001b[39;00m \u001b[38;5;21m_response_ready\u001b[39m():\n\u001b[0;32m    955\u001b[0m     \u001b[38;5;28;01mreturn\u001b[39;00m \u001b[38;5;28mself\u001b[39m\u001b[38;5;241m.\u001b[39m_state\u001b[38;5;241m.\u001b[39mresponse \u001b[38;5;129;01mis\u001b[39;00m \u001b[38;5;129;01mnot\u001b[39;00m \u001b[38;5;28;01mNone\u001b[39;00m \u001b[38;5;129;01mor\u001b[39;00m (\n\u001b[0;32m    956\u001b[0m         cygrpc\u001b[38;5;241m.\u001b[39mOperationType\u001b[38;5;241m.\u001b[39mreceive_message \u001b[38;5;129;01mnot\u001b[39;00m \u001b[38;5;129;01min\u001b[39;00m \u001b[38;5;28mself\u001b[39m\u001b[38;5;241m.\u001b[39m_state\u001b[38;5;241m.\u001b[39mdue\n\u001b[0;32m    957\u001b[0m         \u001b[38;5;129;01mand\u001b[39;00m \u001b[38;5;28mself\u001b[39m\u001b[38;5;241m.\u001b[39m_state\u001b[38;5;241m.\u001b[39mcode \u001b[38;5;129;01mis\u001b[39;00m \u001b[38;5;129;01mnot\u001b[39;00m \u001b[38;5;28;01mNone\u001b[39;00m\n\u001b[0;32m    958\u001b[0m     )\n\u001b[1;32m--> 960\u001b[0m _common\u001b[38;5;241m.\u001b[39mwait(\u001b[38;5;28mself\u001b[39m\u001b[38;5;241m.\u001b[39m_state\u001b[38;5;241m.\u001b[39mcondition\u001b[38;5;241m.\u001b[39mwait, _response_ready)\n\u001b[0;32m    961\u001b[0m \u001b[38;5;28;01mif\u001b[39;00m \u001b[38;5;28mself\u001b[39m\u001b[38;5;241m.\u001b[39m_state\u001b[38;5;241m.\u001b[39mresponse \u001b[38;5;129;01mis\u001b[39;00m \u001b[38;5;129;01mnot\u001b[39;00m \u001b[38;5;28;01mNone\u001b[39;00m:\n\u001b[0;32m    962\u001b[0m     response \u001b[38;5;241m=\u001b[39m \u001b[38;5;28mself\u001b[39m\u001b[38;5;241m.\u001b[39m_state\u001b[38;5;241m.\u001b[39mresponse\n",
      "File \u001b[1;32m~\\AppData\\Roaming\\Python\\Python312\\site-packages\\grpc\\_common.py:156\u001b[0m, in \u001b[0;36mwait\u001b[1;34m(wait_fn, wait_complete_fn, timeout, spin_cb)\u001b[0m\n\u001b[0;32m    154\u001b[0m \u001b[38;5;28;01mif\u001b[39;00m timeout \u001b[38;5;129;01mis\u001b[39;00m \u001b[38;5;28;01mNone\u001b[39;00m:\n\u001b[0;32m    155\u001b[0m     \u001b[38;5;28;01mwhile\u001b[39;00m \u001b[38;5;129;01mnot\u001b[39;00m wait_complete_fn():\n\u001b[1;32m--> 156\u001b[0m         _wait_once(wait_fn, MAXIMUM_WAIT_TIMEOUT, spin_cb)\n\u001b[0;32m    157\u001b[0m \u001b[38;5;28;01melse\u001b[39;00m:\n\u001b[0;32m    158\u001b[0m     end \u001b[38;5;241m=\u001b[39m time\u001b[38;5;241m.\u001b[39mtime() \u001b[38;5;241m+\u001b[39m timeout\n",
      "File \u001b[1;32m~\\AppData\\Roaming\\Python\\Python312\\site-packages\\grpc\\_common.py:116\u001b[0m, in \u001b[0;36m_wait_once\u001b[1;34m(wait_fn, timeout, spin_cb)\u001b[0m\n\u001b[0;32m    111\u001b[0m \u001b[38;5;28;01mdef\u001b[39;00m \u001b[38;5;21m_wait_once\u001b[39m(\n\u001b[0;32m    112\u001b[0m     wait_fn: Callable[\u001b[38;5;241m.\u001b[39m\u001b[38;5;241m.\u001b[39m\u001b[38;5;241m.\u001b[39m, \u001b[38;5;28mbool\u001b[39m],\n\u001b[0;32m    113\u001b[0m     timeout: \u001b[38;5;28mfloat\u001b[39m,\n\u001b[0;32m    114\u001b[0m     spin_cb: Optional[Callable[[], \u001b[38;5;28;01mNone\u001b[39;00m]],\n\u001b[0;32m    115\u001b[0m ):\n\u001b[1;32m--> 116\u001b[0m     wait_fn(timeout\u001b[38;5;241m=\u001b[39mtimeout)\n\u001b[0;32m    117\u001b[0m     \u001b[38;5;28;01mif\u001b[39;00m spin_cb \u001b[38;5;129;01mis\u001b[39;00m \u001b[38;5;129;01mnot\u001b[39;00m \u001b[38;5;28;01mNone\u001b[39;00m:\n\u001b[0;32m    118\u001b[0m         spin_cb()\n",
      "File \u001b[1;32mC:\\ProgramData\\anaconda3\\Lib\\threading.py:359\u001b[0m, in \u001b[0;36mCondition.wait\u001b[1;34m(self, timeout)\u001b[0m\n\u001b[0;32m    357\u001b[0m \u001b[38;5;28;01melse\u001b[39;00m:\n\u001b[0;32m    358\u001b[0m     \u001b[38;5;28;01mif\u001b[39;00m timeout \u001b[38;5;241m>\u001b[39m \u001b[38;5;241m0\u001b[39m:\n\u001b[1;32m--> 359\u001b[0m         gotit \u001b[38;5;241m=\u001b[39m waiter\u001b[38;5;241m.\u001b[39macquire(\u001b[38;5;28;01mTrue\u001b[39;00m, timeout)\n\u001b[0;32m    360\u001b[0m     \u001b[38;5;28;01melse\u001b[39;00m:\n\u001b[0;32m    361\u001b[0m         gotit \u001b[38;5;241m=\u001b[39m waiter\u001b[38;5;241m.\u001b[39macquire(\u001b[38;5;28;01mFalse\u001b[39;00m)\n",
      "\u001b[1;31mKeyboardInterrupt\u001b[0m: "
     ]
    }
   ],
   "source": [
    "with SandboxClient(t_invest_token) as client:\n",
    "        response = client.users.get_accounts()\n",
    "        accounts = [account.id for account in response.accounts]\n",
    "        for response in client.operations.get_positions .positions_stream(accounts=accounts):\n",
    "            print(response)"
   ]
  },
  {
   "cell_type": "code",
   "execution_count": 47,
   "id": "43c2d564-c99c-4c52-836f-8df8fa8ca468",
   "metadata": {},
   "outputs": [
    {
     "name": "stdout",
     "output_type": "stream",
     "text": [
      "[PortfolioPosition(figi='RUB000UTSTOM', instrument_type='currency', quantity=Quotation(units=49904, nano=472260000), average_position_price=MoneyValue(currency='', units=0, nano=0), expected_yield=Quotation(units=0, nano=0), current_nkd=MoneyValue(currency='', units=0, nano=0), average_position_price_pt=Quotation(units=0, nano=0), current_price=MoneyValue(currency='', units=0, nano=0), average_position_price_fifo=MoneyValue(currency='', units=0, nano=0), quantity_lots=Quotation(units=49904, nano=472260000), blocked=False, blocked_lots=Quotation(units=0, nano=0), position_uid='33e24a92-aab0-409c-88b8-f2d57415b920', instrument_uid='a92e2e25-a698-45cc-a781-167cf465257c', var_margin=MoneyValue(currency='', units=0, nano=0), expected_yield_fifo=Quotation(units=0, nano=0), daily_yield=MoneyValue(currency='', units=0, nano=0), ticker=''), PortfolioPosition(figi='BBG004730ZJ9', instrument_type='share', quantity=Quotation(units=1, nano=0), average_position_price=MoneyValue(currency='rub', units=95, nano=480000000), expected_yield=Quotation(units=0, nano=0), current_nkd=MoneyValue(currency='', units=0, nano=0), average_position_price_pt=Quotation(units=0, nano=0), current_price=MoneyValue(currency='rub', units=95, nano=490000000), average_position_price_fifo=MoneyValue(currency='rub', units=95, nano=480000000), quantity_lots=Quotation(units=1, nano=0), blocked=False, blocked_lots=Quotation(units=0, nano=0), position_uid='626d2ab0-3359-4d2d-8366-daedd2a0d000', instrument_uid='8e2b0325-0292-4654-8a18-4f63ed3b0e09', var_margin=MoneyValue(currency='', units=0, nano=0), expected_yield_fifo=Quotation(units=0, nano=0), daily_yield=MoneyValue(currency='', units=0, nano=0), ticker='VTBR')]\n"
     ]
    }
   ],
   "source": [
    "with SandboxClient(t_invest_token) as client:\n",
    "        print(client.operations.get_portfolio(account_id=get_account(client).id).positions)"
   ]
  },
  {
   "cell_type": "code",
   "execution_count": null,
   "id": "66925ac6-72fe-4c20-8650-5f207ff54bfb",
   "metadata": {},
   "outputs": [],
   "source": []
  },
  {
   "cell_type": "markdown",
   "id": "d9ec35ed-e46e-443d-bd3b-1a0b2ee1792c",
   "metadata": {},
   "source": [
    "# Торговый бот"
   ]
  },
  {
   "cell_type": "code",
   "execution_count": 51,
   "id": "b6aa6d9b-f88e-4685-8ae6-abb3ea0826c9",
   "metadata": {},
   "outputs": [],
   "source": [
    "class StrategyCommand(enum.Enum):\n",
    "    BEAR_GO = -2\n",
    "    BEAR_HOLD = -1\n",
    "    CLOSE = 0\n",
    "    BULL_HOLD = 1\n",
    "    BULL_GO = 2"
   ]
  },
  {
   "cell_type": "code",
   "execution_count": 50,
   "id": "3fc275ef-997c-40ff-8f96-682f25cbd020",
   "metadata": {},
   "outputs": [],
   "source": [
    "class Strategy:\n",
    "    \n",
    "    # конфигурация\n",
    "    frame_size = 22\n",
    "    #frame_size = 120\n",
    "    fractal_in_enabled  = False\n",
    "    fractal_out_enabled = False\n",
    "    fractal_size = 4\n",
    "    \n",
    "    def __init__(self):\n",
    "        \n",
    "        return\n",
    "\n",
    "    # Расчет индикаторов\n",
    "    def calc_indicators(self, data ):\n",
    "        quotes = [Quote(d,o,h,l,c,v) for d,o,h,l,c,v in zip(data.index, data['open'], data['high'], data['low'], data['close'], data['volume'])]\n",
    "        alligator = indicators.get_alligator(quotes)\n",
    "        fractal = indicators.get_fractal(quotes, self.fractal_size)\n",
    "        result = data.copy()\n",
    "        result[\"jaw\"] = [ a.jaw for a in alligator]\n",
    "        result[\"teeth\"] = [ a.teeth for a in alligator]\n",
    "        result[\"lips\"] = [ a.lips for a in alligator]\n",
    "        result[\"fractal_bear\"] = [ f.fractal_bear if f.fractal_bear != None else np.nan for f in fractal]\n",
    "        result[\"fractal_bull\"] = [ f.fractal_bull if f.fractal_bull != None else np.nan for f in fractal]\n",
    "        \n",
    "        return result\n",
    "\n",
    "    # helper\n",
    "    def get_params(self,data):\n",
    "        \n",
    "        index = data.tail(1).index[0]\n",
    "        prev_index = data.tail(2).index[0]\n",
    "        fractal_index = data.tail(self.fractal_size+1).index[0]\n",
    "        return (\n",
    "                index,\n",
    "                data.at[index, 'open'], \n",
    "                data.at[index, 'close'],\n",
    "                data.at[index, 'high'],\n",
    "                data.at[index, 'low'],\n",
    "                data.at[index, 'volume'],\n",
    "\n",
    "                data.at[index, 'jaw'  ] if data.at[index, 'jaw'  ] != None else np.nan,\n",
    "                data.at[index, 'teeth'] if data.at[index, 'teeth'] != None else np.nan,\n",
    "                data.at[index, 'lips' ] if data.at[index, 'lips' ] != None else np.nan,\n",
    "\n",
    "                data.at[prev_index, 'jaw'  ] if data.at[prev_index, 'jaw'  ] != None else np.nan,\n",
    "                data.at[prev_index, 'teeth'] if data.at[prev_index, 'teeth'] != None else np.nan,\n",
    "                data.at[prev_index, 'lips' ] if data.at[prev_index, 'lips' ] != None else np.nan,\n",
    "\n",
    "                data.at[fractal_index, 'fractal_bear'],\n",
    "                data.at[fractal_index, 'fractal_bull']\n",
    "           )\n",
    "    \n",
    "    # обработка шага стратегии\n",
    "    def next(self, data):\n",
    "\n",
    "        \n",
    "        # инициализация локальных переменных\n",
    "        indicators = self.calc_indicators(data)\n",
    "        (\n",
    "            time,   open_,  close,   high,   low,   volume,   \n",
    "            jaw,   teeth,   lips,   \n",
    "            prev_jaw,   prev_teeth,   prev_lips,\n",
    "            fractal_bear,   fractal_bull\n",
    "        )   = self.get_params(indicators)\n",
    "\n",
    "        command = StrategyCommand.CLOSE\n",
    "        stop_loss = lips\n",
    "        last_row = indicators.tail(1).copy()\n",
    "        last_row.loc[ last_row.index[0], 'fractal_bull'] = fractal_bull \n",
    "        last_row.loc[ last_row.index[0], 'fractal_bear'] = fractal_bear\n",
    "        \n",
    "        # прерываем исполнение, если недостаточно данных\n",
    "        if ( math.isnan(jaw) or \n",
    "             math.isnan(teeth) or \n",
    "             math.isnan(lips) or\n",
    "             volume == 0 \n",
    "            #or len(indicators.index) < self.frame_size\n",
    "           ):\n",
    "            return command, stop_loss, last_row\n",
    "        \n",
    "        #Определяем значение команды \n",
    "        # проверки на быка\n",
    "        # проверяем главное условие аллигатора\n",
    "        if   ( close > lips and lips > teeth and lips > jaw):\n",
    "            command = StrategyCommand.BULL_HOLD\n",
    "            \n",
    "                \n",
    "            if(\n",
    "                # проверяем, что условие наступило только на текущем баре, а не сохраняется уже давно\n",
    "                (lips >= low  or not (prev_lips > prev_teeth and prev_lips > prev_jaw) or math.isnan(prev_jaw))\n",
    "                \n",
    "                # проверяем доп. условие входа по пробитию уровня, чтобы отсечь мелкие тренды\n",
    "                and (not self.fractal_in_enabled or indicators['fractal_bear'].sum() > 0 and np.nanmin(indicators['fractal_bear']) < close)\n",
    "            ):    \n",
    "                command = StrategyCommand.BULL_GO\n",
    "\n",
    "        #проверки на медведя\n",
    "        # проверяем главное условие аллигатора\n",
    "        elif ( close < lips and lips < teeth and lips < jaw ):\n",
    "            command = StrategyCommand.BEAR_HOLD\n",
    "            \n",
    "                \n",
    "            if (\n",
    "                # проверяем, что условие наступило только на текущем баре, а не сохраняется уже давно\n",
    "                (lips <= high or not (prev_lips < prev_teeth and prev_lips < prev_jaw) or math.isnan(prev_jaw))\n",
    "                \n",
    "                # проверяем доп. условие входа по пробитию уровня, чтобы отсечь мелкие тренды\n",
    "                and (not self.fractal_in_enabled or indicators['fractal_bull'].sum() > 0 and np.nanmax(indicators['fractal_bull']) > close)\n",
    "            ):\n",
    "                command = StrategyCommand.BEAR_GO\n",
    "            \n",
    "        # проверка на выход из позиции по фракталу\n",
    "        if (\n",
    "            #прерывание быка по медвежему фракталу\n",
    "            (\n",
    "                (command == StrategyCommand.BULL_GO or command == StrategyCommand.BULL_HOLD)\n",
    "                and not math.isnan(fractal_bear) and self.fractal_out_enabled\n",
    "            )\n",
    "            #прерыване медведя по бычьему фракталу\n",
    "            or (\n",
    "                (command == StrategyCommand.BEAR_GO or command == StrategyCommand.BEAR_HOLD)\n",
    "                and not math.isnan(fractal_bull) and self.fractal_out_enabled\n",
    "            )   \n",
    "        ):\n",
    "            command = StrategyCommand.CLOSE\n",
    "\n",
    "        return command, stop_loss, last_row"
   ]
  },
  {
   "cell_type": "code",
   "execution_count": null,
   "id": "3f10b7d7-591b-4d26-9bc2-784422294f68",
   "metadata": {},
   "outputs": [],
   "source": []
  },
  {
   "cell_type": "code",
   "execution_count": null,
   "id": "78973b39-d293-4ca7-b5c6-204eaa672748",
   "metadata": {},
   "outputs": [],
   "source": []
  },
  {
   "cell_type": "code",
   "execution_count": null,
   "id": "b0ad75f5-6975-4a39-a367-01a64c0cbef7",
   "metadata": {},
   "outputs": [],
   "source": []
  },
  {
   "cell_type": "code",
   "execution_count": null,
   "id": "a9261bba-b1c9-41a3-b627-e167f205041a",
   "metadata": {},
   "outputs": [],
   "source": []
  },
  {
   "cell_type": "code",
   "execution_count": null,
   "id": "e09f0d09-ec76-482e-9296-eaf71b362c3c",
   "metadata": {},
   "outputs": [],
   "source": []
  }
 ],
 "metadata": {
  "kernelspec": {
   "display_name": "Python 3 (ipykernel)",
   "language": "python",
   "name": "python3"
  },
  "language_info": {
   "codemirror_mode": {
    "name": "ipython",
    "version": 3
   },
   "file_extension": ".py",
   "mimetype": "text/x-python",
   "name": "python",
   "nbconvert_exporter": "python",
   "pygments_lexer": "ipython3",
   "version": "3.12.7"
  }
 },
 "nbformat": 4,
 "nbformat_minor": 5
}
