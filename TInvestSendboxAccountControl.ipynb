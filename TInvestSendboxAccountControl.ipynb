{
 "cells": [
  {
   "cell_type": "code",
   "execution_count": 27,
   "id": "3c5d18b4-0586-4c02-bec5-cd987f83efba",
   "metadata": {},
   "outputs": [],
   "source": [
    "import os\n",
    "from decimal import Decimal\n",
    "from datetime import datetime, time, timedelta\n",
    "import pytz\n",
    "\n",
    "from dotenv import load_dotenv\n",
    "import pandas as pd\n",
    "\n",
    "from tinkoff.invest.sandbox.client import SandboxClient\n",
    "from tinkoff.invest import InstrumentIdType, InstrumentStatus, MoneyValue, CandleInterval\n",
    "from tinkoff.invest.utils import decimal_to_quotation, quotation_to_decimal\n",
    "# InstrumentExchangeType"
   ]
  },
  {
   "cell_type": "code",
   "execution_count": 6,
   "id": "e9cf7a27-58b1-4fae-b01d-2003b99c6d83",
   "metadata": {},
   "outputs": [],
   "source": [
    "load_dotenv()\n",
    "t_invest_token = os.getenv('TINVEST_TOKEN')"
   ]
  },
  {
   "cell_type": "markdown",
   "id": "b2d5bfca-2f4c-4e06-a64c-567e7baa2e91",
   "metadata": {},
   "source": [
    "To create a jupyter_notebook_config.py file, with all the defaults commented out, you can use the following command line:\n",
    "\n",
    "$ jupyter notebook --generate-config\n",
    "\n",
    "Open the file and search for c.NotebookApp.iopub_data_rate_limit\n",
    "\n",
    "Comment out the line c.NotebookApp.iopub_data_rate_limit = 1000000 and change it to a higher default rate. l used c.NotebookApp.iopub_data_rate_limit = 10000000"
   ]
  },
  {
   "cell_type": "code",
   "execution_count": null,
   "id": "c2647cb9-bd0f-4126-9ab7-1e35480e4340",
   "metadata": {},
   "outputs": [],
   "source": []
  },
  {
   "cell_type": "code",
   "execution_count": null,
   "id": "e1d2c472-2421-45c8-a8d9-b00fb2313b19",
   "metadata": {},
   "outputs": [],
   "source": []
  },
  {
   "cell_type": "code",
   "execution_count": null,
   "id": "a0abfdb3-bdf5-4d20-9901-14e79fa318a3",
   "metadata": {},
   "outputs": [],
   "source": []
  },
  {
   "cell_type": "markdown",
   "id": "3d72d250-49fc-4018-9dc9-6fb49c61b555",
   "metadata": {},
   "source": [
    "# Получение текущего состояния"
   ]
  },
  {
   "cell_type": "code",
   "execution_count": 7,
   "id": "cf86c791-3847-4466-ac60-edd21bffd295",
   "metadata": {},
   "outputs": [
    {
     "name": "stdout",
     "output_type": "stream",
     "text": [
      "GetInfoResponse(prem_status=False, qual_status=False, qualified_for_work_with=['derivative', 'structured_bonds', 'closed_fund', 'bond', 'structured_income_bonds', 'russian_shares', 'leverage', 'foreign_shares', 'foreign_etf', 'foreign_bond', 'option'], tariff='sandbox', user_id='', risk_level_code='')\n",
      "------\n",
      "GetAccountsResponse(accounts=[Account(id='675e84ac-36da-4c28-a737-4c82f8e1f3ee', type=<AccountType.ACCOUNT_TYPE_TINKOFF: 1>, name='SimpleMomentumBot1', status=<AccountStatus.ACCOUNT_STATUS_OPEN: 2>, opened_date=datetime.datetime(2025, 5, 17, 9, 55, 2, 998807, tzinfo=datetime.timezone.utc), closed_date=datetime.datetime(1970, 1, 1, 0, 0, tzinfo=datetime.timezone.utc), access_level=<AccessLevel.ACCOUNT_ACCESS_LEVEL_FULL_ACCESS: 1>)])\n",
      "------\n",
      "GetMarginAttributesResponse(liquid_portfolio=MoneyValue(currency='rub', units=50000, nano=0), starting_margin=MoneyValue(currency='rub', units=0, nano=0), minimal_margin=MoneyValue(currency='rub', units=0, nano=0), funds_sufficiency_level=Quotation(units=2, nano=0), amount_of_missing_funds=MoneyValue(currency='rub', units=0, nano=0), corrected_margin=MoneyValue(currency='rub', units=0, nano=0))\n",
      "------\n"
     ]
    }
   ],
   "source": [
    "with SandboxClient(t_invest_token) as client:\n",
    "        print(client.users.get_info())\n",
    "        print(\"------\")\n",
    "        print(client.users.get_accounts())\n",
    "        print(\"------\")\n",
    "        print(client.users.get_margin_attributes(account_id='675e84ac-36da-4c28-a737-4c82f8e1f3ee') )\n",
    "        print(\"------\")\n",
    "        #print(client.users.get_user_tariff() )"
   ]
  },
  {
   "cell_type": "code",
   "execution_count": null,
   "id": "c6916f74-e869-4d8e-b4ff-92faaa3c88d9",
   "metadata": {},
   "outputs": [],
   "source": []
  },
  {
   "cell_type": "code",
   "execution_count": null,
   "id": "d0ce4251-bbb7-4ea5-835c-5c254acd8985",
   "metadata": {},
   "outputs": [],
   "source": []
  },
  {
   "cell_type": "code",
   "execution_count": null,
   "id": "3d2f15a1-30a0-44fb-bfd3-84be3dee68b8",
   "metadata": {},
   "outputs": [],
   "source": []
  },
  {
   "cell_type": "markdown",
   "id": "a9f7a149-a2df-46d0-acb1-6694323f381d",
   "metadata": {},
   "source": [
    "# Добавление аккаунта в песочницу"
   ]
  },
  {
   "cell_type": "code",
   "execution_count": 18,
   "id": "1510d93c-a8a1-41ac-bc64-3a9ea6977d5b",
   "metadata": {},
   "outputs": [],
   "source": [
    "#with SandboxClient(t_invest_token) as client:\n",
    "#        client.sandbox.open_sandbox_account(name=\"SimpleMomentumBot1\")"
   ]
  },
  {
   "cell_type": "code",
   "execution_count": 30,
   "id": "3e64c1f2-1909-4a78-a956-714e2c0ca67e",
   "metadata": {},
   "outputs": [],
   "source": [
    "#with SandboxClient(t_invest_token) as client:\n",
    "#    money = decimal_to_quotation(Decimal(50000))    \n",
    "#    client.sandbox.sandbox_pay_in(account_id='675e84ac-36da-4c28-a737-4c82f8e1f3ee', \n",
    "#                                  amount=MoneyValue(units=money.units, nano=money.nano, currency='rub'))"
   ]
  },
  {
   "cell_type": "code",
   "execution_count": null,
   "id": "7ddefcc2-661c-4852-91ef-0624ab2ced4c",
   "metadata": {},
   "outputs": [],
   "source": []
  },
  {
   "cell_type": "markdown",
   "id": "39b66c5b-ca6b-4bf6-91a2-a0463cf75ac9",
   "metadata": {},
   "source": [
    "# Получение фьючерса"
   ]
  },
  {
   "cell_type": "code",
   "execution_count": 60,
   "id": "7c0b58f0-5725-4449-8d35-76a5722c58b8",
   "metadata": {},
   "outputs": [],
   "source": [
    "ticker = \"GDM5\""
   ]
  },
  {
   "cell_type": "code",
   "execution_count": 61,
   "id": "c33a4734-a86e-4604-9986-d7b4532881ec",
   "metadata": {},
   "outputs": [],
   "source": [
    "data = []\n",
    "with SandboxClient(t_invest_token) as client:\n",
    "    #print(client.instruments.future_by(id=\"GDM5\", id_type=InstrumentIdType.INSTRUMENT_ID_TYPE_TICKER, class_code=\"future\"))\n",
    "    fs = list(filter(lambda x: x.ticker == ticker,  client.instruments.futures().instruments))    \n",
    "    if(len(fs) > 0):\n",
    "        figi = fs[0].figi     \n",
    "        for candle in client.get_all_candles(\n",
    "            figi=figi,\n",
    "            #from_=pytz.UTC.localize(datetime.combine(datetime.now(), time.min) - timedelta(days=1)),\n",
    "            from_=pytz.UTC.localize(datetime(2025,3,1)),\n",
    "            interval=CandleInterval.CANDLE_INTERVAL_1_MIN,\n",
    "        ):\n",
    "            data += [\n",
    "                [\n",
    "                 candle.time,\n",
    "                 float(quotation_to_decimal(candle.open)), \n",
    "                 float(quotation_to_decimal(candle.close)),\n",
    "                 float(quotation_to_decimal(candle.high)),\n",
    "                 float(quotation_to_decimal(candle.low)),\n",
    "                 candle.volume\n",
    "                ]]\n",
    "\n",
    "ticker_data_draft = pd.DataFrame(data, columns=['UTC', 'open', 'close','high','low','volume']) "
   ]
  },
  {
   "cell_type": "code",
   "execution_count": 62,
   "id": "561a8517-9d88-4020-9ef5-665df943d148",
   "metadata": {},
   "outputs": [
    {
     "data": {
      "text/html": [
       "<div>\n",
       "<style scoped>\n",
       "    .dataframe tbody tr th:only-of-type {\n",
       "        vertical-align: middle;\n",
       "    }\n",
       "\n",
       "    .dataframe tbody tr th {\n",
       "        vertical-align: top;\n",
       "    }\n",
       "\n",
       "    .dataframe thead th {\n",
       "        text-align: right;\n",
       "    }\n",
       "</style>\n",
       "<table border=\"1\" class=\"dataframe\">\n",
       "  <thead>\n",
       "    <tr style=\"text-align: right;\">\n",
       "      <th></th>\n",
       "      <th>UTC</th>\n",
       "      <th>open</th>\n",
       "      <th>close</th>\n",
       "      <th>high</th>\n",
       "      <th>low</th>\n",
       "      <th>volume</th>\n",
       "    </tr>\n",
       "  </thead>\n",
       "  <tbody>\n",
       "    <tr>\n",
       "      <th>0</th>\n",
       "      <td>2025-03-03 05:59:00+00:00</td>\n",
       "      <td>2932.3</td>\n",
       "      <td>2936.0</td>\n",
       "      <td>2936.0</td>\n",
       "      <td>2932.3</td>\n",
       "      <td>25</td>\n",
       "    </tr>\n",
       "    <tr>\n",
       "      <th>1</th>\n",
       "      <td>2025-03-03 06:00:00+00:00</td>\n",
       "      <td>2936.3</td>\n",
       "      <td>2939.0</td>\n",
       "      <td>2939.0</td>\n",
       "      <td>2936.3</td>\n",
       "      <td>69</td>\n",
       "    </tr>\n",
       "    <tr>\n",
       "      <th>2</th>\n",
       "      <td>2025-03-03 06:01:00+00:00</td>\n",
       "      <td>2938.8</td>\n",
       "      <td>2938.8</td>\n",
       "      <td>2938.8</td>\n",
       "      <td>2938.8</td>\n",
       "      <td>1</td>\n",
       "    </tr>\n",
       "    <tr>\n",
       "      <th>3</th>\n",
       "      <td>2025-03-03 06:02:00+00:00</td>\n",
       "      <td>2938.6</td>\n",
       "      <td>2938.7</td>\n",
       "      <td>2938.7</td>\n",
       "      <td>2938.6</td>\n",
       "      <td>8</td>\n",
       "    </tr>\n",
       "    <tr>\n",
       "      <th>4</th>\n",
       "      <td>2025-03-03 06:03:00+00:00</td>\n",
       "      <td>2938.6</td>\n",
       "      <td>2938.8</td>\n",
       "      <td>2938.8</td>\n",
       "      <td>2938.6</td>\n",
       "      <td>11</td>\n",
       "    </tr>\n",
       "    <tr>\n",
       "      <th>...</th>\n",
       "      <td>...</td>\n",
       "      <td>...</td>\n",
       "      <td>...</td>\n",
       "      <td>...</td>\n",
       "      <td>...</td>\n",
       "      <td>...</td>\n",
       "    </tr>\n",
       "    <tr>\n",
       "      <th>48393</th>\n",
       "      <td>2025-05-23 20:45:00+00:00</td>\n",
       "      <td>3355.2</td>\n",
       "      <td>3355.1</td>\n",
       "      <td>3355.5</td>\n",
       "      <td>3354.7</td>\n",
       "      <td>35</td>\n",
       "    </tr>\n",
       "    <tr>\n",
       "      <th>48394</th>\n",
       "      <td>2025-05-23 20:46:00+00:00</td>\n",
       "      <td>3355.1</td>\n",
       "      <td>3355.0</td>\n",
       "      <td>3355.1</td>\n",
       "      <td>3354.8</td>\n",
       "      <td>243</td>\n",
       "    </tr>\n",
       "    <tr>\n",
       "      <th>48395</th>\n",
       "      <td>2025-05-23 20:47:00+00:00</td>\n",
       "      <td>3355.0</td>\n",
       "      <td>3356.5</td>\n",
       "      <td>3356.5</td>\n",
       "      <td>3355.0</td>\n",
       "      <td>123</td>\n",
       "    </tr>\n",
       "    <tr>\n",
       "      <th>48396</th>\n",
       "      <td>2025-05-23 20:48:00+00:00</td>\n",
       "      <td>3356.5</td>\n",
       "      <td>3357.4</td>\n",
       "      <td>3357.4</td>\n",
       "      <td>3356.5</td>\n",
       "      <td>105</td>\n",
       "    </tr>\n",
       "    <tr>\n",
       "      <th>48397</th>\n",
       "      <td>2025-05-23 20:49:00+00:00</td>\n",
       "      <td>3357.1</td>\n",
       "      <td>3357.5</td>\n",
       "      <td>3357.5</td>\n",
       "      <td>3356.5</td>\n",
       "      <td>243</td>\n",
       "    </tr>\n",
       "  </tbody>\n",
       "</table>\n",
       "<p>48398 rows × 6 columns</p>\n",
       "</div>"
      ],
      "text/plain": [
       "                            UTC    open   close    high     low  volume\n",
       "0     2025-03-03 05:59:00+00:00  2932.3  2936.0  2936.0  2932.3      25\n",
       "1     2025-03-03 06:00:00+00:00  2936.3  2939.0  2939.0  2936.3      69\n",
       "2     2025-03-03 06:01:00+00:00  2938.8  2938.8  2938.8  2938.8       1\n",
       "3     2025-03-03 06:02:00+00:00  2938.6  2938.7  2938.7  2938.6       8\n",
       "4     2025-03-03 06:03:00+00:00  2938.6  2938.8  2938.8  2938.6      11\n",
       "...                         ...     ...     ...     ...     ...     ...\n",
       "48393 2025-05-23 20:45:00+00:00  3355.2  3355.1  3355.5  3354.7      35\n",
       "48394 2025-05-23 20:46:00+00:00  3355.1  3355.0  3355.1  3354.8     243\n",
       "48395 2025-05-23 20:47:00+00:00  3355.0  3356.5  3356.5  3355.0     123\n",
       "48396 2025-05-23 20:48:00+00:00  3356.5  3357.4  3357.4  3356.5     105\n",
       "48397 2025-05-23 20:49:00+00:00  3357.1  3357.5  3357.5  3356.5     243\n",
       "\n",
       "[48398 rows x 6 columns]"
      ]
     },
     "execution_count": 62,
     "metadata": {},
     "output_type": "execute_result"
    }
   ],
   "source": [
    "ticker_data_draft"
   ]
  },
  {
   "cell_type": "code",
   "execution_count": 66,
   "id": "f332fe1b-8889-40e8-a7c8-a76044d3f460",
   "metadata": {},
   "outputs": [],
   "source": [
    "ticker_data_draft.to_csv(\"data\\\\2025-\"+ticker+\"\\\\2025-\"+ticker+\".csv\", sep=';', encoding='utf-8', header=False)"
   ]
  },
  {
   "cell_type": "code",
   "execution_count": 64,
   "id": "9ba28acf-6178-4241-9a3a-c9c0fdebac52",
   "metadata": {},
   "outputs": [],
   "source": [
    "ticker_data = ticker_data_draft.copy()\n",
    "ticker_data.index = pd.DatetimeIndex(ticker_data_draft['UTC'])\n",
    "ticker_data.drop(['UTC'], axis=1, inplace=True)"
   ]
  },
  {
   "cell_type": "code",
   "execution_count": 65,
   "id": "29442290-a5dc-4e85-b73c-56368f11b195",
   "metadata": {},
   "outputs": [
    {
     "data": {
      "text/html": [
       "<div>\n",
       "<style scoped>\n",
       "    .dataframe tbody tr th:only-of-type {\n",
       "        vertical-align: middle;\n",
       "    }\n",
       "\n",
       "    .dataframe tbody tr th {\n",
       "        vertical-align: top;\n",
       "    }\n",
       "\n",
       "    .dataframe thead th {\n",
       "        text-align: right;\n",
       "    }\n",
       "</style>\n",
       "<table border=\"1\" class=\"dataframe\">\n",
       "  <thead>\n",
       "    <tr style=\"text-align: right;\">\n",
       "      <th></th>\n",
       "      <th>open</th>\n",
       "      <th>close</th>\n",
       "      <th>high</th>\n",
       "      <th>low</th>\n",
       "      <th>volume</th>\n",
       "    </tr>\n",
       "    <tr>\n",
       "      <th>UTC</th>\n",
       "      <th></th>\n",
       "      <th></th>\n",
       "      <th></th>\n",
       "      <th></th>\n",
       "      <th></th>\n",
       "    </tr>\n",
       "  </thead>\n",
       "  <tbody>\n",
       "    <tr>\n",
       "      <th>2025-03-03 05:59:00+00:00</th>\n",
       "      <td>2932.3</td>\n",
       "      <td>2936.0</td>\n",
       "      <td>2936.0</td>\n",
       "      <td>2932.3</td>\n",
       "      <td>25</td>\n",
       "    </tr>\n",
       "    <tr>\n",
       "      <th>2025-03-03 06:00:00+00:00</th>\n",
       "      <td>2936.3</td>\n",
       "      <td>2939.0</td>\n",
       "      <td>2939.0</td>\n",
       "      <td>2936.3</td>\n",
       "      <td>69</td>\n",
       "    </tr>\n",
       "    <tr>\n",
       "      <th>2025-03-03 06:01:00+00:00</th>\n",
       "      <td>2938.8</td>\n",
       "      <td>2938.8</td>\n",
       "      <td>2938.8</td>\n",
       "      <td>2938.8</td>\n",
       "      <td>1</td>\n",
       "    </tr>\n",
       "    <tr>\n",
       "      <th>2025-03-03 06:02:00+00:00</th>\n",
       "      <td>2938.6</td>\n",
       "      <td>2938.7</td>\n",
       "      <td>2938.7</td>\n",
       "      <td>2938.6</td>\n",
       "      <td>8</td>\n",
       "    </tr>\n",
       "    <tr>\n",
       "      <th>2025-03-03 06:03:00+00:00</th>\n",
       "      <td>2938.6</td>\n",
       "      <td>2938.8</td>\n",
       "      <td>2938.8</td>\n",
       "      <td>2938.6</td>\n",
       "      <td>11</td>\n",
       "    </tr>\n",
       "    <tr>\n",
       "      <th>...</th>\n",
       "      <td>...</td>\n",
       "      <td>...</td>\n",
       "      <td>...</td>\n",
       "      <td>...</td>\n",
       "      <td>...</td>\n",
       "    </tr>\n",
       "    <tr>\n",
       "      <th>2025-05-23 20:45:00+00:00</th>\n",
       "      <td>3355.2</td>\n",
       "      <td>3355.1</td>\n",
       "      <td>3355.5</td>\n",
       "      <td>3354.7</td>\n",
       "      <td>35</td>\n",
       "    </tr>\n",
       "    <tr>\n",
       "      <th>2025-05-23 20:46:00+00:00</th>\n",
       "      <td>3355.1</td>\n",
       "      <td>3355.0</td>\n",
       "      <td>3355.1</td>\n",
       "      <td>3354.8</td>\n",
       "      <td>243</td>\n",
       "    </tr>\n",
       "    <tr>\n",
       "      <th>2025-05-23 20:47:00+00:00</th>\n",
       "      <td>3355.0</td>\n",
       "      <td>3356.5</td>\n",
       "      <td>3356.5</td>\n",
       "      <td>3355.0</td>\n",
       "      <td>123</td>\n",
       "    </tr>\n",
       "    <tr>\n",
       "      <th>2025-05-23 20:48:00+00:00</th>\n",
       "      <td>3356.5</td>\n",
       "      <td>3357.4</td>\n",
       "      <td>3357.4</td>\n",
       "      <td>3356.5</td>\n",
       "      <td>105</td>\n",
       "    </tr>\n",
       "    <tr>\n",
       "      <th>2025-05-23 20:49:00+00:00</th>\n",
       "      <td>3357.1</td>\n",
       "      <td>3357.5</td>\n",
       "      <td>3357.5</td>\n",
       "      <td>3356.5</td>\n",
       "      <td>243</td>\n",
       "    </tr>\n",
       "  </tbody>\n",
       "</table>\n",
       "<p>48398 rows × 5 columns</p>\n",
       "</div>"
      ],
      "text/plain": [
       "                             open   close    high     low  volume\n",
       "UTC                                                              \n",
       "2025-03-03 05:59:00+00:00  2932.3  2936.0  2936.0  2932.3      25\n",
       "2025-03-03 06:00:00+00:00  2936.3  2939.0  2939.0  2936.3      69\n",
       "2025-03-03 06:01:00+00:00  2938.8  2938.8  2938.8  2938.8       1\n",
       "2025-03-03 06:02:00+00:00  2938.6  2938.7  2938.7  2938.6       8\n",
       "2025-03-03 06:03:00+00:00  2938.6  2938.8  2938.8  2938.6      11\n",
       "...                           ...     ...     ...     ...     ...\n",
       "2025-05-23 20:45:00+00:00  3355.2  3355.1  3355.5  3354.7      35\n",
       "2025-05-23 20:46:00+00:00  3355.1  3355.0  3355.1  3354.8     243\n",
       "2025-05-23 20:47:00+00:00  3355.0  3356.5  3356.5  3355.0     123\n",
       "2025-05-23 20:48:00+00:00  3356.5  3357.4  3357.4  3356.5     105\n",
       "2025-05-23 20:49:00+00:00  3357.1  3357.5  3357.5  3356.5     243\n",
       "\n",
       "[48398 rows x 5 columns]"
      ]
     },
     "execution_count": 65,
     "metadata": {},
     "output_type": "execute_result"
    }
   ],
   "source": [
    "ticker_data"
   ]
  },
  {
   "cell_type": "code",
   "execution_count": null,
   "id": "a593466a-c028-431b-a53e-eeba52a6392a",
   "metadata": {},
   "outputs": [],
   "source": []
  },
  {
   "cell_type": "code",
   "execution_count": null,
   "id": "0a28506f-2f55-4f08-ad37-c931b266d87b",
   "metadata": {},
   "outputs": [],
   "source": []
  },
  {
   "cell_type": "code",
   "execution_count": null,
   "id": "db1f7bf0-163d-4c18-a7ac-b148c7627e7a",
   "metadata": {},
   "outputs": [],
   "source": []
  },
  {
   "cell_type": "markdown",
   "id": "9dede94d-2bbf-4352-ad64-0853134d84c6",
   "metadata": {},
   "source": [
    "# Размещение заявок"
   ]
  },
  {
   "cell_type": "code",
   "execution_count": 68,
   "id": "ad13fd74-97e3-4ec0-862a-5ad64b0f56de",
   "metadata": {},
   "outputs": [
    {
     "name": "stdout",
     "output_type": "stream",
     "text": [
      "GetTradingStatusesResponse(trading_statuses=[GetTradingStatusResponse(figi='BBG004730N88', trading_status=<SecurityTradingStatus.SECURITY_TRADING_STATUS_NOT_AVAILABLE_FOR_TRADING: 1>, limit_order_available_flag=False, market_order_available_flag=False, api_trade_available_flag=True, instrument_uid='e6123145-9665-43e0-8413-cd61b8aa9b13', bestprice_order_available_flag=False, only_best_price=False)])\n"
     ]
    }
   ],
   "source": [
    "with SandboxClient(t_invest_token) as client:\n",
    "    statuses = client.market_data.get_trading_statuses(instrument_ids=[\"BBG004730N88\"])\n",
    "    print(statuses)"
   ]
  },
  {
   "cell_type": "code",
   "execution_count": null,
   "id": "3bc0b4e0-2783-4370-91ae-219e1bb0f5a6",
   "metadata": {},
   "outputs": [],
   "source": []
  },
  {
   "cell_type": "code",
   "execution_count": null,
   "id": "44437290-a338-4292-9ba3-ca55da2b6eb3",
   "metadata": {},
   "outputs": [],
   "source": []
  },
  {
   "cell_type": "code",
   "execution_count": null,
   "id": "d240858b-27eb-4442-865b-a9cff76af87f",
   "metadata": {},
   "outputs": [],
   "source": []
  },
  {
   "cell_type": "code",
   "execution_count": null,
   "id": "43c2d564-c99c-4c52-836f-8df8fa8ca468",
   "metadata": {},
   "outputs": [],
   "source": []
  },
  {
   "cell_type": "code",
   "execution_count": null,
   "id": "66925ac6-72fe-4c20-8650-5f207ff54bfb",
   "metadata": {},
   "outputs": [],
   "source": []
  }
 ],
 "metadata": {
  "kernelspec": {
   "display_name": "Python 3 (ipykernel)",
   "language": "python",
   "name": "python3"
  },
  "language_info": {
   "codemirror_mode": {
    "name": "ipython",
    "version": 3
   },
   "file_extension": ".py",
   "mimetype": "text/x-python",
   "name": "python",
   "nbconvert_exporter": "python",
   "pygments_lexer": "ipython3",
   "version": "3.12.7"
  }
 },
 "nbformat": 4,
 "nbformat_minor": 5
}
